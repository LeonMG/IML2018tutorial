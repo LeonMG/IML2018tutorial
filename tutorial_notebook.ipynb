{
 "cells": [
  {
   "cell_type": "markdown",
   "metadata": {
    "deletable": true,
    "editable": true
   },
   "source": [
    "# Practical Considerations, Challenges and Constraints in Applying Deep Learning to High Energy Physics\n",
    "### aka a biased point of view on why we need to think hard before using neural nets\n",
    "by Michela Paganini (Yale) and "
   ]
  },
  {
   "cell_type": "markdown",
   "metadata": {
    "deletable": true,
    "editable": true
   },
   "source": [
    "### Yielding batches can be a bottleneck"
   ]
  },
  {
   "cell_type": "code",
   "execution_count": null,
   "metadata": {
    "collapsed": true
   },
   "outputs": [],
   "source": []
  },
  {
   "cell_type": "markdown",
   "metadata": {
    "deletable": true,
    "editable": true
   },
   "source": [
    "### Feature normalization"
   ]
  },
  {
   "cell_type": "code",
   "execution_count": null,
   "metadata": {
    "collapsed": true
   },
   "outputs": [],
   "source": [
    "# show how trainig fails if you don't"
   ]
  },
  {
   "cell_type": "markdown",
   "metadata": {
    "deletable": true,
    "editable": true
   },
   "source": [
    "### Data in ROOT files"
   ]
  },
  {
   "cell_type": "code",
   "execution_count": null,
   "metadata": {
    "collapsed": true
   },
   "outputs": [],
   "source": [
    "# root_numpy (uproot? others?)"
   ]
  },
  {
   "cell_type": "markdown",
   "metadata": {
    "deletable": true,
    "editable": true
   },
   "source": [
    "### No natural order in sequence"
   ]
  },
  {
   "cell_type": "markdown",
   "metadata": {
    "deletable": true,
    "editable": true
   },
   "source": [
    "Using \"Jet Flavor dataset\" from UCI and available at: http://mlphysics.ics.uci.edu/data/hb_jet_flavor_2016/"
   ]
  },
  {
   "cell_type": "markdown",
   "metadata": {
    "deletable": true,
    "editable": true
   },
   "source": [
    "> **Description**:\n",
    "Each line is a data sample. Each sample contains variables related to jet kinematics, tracks, vertex and high level features.\n",
    "Each track contains 20 variables and each sample has a variable number of tracks.\n",
    "Each vertex contains 8 variables and each sample has a variable number of vertices.\n",
    "For each sample there are 14 high level variables.\n",
    "\n",
    ">The variables can be subdivided into 3 categories; low level, medium level and high level. Each one of these is constructed strictly using information from the previous level so low level < medium level < high level.\n",
    "The low level variables are the tracks + jet kinematics variables.\n",
    "The medium level variables are tracks + vertices + jet kinematics variables.\n",
    "The high level are high level features + jet kinematics variables.\n",
    "\n",
    "\n",
    ">**Label variable**:\n",
    "\n",
    ">0: Light Jet (Background)\n",
    "\n",
    ">4: Charm Jet (Background)\n",
    "\n",
    ">5: Bottom Jet (Signal)\n",
    "\n",
    "\n",
    ">**Feature description**\n",
    "\n",
    ">Each sample looks like this:\n",
    "`jet_pt, jet_eta, flavor, {high level track variables}, {high level vertex variables},\n",
    "[{{track_variables}, {track_covariance}, {track_weight}, {vertex_variables}}, …,  }]`.\n",
    "\n",
    ">*High level variables*:\n",
    "The high level variables are sub-divided as  `{{high_level_track_variables}, {high_level_vertex_variables}}`.\n",
    "Where the `{high_level_tracking_variables}` are:\n",
    "`track_2_d0_significance, track_3_d0_significance,\n",
    "track_2_z0_significance, track_3_z0_significance,\n",
    "n_tracks_over_d0_threshold, jet_prob, jet_width_eta, jet_width_phi`,\n",
    "and the `{high_level_vertex_variables}` are:\n",
    "`vertex_significance, n_secondary_vertices, n_secondary_vertex_tracks,\n",
    "delta_r_vertex, vertex_mass, vertex_energy_fraction`\n",
    "\n",
    ">The track and vertex variables are organized as\n",
    "`{{track_variables}, {track_covariance}, {track_weight}, {vertex_variables}}`\n",
    "\n",
    ">The track variables are given by:\n",
    "`D0`, `Z0`, `PHI`, `THETA`, `QOVERP`\n",
    "\n",
    ">Track covariance is given by:\n",
    "`D0D0`, \n",
    "`Z0D0`, `Z0Z0`, \n",
    "`PHID0`, `PHIZ0`, `PHIPHI`, \n",
    "`THETAD0`, `THETAZ0`, `THETAPHI`, `THETATHETA`,\n",
    "`QOVERPD0`, `QOVERPZ0`, `QOVERPPHI`, `QOVERPTHETA`, `QOVERPQOVERP`\n",
    "\n",
    ">The track_weight is related to how strongly the track is associated the corresponding vertex, a higher value means the track is a better fit to the vertex.\n",
    "\n",
    ">Vertex variables are taken from the vertex that the track is associated to, and can therefore be identical for several tracks. The variables are as follows: `mass, displacement, delta_eta_jet, delta_phi_jet, displacement_significance, n_tracks, energy_fraction`"
   ]
  },
  {
   "cell_type": "markdown",
   "metadata": {
    "deletable": true,
    "editable": true
   },
   "source": [
    "I preprocessed the data for you, so now we only have 1000 jets, and each jet is only defined by its track and vertex variables."
   ]
  },
  {
   "cell_type": "code",
   "execution_count": 4,
   "metadata": {
    "collapsed": true,
    "deletable": true,
    "editable": true
   },
   "outputs": [],
   "source": [
    "import numpy as np"
   ]
  },
  {
   "cell_type": "code",
   "execution_count": 27,
   "metadata": {
    "collapsed": true,
    "deletable": true,
    "editable": true
   },
   "outputs": [],
   "source": [
    "data = np.load('data.npy')"
   ]
  },
  {
   "cell_type": "markdown",
   "metadata": {
    "deletable": true,
    "editable": true
   },
   "source": [
    "The dataset is in numpy array format and has dimensions `(n_jets, n_tracks, n_features)` where `n_jets=1000`, `n_tracks` is variable, and `n_features=28`. Since `n_tracks` is variable, the shape of the dataset will print as `(n_jets,)`."
   ]
  },
  {
   "cell_type": "code",
   "execution_count": 28,
   "metadata": {
    "collapsed": false,
    "deletable": true,
    "editable": true
   },
   "outputs": [
    {
     "data": {
      "text/plain": [
       "(1000,)"
      ]
     },
     "execution_count": 28,
     "metadata": {},
     "output_type": "execute_result"
    }
   ],
   "source": [
    "data.shape"
   ]
  },
  {
   "cell_type": "code",
   "execution_count": 29,
   "metadata": {
    "collapsed": false,
    "deletable": true,
    "editable": true
   },
   "outputs": [
    {
     "name": "stdout",
     "output_type": "stream",
     "text": [
      "(2, 28) (6, 28) (4, 28)\n"
     ]
    }
   ],
   "source": [
    "print data[0].shape, data[1].shape, data[999].shape"
   ]
  },
  {
   "cell_type": "markdown",
   "metadata": {
    "deletable": true,
    "editable": true
   },
   "source": [
    "The 28 variables describing each jet are: `D0, Z0, PHI, THETA, QOVERP, D0D0,  Z0D0, Z0Z0,  PHID0, PHIZ0, PHIPHI,  THETAD0, THETAZ0, THETAPHI, THETATHETA, QOVERPD0, QOVERPZ0, QOVERPPHI, QOVERPTHETA, QOVERPQOVERP, track_weight, mass, displacement, delta_eta_jet, delta_phi_jet, displacement_significance, n_tracks, energy_fraction`"
   ]
  },
  {
   "cell_type": "markdown",
   "metadata": {
    "deletable": true,
    "editable": true
   },
   "source": [
    "We want to classify these jets based on their labels:"
   ]
  },
  {
   "cell_type": "code",
   "execution_count": 42,
   "metadata": {
    "collapsed": false,
    "deletable": true,
    "editable": true
   },
   "outputs": [
    {
     "name": "stdout",
     "output_type": "stream",
     "text": [
      "Number of entries in y: 1000\n",
      "Available flavors: [0 4 5]\n"
     ]
    }
   ],
   "source": [
    "y = np.load('labels.npy')\n",
    "print 'Number of entries in y:', len(y)\n",
    "print 'Available flavors:', np.unique(y)"
   ]
  },
  {
   "cell_type": "code",
   "execution_count": null,
   "metadata": {
    "collapsed": true,
    "deletable": true,
    "editable": true
   },
   "outputs": [],
   "source": [
    "# Zero pad, order, take all in ffnn\n",
    "# Zero pad, order, take all in rnn\n",
    "# Deep set"
   ]
  },
  {
   "cell_type": "code",
   "execution_count": null,
   "metadata": {
    "collapsed": true,
    "deletable": true,
    "editable": true
   },
   "outputs": [],
   "source": []
  },
  {
   "cell_type": "code",
   "execution_count": null,
   "metadata": {
    "collapsed": true,
    "deletable": true,
    "editable": true
   },
   "outputs": [],
   "source": []
  },
  {
   "cell_type": "markdown",
   "metadata": {
    "deletable": true,
    "editable": true
   },
   "source": [
    "### Heavily preprocessed images with constant structure"
   ]
  },
  {
   "cell_type": "markdown",
   "metadata": {
    "deletable": true,
    "editable": true
   },
   "source": [
    "### Need to decorrelate models from a given feature "
   ]
  },
  {
   "cell_type": "markdown",
   "metadata": {
    "deletable": true,
    "editable": true
   },
   "source": [
    "### Learning with noisy labels"
   ]
  },
  {
   "cell_type": "markdown",
   "metadata": {
    "deletable": true,
    "editable": true
   },
   "source": [
    "### Weights handling"
   ]
  },
  {
   "cell_type": "markdown",
   "metadata": {
    "deletable": true,
    "editable": true
   },
   "source": [
    "### Picking the right metric"
   ]
  },
  {
   "cell_type": "markdown",
   "metadata": {
    "deletable": true,
    "editable": true
   },
   "source": [
    "### Issues with GANs"
   ]
  },
  {
   "cell_type": "markdown",
   "metadata": {
    "deletable": true,
    "editable": true
   },
   "source": [
    "### Domain knowledge in the training"
   ]
  },
  {
   "cell_type": "markdown",
   "metadata": {
    "deletable": true,
    "editable": true
   },
   "source": [
    "### Rolling convolutions"
   ]
  },
  {
   "cell_type": "code",
   "execution_count": null,
   "metadata": {
    "collapsed": true,
    "deletable": true,
    "editable": true
   },
   "outputs": [],
   "source": []
  }
 ],
 "metadata": {
  "kernelspec": {
   "display_name": "Python 2",
   "language": "python",
   "name": "python2"
  },
  "language_info": {
   "codemirror_mode": {
    "name": "ipython",
    "version": 2
   },
   "file_extension": ".py",
   "mimetype": "text/x-python",
   "name": "python",
   "nbconvert_exporter": "python",
   "pygments_lexer": "ipython2",
   "version": "2.7.10"
  },
  "latex_envs": {
   "bibliofile": "biblio.bib",
   "cite_by": "apalike",
   "current_citInitial": 1,
   "eqLabelWithNumbers": true,
   "eqNumInitial": 0
  }
 },
 "nbformat": 4,
 "nbformat_minor": 2
}
