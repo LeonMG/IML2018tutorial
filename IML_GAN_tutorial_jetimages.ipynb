{
 "cells": [
  {
   "cell_type": "markdown",
   "metadata": {
    "deletable": true,
    "editable": true
   },
   "source": [
    "# Advanced HEPML Tutorial \n",
    "**2nd IML Workshop - CERN - Wed. April 11, 2018**"
   ]
  },
  {
   "cell_type": "markdown",
   "metadata": {
    "deletable": true,
    "editable": true
   },
   "source": [
    "Today you will learn:\n",
    "* what _jet-images_ are, and how they differ from natural images\n",
    "* to build and train a Wasserstein-GAN\n",
    "* to modify the architecture to improve its stability and functionality\n",
    "\n",
    "Much of today's tutorial is taken from https://github.com/hep-lbdl/adversarial-jets."
   ]
  },
  {
   "cell_type": "markdown",
   "metadata": {
    "deletable": true,
    "editable": true
   },
   "source": [
    "<p>In this tutorial, we will be using: <img src=\"https://cdn-images-1.medium.com/max/1200/1*jcZLpgh3gppeFFgcpFSP0w.jpeg\" width=\"300\" align=\"top\">\n",
    "\n",
    " > a deep learning framework that puts Python first.\n",
    "\n",
    "<div align=\"center\">- http://pytorch.org/</div>\n",
    "\n",
    "Follow the instructions on the [PyTorch website](http://pytorch.org/) to install on your machine."
   ]
  },
  {
   "cell_type": "code",
   "execution_count": 1,
   "metadata": {
    "collapsed": true,
    "deletable": true,
    "editable": true
   },
   "outputs": [],
   "source": [
    "import torch\n",
    "from torchvision import datasets, transforms"
   ]
  },
  {
   "cell_type": "code",
   "execution_count": 2,
   "metadata": {
    "collapsed": false,
    "deletable": true,
    "editable": true
   },
   "outputs": [
    {
     "data": {
      "text/plain": [
       "'0.3.1'"
      ]
     },
     "execution_count": 2,
     "metadata": {},
     "output_type": "execute_result"
    }
   ],
   "source": [
    "torch.__version__"
   ]
  },
  {
   "cell_type": "markdown",
   "metadata": {
    "deletable": true,
    "editable": true
   },
   "source": [
    "**Dataset**:\n",
    "\n",
    "We will use the jet-images dataset that our group produced for our LAGAN work [[Comput Softw Big Sci (2017) 1: 4](https://link.springer.com/article/10.1007/s41781-017-0004-6)]:\n",
    "\n",
    "[![DOI](https://zenodo.org/badge/DOI/10.17632/4r4v785rgx.1.svg)](https://doi.org/10.17632/4r4v785rgx.1)\n",
    "<a href=\"https://zenodo.org/record/269622#.WgZFPRNSyRs\"><img src=\"https://github.com/YaleATLAS/CERNDeepLearningTutorial/raw/master/images/zenodo.jpg\"></a>"
   ]
  },
  {
   "cell_type": "code",
   "execution_count": 5,
   "metadata": {
    "collapsed": false,
    "deletable": true,
    "editable": true
   },
   "outputs": [
    {
     "name": "stdout",
     "output_type": "stream",
     "text": [
      "Data already exists!\n"
     ]
    }
   ],
   "source": [
    "import os\n",
    "import wget\n",
    "\n",
    "DATAFILE = 'jet-images_Mass60-100_pT250-300_R1.25_Pix25.hdf5'\n",
    "DATAURL = 'https://zenodo.org/record/269622/files/{}'.format(DATAFILE)\n",
    "\n",
    "# download dataset unless it's already present\n",
    "if not os.path.exists(DATAFILE):\n",
    "    print 'Downloading {}'.format(DATAURL)\n",
    "    wget.download(DATAURL)\n",
    "else:\n",
    "    print 'Data already exists!'"
   ]
  },
  {
   "cell_type": "markdown",
   "metadata": {
    "deletable": true,
    "editable": true
   },
   "source": [
    "Pythia is one of the standard generators used in High Energy Physics to simulate the shower evolution in proton collisions.\n",
    "\n",
    "**Jets** are the observable result of quarks and gluons scattering at high energy. A collimated stream of\n",
    "protons and other hadrons forms in the direction of the initiating quark or gluon. Clusters of such\n",
    "particles are called jets. A **jet image** is a two-dimensional representation of the radiation pattern within\n",
    "a jet: the distribution of the locations and energies of the jet’s constituent particles.\n",
    "\n",
    "In this exercise, we won't model the detector response, but we will simply limit ourselves to discretizing the jet energy depositions over a grid of 25x25 cells with side 0.1 in the eta and phi coordinates."
   ]
  },
  {
   "cell_type": "markdown",
   "metadata": {
    "deletable": true,
    "editable": true
   },
   "source": [
    "#### Open dataset using `h5py`"
   ]
  },
  {
   "cell_type": "code",
   "execution_count": 6,
   "metadata": {
    "collapsed": false,
    "deletable": true,
    "editable": true
   },
   "outputs": [],
   "source": [
    "import h5py"
   ]
  },
  {
   "cell_type": "code",
   "execution_count": 7,
   "metadata": {
    "collapsed": false,
    "deletable": true,
    "editable": true
   },
   "outputs": [
    {
     "data": {
      "text/plain": [
       "[u'image',\n",
       " u'jet_delta_R',\n",
       " u'jet_eta',\n",
       " u'jet_mass',\n",
       " u'jet_phi',\n",
       " u'jet_pt',\n",
       " u'signal',\n",
       " u'tau_1',\n",
       " u'tau_2',\n",
       " u'tau_21',\n",
       " u'tau_3',\n",
       " u'tau_32']"
      ]
     },
     "execution_count": 7,
     "metadata": {},
     "output_type": "execute_result"
    }
   ],
   "source": [
    "f = h5py.File(DATAFILE)\n",
    "f.keys()"
   ]
  },
  {
   "cell_type": "code",
   "execution_count": 8,
   "metadata": {
    "collapsed": true,
    "deletable": true,
    "editable": true
   },
   "outputs": [],
   "source": [
    "images = f['image'][:10000]"
   ]
  },
  {
   "cell_type": "code",
   "execution_count": 9,
   "metadata": {
    "collapsed": true,
    "deletable": true,
    "editable": true
   },
   "outputs": [],
   "source": [
    "y = f['signal'][:10000]"
   ]
  },
  {
   "cell_type": "code",
   "execution_count": 10,
   "metadata": {
    "collapsed": false,
    "deletable": true,
    "editable": true
   },
   "outputs": [
    {
     "name": "stdout",
     "output_type": "stream",
     "text": [
      "(10000, 25, 25) (10000,)\n"
     ]
    }
   ],
   "source": [
    "print images.shape, y.shape"
   ]
  },
  {
   "cell_type": "markdown",
   "metadata": {
    "deletable": true,
    "editable": true
   },
   "source": [
    "#### Dataset exploration"
   ]
  },
  {
   "cell_type": "code",
   "execution_count": 11,
   "metadata": {
    "collapsed": false,
    "deletable": true,
    "editable": true
   },
   "outputs": [],
   "source": [
    "import numpy as np\n",
    "import matplotlib\n",
    "import matplotlib.pyplot as plt\n",
    "import matplotlib.cm as cm\n",
    "from matplotlib.colors import LogNorm, Normalize\n",
    "%matplotlib inline"
   ]
  },
  {
   "cell_type": "code",
   "execution_count": 12,
   "metadata": {
    "collapsed": true,
    "deletable": true,
    "editable": true
   },
   "outputs": [],
   "source": [
    "def plot_jet_image(content, vmin=1e-6, vmax=300, title=''):\n",
    "    '''\n",
    "    Function to help you visualize a jet image on a log scale\n",
    "    Args:\n",
    "    -----\n",
    "       content : numpy array of dimensions 25x25, first arg to imshow, content of the image\n",
    "                 e.g.: generated_images.mean(axis=0) --> the average generated image\n",
    "                       real_images.mean(axis=0) --> the average Pythia image\n",
    "                       generated_images[aux_out == 1].mean(axis=0) --> the average generated image labeled as real by the discriminator \n",
    "                       etc...\n",
    "       vmin : (default = 1e-6) float, lower bound of the pixel intensity scale before saturation\n",
    "       vmax : (default = 300) float, upper bound of the pixel intensity scale before saturation\n",
    "       title : (default = '') string, title of the plot, to be displayed on top of the image\n",
    "    '''\n",
    "    fig, ax = plt.subplots(figsize=(7, 6))\n",
    "    extent=[-1.25, 1.25, -1.25, 1.25]\n",
    "    im = ax.imshow(content, interpolation='nearest', norm=LogNorm(vmin=vmin, vmax=vmax), extent=extent)\n",
    "    cbar = plt.colorbar(im, fraction=0.05, pad=0.05)\n",
    "    cbar.set_label(r'Pixel $p_T$ (GeV)', y=0.85)\n",
    "    plt.xlabel(r'[Transformed] Pseudorapidity $(\\eta)$')\n",
    "    plt.ylabel(r'[Transformed] Azimuthal Angle $(\\phi)$')\n",
    "    plt.title(title)"
   ]
  },
  {
   "cell_type": "code",
   "execution_count": 13,
   "metadata": {
    "collapsed": false,
    "deletable": true,
    "editable": true
   },
   "outputs": [
    {
     "data": {
      "image/png": "[encoded data removed]",
      "text/plain": [
       "<matplotlib.figure.Figure at 0x113649850>"
      ]
     },
     "metadata": {},
     "output_type": "display_data"
    }
   ],
   "source": [
    "plot_jet_image(images[0])"
   ]
  },
  {
   "cell_type": "code",
   "execution_count": 14,
   "metadata": {
    "collapsed": true,
    "deletable": true,
    "editable": true
   },
   "outputs": [],
   "source": [
    "# plot a bunch of jet images\n",
    "def plot_random_jetimages(images, njets=6):\n",
    "    f, axarr = plt.subplots(1, njets, figsize=(15, 5))\n",
    "    jets = np.random.randint(low=0, high=images.shape[0], size=njets)\n",
    "\n",
    "    for i, sel in enumerate(jets):\n",
    "        def _plot_jet(img, vmin=1e-3, vmax=300):\n",
    "            im = axarr[i].imshow(img,\n",
    "                                    interpolation='nearest',\n",
    "                                    norm=LogNorm(vmin=1e-3, vmax=300)\n",
    "            )\n",
    "            axarr[i].tick_params(axis='both', which='both', bottom=False, top=False,\n",
    "                                 left=False, right=False, labelbottom=False,\n",
    "                                 labelleft=False)\n",
    "            return im\n",
    "        im = _plot_jet(images[sel])\n",
    "\n",
    "    cax = f.add_axes([0.93, 0.3, 0.03, 0.4])\n",
    "    cb = f.colorbar(im, cax=cax)\n",
    "    cb.set_label(r'Pixel $p_T$ (GeV)', y=0.85)"
   ]
  },
  {
   "cell_type": "code",
   "execution_count": 15,
   "metadata": {
    "collapsed": false,
    "deletable": true,
    "editable": true
   },
   "outputs": [
    {
     "data": {
      "image/png": "[encoded data removed]",
      "text/plain": [
       "<matplotlib.figure.Figure at 0x115bb0cd0>"
      ]
     },
     "metadata": {},
     "output_type": "display_data"
    }
   ],
   "source": [
    "plot_random_jetimages(images)"
   ]
  },
  {
   "cell_type": "code",
   "execution_count": 16,
   "metadata": {
    "collapsed": false,
    "deletable": true,
    "editable": true
   },
   "outputs": [
    {
     "data": {
      "image/png": "[encoded data removed]",
      "text/plain": [
       "<matplotlib.figure.Figure at 0x115bb0e50>"
      ]
     },
     "metadata": {},
     "output_type": "display_data"
    }
   ],
   "source": [
    "plot_random_jetimages(images)"
   ]
  },
  {
   "cell_type": "markdown",
   "metadata": {
    "deletable": true,
    "editable": true
   },
   "source": [
    "At an individual level, iet images don't yield themselves to a global understanding of the data distribution. A nice way of visualizing jet images is to investigate the mean jet image."
   ]
  },
  {
   "cell_type": "code",
   "execution_count": 17,
   "metadata": {
    "collapsed": false,
    "deletable": true,
    "editable": true
   },
   "outputs": [
    {
     "data": {
      "image/png": "[encoded data removed]",
      "text/plain": [
       "<matplotlib.figure.Figure at 0x1167907d0>"
      ]
     },
     "metadata": {},
     "output_type": "display_data"
    },
    {
     "data": {
      "image/png": "[encoded data removed]",
      "text/plain": [
       "<matplotlib.figure.Figure at 0x116059250>"
      ]
     },
     "metadata": {},
     "output_type": "display_data"
    },
    {
     "data": {
      "image/png": "[encoded data removed]",
      "text/plain": [
       "<matplotlib.figure.Figure at 0x11632c7d0>"
      ]
     },
     "metadata": {},
     "output_type": "display_data"
    }
   ],
   "source": [
    "plot_jet_image(np.mean(images, axis=0), title='Average Image')\n",
    "plot_jet_image(np.mean(images[y == 1], axis=0), title=\"Average W' Image\")\n",
    "plot_jet_image(np.mean(images[y == 0], axis=0), title=\"Average QCD Image\")"
   ]
  },
  {
   "cell_type": "markdown",
   "metadata": {
    "deletable": true,
    "editable": true
   },
   "source": [
    "Many differences are imperceptible at this level! Let's dive a bit deeper."
   ]
  },
  {
   "cell_type": "code",
   "execution_count": 18,
   "metadata": {
    "collapsed": true,
    "deletable": true,
    "editable": true
   },
   "outputs": [],
   "source": [
    "def plot_diff_jet_image(\n",
    "                    content,\n",
    "                    extr=None,\n",
    "                    title='',\n",
    "                    cmap=matplotlib.cm.PRGn_r):\n",
    "    '''\n",
    "    Function to help you visualize the difference between two sets of jet images on a linear scale\n",
    "    Args:\n",
    "    -----\n",
    "       content : numpy array of dimensions 25x25, first arg to imshow, content of the image\n",
    "                 e.g.: generated_images.mean(axis=0) - real_images.mean(axis=0) --> difference between avg generated and avg Pythia image\n",
    "                       etc...\n",
    "       extr : (default = None) float, magnitude of the upper and lower bounds of the pixel intensity scale before saturation (symmetric around 0)\n",
    "       title : (default = '') string, title of the plot, to be displayed on top of the image\n",
    "       cmap : (default = matplotlib.cm.PRGn_r) matplotlib colormap, ideally white in the middle\n",
    "    '''\n",
    "    fig, ax = plt.subplots(figsize=(6, 6))\n",
    "    extent=[-1.25, 1.25, -1.25, 1.25]\n",
    "    if extr == None:\n",
    "        extr = max( abs(content.min()), abs(content.max()))\n",
    "    im = ax.imshow(content,\n",
    "                   interpolation='nearest', norm=Normalize(vmin=-extr, vmax=+extr), extent=extent,\n",
    "                   cmap=cmap)\n",
    "    plt.colorbar(im, fraction=0.05, pad=0.05)\n",
    "    plt.xlabel(r'[Transformed] Pseudorapidity $(\\eta)$')\n",
    "    plt.ylabel(r'[Transformed] Azimuthal Angle $(\\phi)$')\n",
    "    plt.title(title)"
   ]
  },
  {
   "cell_type": "code",
   "execution_count": 19,
   "metadata": {
    "collapsed": false,
    "deletable": true,
    "editable": true
   },
   "outputs": [
    {
     "data": {
      "image/png": "[encoded data removed]",
      "text/plain": [
       "<matplotlib.figure.Figure at 0x117797fd0>"
      ]
     },
     "metadata": {},
     "output_type": "display_data"
    }
   ],
   "source": [
    "# -- plot the difference between the mean W' image and the mean QCD image\n",
    "# In this case, the blue pixels are more strongly activated in QCD images than in W' images.\n",
    "# The red pixels are more strongly activated in W' images than QCD images.\n",
    "plot_diff_jet_image(\n",
    "    images[y == 1].mean(axis=0) - images[y == 0].mean(axis=0),\n",
    "    title=\"Difference between average W' image \\n and average QCD image\",\n",
    "    cmap=matplotlib.cm.seismic\n",
    ")\n"
   ]
  },
  {
   "cell_type": "markdown",
   "metadata": {
    "deletable": true,
    "editable": true
   },
   "source": [
    "#### Domain-specific issues with training GANs for jet images\n",
    "\n",
    "Most off the shelf GAN implementations will do ok, but some there are some important distinctions between natural images (the domain on which GAN usage exploded) and scientific images such as jet images. Understanding these distinctions can make your models work *significantly* better."
   ]
  },
  {
   "cell_type": "markdown",
   "metadata": {
    "deletable": true,
    "editable": true
   },
   "source": [
    "1) Sparsity\n",
    "\n",
    "We define sparsity (of in this case a matrix $X\\in\\mathbb{R}^{m \\times n}$) to be $$\\mathsf{sparsity}(X) = \\frac{1}{mn}\\sum_{i=1}^{m}\\sum_{j=1}^{m} \\mathbb{I}_{X_{i, j} \\neq 0}$$\n",
    "\n",
    "Another way to think about this is an \"occupancy\" rate."
   ]
  },
  {
   "cell_type": "code",
   "execution_count": 20,
   "metadata": {
    "collapsed": false,
    "deletable": true,
    "editable": true
   },
   "outputs": [
    {
     "name": "stdout",
     "output_type": "stream",
     "text": [
      "Only approximately 11% of pixels are non zero.\n"
     ]
    }
   ],
   "source": [
    "print 'Only approximately {:.0f}% of pixels are non zero.'.format(\n",
    "    100 * float(np.sum(images != 0))/np.prod(images.shape)\n",
    ")"
   ]
  },
  {
   "cell_type": "markdown",
   "metadata": {
    "deletable": true,
    "editable": true
   },
   "source": [
    "2) Dynamic range\n",
    "\n",
    "Images from HEP, due to the nature of the interactions that produce them, vary across **many** orders of magniture, whereas natural images only span three."
   ]
  },
  {
   "cell_type": "code",
   "execution_count": 21,
   "metadata": {
    "collapsed": false,
    "deletable": true,
    "editable": true
   },
   "outputs": [
    {
     "name": "stdout",
     "output_type": "stream",
     "text": [
      "Pixel intensities range from 1.34e-20 to 273.79 GeV.\n"
     ]
    }
   ],
   "source": [
    "print 'Pixel intensities range from {:.2e} to {:.2f} GeV.'.format(\n",
    "    images[images !=0].min(), images.max()\n",
    ")"
   ]
  },
  {
   "cell_type": "code",
   "execution_count": 22,
   "metadata": {
    "collapsed": false,
    "deletable": true,
    "editable": true
   },
   "outputs": [
    {
     "data": {
      "image/png": "[encoded data removed]",
      "text/plain": [
       "<matplotlib.figure.Figure at 0x116059590>"
      ]
     },
     "metadata": {},
     "output_type": "display_data"
    }
   ],
   "source": [
    "_ = plt.hist(images.ravel(), bins=np.logspace(-21, 3, 50))\n",
    "\n",
    "plt.xlabel('Pixel Intensity')\n",
    "plt.ylabel('Number of Pixels')\n",
    "plt.yscale('log')\n",
    "plt.xscale('log')"
   ]
  },
  {
   "cell_type": "code",
   "execution_count": 23,
   "metadata": {
    "collapsed": false,
    "deletable": true,
    "editable": true
   },
   "outputs": [
    {
     "data": {
      "image/png": "[encoded data removed]",
      "text/plain": [
       "<matplotlib.figure.Figure at 0x116696dd0>"
      ]
     },
     "metadata": {},
     "output_type": "display_data"
    }
   ],
   "source": [
    "_ = plt.hist(images.ravel(), bins=np.linspace(0, 300, 50))\n",
    "\n",
    "plt.xlabel('Pixel Intensity')\n",
    "plt.ylabel('Number of Pixels')\n",
    "plt.yscale('log')"
   ]
  },
  {
   "cell_type": "markdown",
   "metadata": {
    "deletable": true,
    "editable": true
   },
   "source": [
    "3) Pixel representation is physically meaningful. Pixel intensities and positions define jet properties."
   ]
  },
  {
   "cell_type": "markdown",
   "metadata": {
    "deletable": true,
    "editable": true
   },
   "source": [
    "In this application, we cut out the region of space very close to the beam axis ($\\vert\\eta\\vert \\gt 1.25$) and the region of $\\vert\\phi\\vert > 1.25$. We divide the remaining space in a grid with pixels of size $[0.1 \\times 0.1]$."
   ]
  },
  {
   "cell_type": "code",
   "execution_count": 24,
   "metadata": {
    "collapsed": true,
    "deletable": true,
    "editable": true
   },
   "outputs": [],
   "source": [
    "grid = 0.5 * (np.linspace(-1.25, 1.25, 26)[:-1] + np.linspace(-1.25, 1.25, 26)[1:])\n",
    "eta = np.tile(grid, (25, 1))\n",
    "phi = np.tile(grid[::-1].reshape(-1, 1), (1, 25))"
   ]
  },
  {
   "cell_type": "markdown",
   "metadata": {
    "deletable": true,
    "editable": true
   },
   "source": [
    "We would like to be able to calculate observables from a generated images, so we define discretized versions of $m$, $p_T$, etc."
   ]
  },
  {
   "cell_type": "code",
   "execution_count": 25,
   "metadata": {
    "collapsed": true,
    "deletable": true,
    "editable": true
   },
   "outputs": [],
   "source": [
    "def discrete_mass(jet_image):\n",
    "    '''\n",
    "    Calculates the jet mass from a pixelated jet image set\n",
    "    Args:\n",
    "    -----\n",
    "        jet_image: numpy ndarray of dim (n_images, 25, 25)\n",
    "    Returns:\n",
    "    --------\n",
    "        M: float, jet mass\n",
    "    '''\n",
    "    Px = np.sum(jet_image * np.cos(phi), axis=(1, 2))\n",
    "    Py = np.sum(jet_image * np.sin(phi), axis=(1, 2))\n",
    "\n",
    "    Pz = np.sum(jet_image * np.sinh(eta), axis=(1, 2))\n",
    "    E = np.sum(jet_image * np.cosh(eta), axis=(1, 2))\n",
    "\n",
    "    PT2 = np.square(Px) + np.square(Py)\n",
    "    M2 = np.square(E) - (PT2 + np.square(Pz))\n",
    "    M = np.sqrt(M2)\n",
    "    return M\n",
    "\n",
    "def discrete_pt(jet_image):\n",
    "    '''\n",
    "    Calculates the jet transverse momentum from a pixelated jet image set\n",
    "    Args:\n",
    "    -----\n",
    "        jet_image: numpy ndarray of dim (n_images, 25, 25)\n",
    "    Returns:\n",
    "    --------\n",
    "        float, jet transverse momentum\n",
    "    '''\n",
    "    Px = np.sum(jet_image * np.cos(phi), axis=(1, 2))\n",
    "    Py = np.sum(jet_image * np.sin(phi), axis=(1, 2))\n",
    "    return np.sqrt(np.square(Px) + np.square(Py))"
   ]
  },
  {
   "cell_type": "code",
   "execution_count": 27,
   "metadata": {
    "collapsed": false,
    "deletable": true,
    "editable": true
   },
   "outputs": [
    {
     "data": {
      "text/plain": [
       "<matplotlib.legend.Legend at 0x115925a10>"
      ]
     },
     "execution_count": 27,
     "metadata": {},
     "output_type": "execute_result"
    },
    {
     "data": {
      "image/png": "[encoded data removed]",
      "text/plain": [
       "<matplotlib.figure.Figure at 0x1159fdb10>"
      ]
     },
     "metadata": {},
     "output_type": "display_data"
    }
   ],
   "source": [
    "fig, ax = plt.subplots(figsize=(6, 6))\n",
    "bins = np.linspace(50, 110, 20)\n",
    "_ = plt.hist(discrete_mass(images[y == 1]), \n",
    "             bins=bins, histtype='step', label=r\"$W' \\rightarrow WZ$\", color='red')\n",
    "\n",
    "_ = plt.hist(discrete_mass(images[y == 0]), \n",
    "             bins=bins, histtype='step', label=r'QCD dijets', color='blue')\n",
    "\n",
    "plt.xlabel(r'Discretized $m$ of Jet Image')\n",
    "plt.ylabel(r'Units normalized to unit area')\n",
    "plt.legend()"
   ]
  },
  {
   "cell_type": "code",
   "execution_count": 28,
   "metadata": {
    "collapsed": false,
    "deletable": true,
    "editable": true
   },
   "outputs": [
    {
     "data": {
      "text/plain": [
       "<matplotlib.legend.Legend at 0x116327650>"
      ]
     },
     "execution_count": 28,
     "metadata": {},
     "output_type": "execute_result"
    },
    {
     "data": {
      "image/png": "[encoded data removed]",
      "text/plain": [
       "<matplotlib.figure.Figure at 0x116735810>"
      ]
     },
     "metadata": {},
     "output_type": "display_data"
    }
   ],
   "source": [
    "fig, ax = plt.subplots(figsize=(6, 6))\n",
    "bins = np.linspace(230, 310, 20)\n",
    "_ = plt.hist(discrete_pt(images[y == 1]), \n",
    "             bins=bins, histtype='step', label=r\"$W' \\rightarrow WZ$\", color='red')\n",
    "\n",
    "_ = plt.hist(discrete_pt(images[y == 0]), \n",
    "             bins=bins, histtype='step', label=r'QCD dijets', color='blue')\n",
    "\n",
    "plt.xlabel(r'Discretized $m$ of Jet Image')\n",
    "plt.ylabel(r'Units normalized to unit area')\n",
    "plt.legend()"
   ]
  },
  {
   "cell_type": "markdown",
   "metadata": {
    "deletable": true,
    "editable": true
   },
   "source": [
    "### PyTorch Dataset and DataLoader"
   ]
  },
  {
   "cell_type": "markdown",
   "metadata": {
    "deletable": true,
    "editable": true
   },
   "source": [
    "PyTorch takes care of lots of data handling for you through the convenient `DataLoader` class. A `DataLoader` allows you to iterate through your dataset and yield batches from it with a few niceties attached. These may not be necessary in this application, and in fact they might be kind of an overkill, but I think everyone should be familiar with them."
   ]
  },
  {
   "cell_type": "markdown",
   "metadata": {
    "deletable": true,
    "editable": true
   },
   "source": [
    "First, you have to create your own custom dataset class that inherits from the abstract PyTorch `Dataset` class. All custom datasets should subclass it, and override `__len__`, that provides the size of the dataset, and `__getitem__`, supporting integer indexing in range from `0` to `len(self)` exclusive."
   ]
  },
  {
   "cell_type": "markdown",
   "metadata": {
    "deletable": true,
    "editable": true
   },
   "source": [
    "The beauty of the PyTorch `DataLoader` class is that certain complexities such as batching and multithreaded loading are *abstracted away*."
   ]
  },
  {
   "cell_type": "markdown",
   "metadata": {
    "deletable": true,
    "editable": true
   },
   "source": [
    "<img src=\"/Users/mp744/Documents/MachineLearning/presentations/images/dataloader.jpg\">"
   ]
  },
  {
   "cell_type": "code",
   "execution_count": 29,
   "metadata": {
    "collapsed": true,
    "deletable": true,
    "editable": true
   },
   "outputs": [],
   "source": [
    "from torch.utils.data import Dataset, DataLoader"
   ]
  },
  {
   "cell_type": "markdown",
   "metadata": {
    "deletable": true,
    "editable": true
   },
   "source": [
    "Let's remind ourselves of the keys present in the `h5py` file."
   ]
  },
  {
   "cell_type": "code",
   "execution_count": 30,
   "metadata": {
    "collapsed": false,
    "deletable": true,
    "editable": true
   },
   "outputs": [
    {
     "data": {
      "text/plain": [
       "[u'image',\n",
       " u'jet_delta_R',\n",
       " u'jet_eta',\n",
       " u'jet_mass',\n",
       " u'jet_phi',\n",
       " u'jet_pt',\n",
       " u'signal',\n",
       " u'tau_1',\n",
       " u'tau_2',\n",
       " u'tau_21',\n",
       " u'tau_3',\n",
       " u'tau_32']"
      ]
     },
     "execution_count": 30,
     "metadata": {},
     "output_type": "execute_result"
    }
   ],
   "source": [
    "f.keys()"
   ]
  },
  {
   "cell_type": "code",
   "execution_count": 31,
   "metadata": {
    "collapsed": true,
    "deletable": true,
    "editable": true
   },
   "outputs": [],
   "source": [
    "class JetSet(Dataset):\n",
    "    \"\"\"\n",
    "    Dataset of jet images.\n",
    "    \"\"\"\n",
    "    def __init__(self, zenodo_link=None, path=None, nb_jets=None):\n",
    "        if not ((zenodo_link is None) ^ (path is None)):\n",
    "            raise ValueError('Exactly *one* of Zenodo link or '\n",
    "                             'filesystem path must be specified')\n",
    "        if zenodo_link is not None:\n",
    "            # download dataset unless it's already present\n",
    "            filename = zenodo_link.split(\"/\")[-1]\n",
    "            if not os.path.exists(filename):\n",
    "                wget.download(zenodo_link)\n",
    "        else:\n",
    "            filename = path\n",
    "            \n",
    "        if nb_jets is not None and not isinstance(nb_jets, int):\n",
    "            raise TypeError('nb_jets must be an int!')\n",
    "        f = h5py.File(filename)\n",
    "        \n",
    "        # load all objects into memory\n",
    "        self.images = f['image'][:][:nb_jets]\n",
    "        self.jet_dr = f['jet_delta_R'][:][:nb_jets]\n",
    "        self.jet_eta = f['jet_eta'][:][:nb_jets]\n",
    "        self.jet_mass = f['jet_mass'][:][:nb_jets]\n",
    "        self.jet_phi = f['jet_phi'][:][:nb_jets]\n",
    "        self.jet_pt = f['jet_pt'][:][:nb_jets]\n",
    "        self.y = f['signal'][:][:nb_jets]\n",
    "        self.tau_21 = f['tau_21'][:][:nb_jets]\n",
    "        self.tau_32 = f['tau_32'][:][:nb_jets]\n",
    "    \n",
    "    def __len__(self):\n",
    "        return self.y.shape[0]\n",
    "    \n",
    "    @staticmethod\n",
    "    def image_transform(image):\n",
    "        return image / 75.0\n",
    "    \n",
    "    @staticmethod\n",
    "    def inverse_image_transform(image):\n",
    "        return image * 75.0\n",
    "    \n",
    "    \n",
    "    def __getitem__(self, idx):\n",
    "#         sample = {\n",
    "#             'images' : self.images[idx],\n",
    "#             'jet_dr' : self.jet_dr[idx],\n",
    "#             'jet_eta' : self.jet_eta[idx],\n",
    "#             'jet_mass' : self.jet_mass[idx],\n",
    "#             'jet_phi' : self.jet_phi[idx],\n",
    "#             'jet_pt' : self.jet_pt[idx],\n",
    "#             'y' : self.y[idx],\n",
    "#             'tau_21' : self.tau_21[idx],\n",
    "#             'tau_32' : self.tau_32[idx]\n",
    "#         }\n",
    "#         return sample\n",
    "        return (self.images[idx], self.y[idx])\n"
   ]
  },
  {
   "cell_type": "code",
   "execution_count": 90,
   "metadata": {
    "collapsed": true,
    "deletable": true,
    "editable": true
   },
   "outputs": [],
   "source": [
    "dataset = JetSet(DATAURL)#, nb_jets=30000)"
   ]
  },
  {
   "cell_type": "code",
   "execution_count": 91,
   "metadata": {
    "collapsed": true,
    "deletable": true,
    "editable": true
   },
   "outputs": [],
   "source": [
    "BATCH_SIZE = 100\n",
    "data_loader = torch.utils.data.DataLoader(dataset=dataset,\n",
    "                                          batch_size=BATCH_SIZE, \n",
    "                                          shuffle=True,\n",
    "                                          num_workers=3)"
   ]
  },
  {
   "cell_type": "code",
   "execution_count": 92,
   "metadata": {
    "collapsed": true,
    "deletable": true,
    "editable": true
   },
   "outputs": [],
   "source": [
    "n_batches = int(np.ceil(len(dataset)/ BATCH_SIZE)) "
   ]
  },
  {
   "cell_type": "code",
   "execution_count": 93,
   "metadata": {
    "collapsed": false,
    "deletable": true,
    "editable": true,
    "scrolled": true
   },
   "outputs": [
    {
     "data": {
      "text/plain": [
       "8726"
      ]
     },
     "execution_count": 93,
     "metadata": {},
     "output_type": "execute_result"
    }
   ],
   "source": [
    "n_batches"
   ]
  },
  {
   "cell_type": "markdown",
   "metadata": {
    "deletable": true,
    "editable": true
   },
   "source": [
    "### Model Design"
   ]
  },
  {
   "cell_type": "markdown",
   "metadata": {
    "deletable": true,
    "editable": true
   },
   "source": [
    "`torch.nn` contains all the ingredients to start building your networks. \n",
    "\n",
    "PyTorch is still in beta, so there are no well-defined best practices and lots of ways of doing the same thing, some that are safer and limited in scope, and some that provide you with more flexibility, should you need it."
   ]
  },
  {
   "cell_type": "code",
   "execution_count": 36,
   "metadata": {
    "collapsed": true,
    "deletable": true,
    "editable": true
   },
   "outputs": [],
   "source": [
    "from torch import nn"
   ]
  },
  {
   "cell_type": "markdown",
   "metadata": {
    "deletable": true,
    "editable": true
   },
   "source": [
    "`torch.nn.Sequential` is a container that allows you to specify Modules to be added to your model in the order they are passed into the constructor. If you are coming from Keras, this is very similar to a `keras.models.Sequential` object. \n",
    "\n",
    "Alternatively, you can also pass layers into the Module as an `OrderedDict`."
   ]
  },
  {
   "cell_type": "code",
   "execution_count": 104,
   "metadata": {
    "collapsed": true,
    "deletable": true,
    "editable": true
   },
   "outputs": [],
   "source": [
    "# Discriminator\n",
    "D = nn.Sequential(\n",
    "    nn.Linear(25 * 25, 256),\n",
    "    nn.LeakyReLU(0.2),\n",
    "    nn.Linear(256, 256),\n",
    "    nn.LeakyReLU(0.2),\n",
    "    nn.Linear(256, 256),\n",
    "    nn.LeakyReLU(0.2),\n",
    "    nn.Linear(256, 256),\n",
    "    nn.LeakyReLU(0.2),\n",
    "    nn.Linear(256, 1),\n",
    "    nn.Sigmoid()\n",
    ")"
   ]
  },
  {
   "cell_type": "code",
   "execution_count": 105,
   "metadata": {
    "collapsed": true,
    "deletable": true,
    "editable": true
   },
   "outputs": [],
   "source": [
    "# Generator \n",
    "G = nn.Sequential(\n",
    "    nn.Linear(64, 256),\n",
    "    nn.LeakyReLU(0.2),\n",
    "    nn.Linear(256, 256),\n",
    "    nn.LeakyReLU(0.2),\n",
    "    nn.Linear(256, 256),\n",
    "    nn.LeakyReLU(0.2),\n",
    "    nn.Linear(256, 512),\n",
    "    nn.LeakyReLU(0.2),\n",
    "    nn.Linear(512, 25 * 25),\n",
    "    nn.ReLU()\n",
    ")"
   ]
  },
  {
   "cell_type": "code",
   "execution_count": 96,
   "metadata": {
    "collapsed": false,
    "deletable": true,
    "editable": true
   },
   "outputs": [],
   "source": [
    "# if you're running on GPU, move models there\n",
    "# if torch.cuda.is_available():\n",
    "#     print 'Will run model on the GPU'\n",
    "#     D.cuda()\n",
    "#     G.cuda()"
   ]
  },
  {
   "cell_type": "markdown",
   "metadata": {
    "deletable": true,
    "editable": true
   },
   "source": [
    "Define your loss function and optimizer by picking from the ones already available in `torch.nn` or defining your own. Note that an optimizer is defined in terms of the network parameters that it's assigned to optimize."
   ]
  },
  {
   "cell_type": "code",
   "execution_count": 106,
   "metadata": {
    "collapsed": true,
    "deletable": true,
    "editable": true
   },
   "outputs": [],
   "source": [
    "criterion = nn.BCELoss()\n",
    "d_optimizer = torch.optim.Adam(D.parameters(), lr=0.0003)\n",
    "g_optimizer = torch.optim.Adam(G.parameters(), lr=0.0003)"
   ]
  },
  {
   "cell_type": "markdown",
   "metadata": {
    "deletable": true,
    "editable": true
   },
   "source": [
    "### Training Procedure"
   ]
  },
  {
   "cell_type": "markdown",
   "metadata": {
    "deletable": true,
    "editable": true
   },
   "source": [
    "A `Variable` is a node in a computational graph that allows for automatic differentiation across the graph. A `Variable` wraps a PyTorch `Tensor`, though rumor has it the two concepts will soon be unified. `x.data` gives you access to the `Tensor` wrapped by the `Variable x`."
   ]
  },
  {
   "cell_type": "code",
   "execution_count": 107,
   "metadata": {
    "collapsed": true,
    "deletable": true,
    "editable": true
   },
   "outputs": [],
   "source": [
    "from torch.autograd import Variable\n",
    "\n",
    "def to_var(x):\n",
    "    # first move to GPU, if necessary\n",
    "    if torch.cuda.is_available():\n",
    "        x = x.cuda()\n",
    "    return Variable(x)"
   ]
  },
  {
   "cell_type": "code",
   "execution_count": 108,
   "metadata": {
    "collapsed": true,
    "deletable": true,
    "editable": true
   },
   "outputs": [],
   "source": [
    "import torch.nn.functional as F"
   ]
  },
  {
   "cell_type": "markdown",
   "metadata": {
    "deletable": true,
    "editable": true
   },
   "source": [
    "PyTorch allows you to build **dynamic graphs** in a very intuitive and pythonic way. \n",
    "\n",
    "You should write the training loop yourself, looping through the epochs and the batches.\n",
    "\n",
    "Although this adds additional boilerplate and room for error when compared to libraries like Keras, this dynamic construction gives the flexibility required for exotic train loops that do not fit the `model.fit(...)` paradigm, such as GANs."
   ]
  },
  {
   "cell_type": "code",
   "execution_count": 116,
   "metadata": {
    "collapsed": false,
    "deletable": true,
    "editable": true
   },
   "outputs": [
    {
     "name": "stdout",
     "output_type": "stream",
     "text": [
      "Epoch [0/10], Step[100/8726], d_loss: 0.8899, g_loss: 2.1014, Mean D(x): 0.68, Mean D(G(z)): 0.23\n",
      "Epoch [0/10], Step[200/8726], d_loss: 0.8140, g_loss: 1.7249, Mean D(x): 0.69, Mean D(G(z)): 0.25\n",
      "Epoch [0/10], Step[300/8726], d_loss: 0.7298, g_loss: 1.6072, Mean D(x): 0.74, Mean D(G(z)): 0.25\n",
      "Epoch [0/10], Step[400/8726], d_loss: 1.0345, g_loss: 1.7660, Mean D(x): 0.68, Mean D(G(z)): 0.32\n",
      "Epoch [0/10], Step[500/8726], d_loss: 0.9914, g_loss: 1.6759, Mean D(x): 0.68, Mean D(G(z)): 0.34\n",
      "Epoch [0/10], Step[600/8726], d_loss: 0.8508, g_loss: 2.0604, Mean D(x): 0.73, Mean D(G(z)): 0.28\n",
      "Epoch [0/10], Step[700/8726], d_loss: 0.8846, g_loss: 1.6677, Mean D(x): 0.73, Mean D(G(z)): 0.29\n",
      "Epoch [0/10], Step[800/8726], d_loss: 0.7938, g_loss: 1.8010, Mean D(x): 0.73, Mean D(G(z)): 0.27\n",
      "Epoch [0/10], Step[900/8726], d_loss: 0.8735, g_loss: 1.9295, Mean D(x): 0.66, Mean D(G(z)): 0.22\n",
      "Epoch [0/10], Step[1000/8726], d_loss: 0.8275, g_loss: 1.8771, Mean D(x): 0.71, Mean D(G(z)): 0.26\n",
      "Epoch [0/10], Step[1100/8726], d_loss: 1.1150, g_loss: 1.7432, Mean D(x): 0.64, Mean D(G(z)): 0.27\n",
      "Epoch [0/10], Step[1200/8726], d_loss: 0.8106, g_loss: 1.8767, Mean D(x): 0.73, Mean D(G(z)): 0.26\n",
      "Epoch [0/10], Step[1300/8726], d_loss: 1.0045, g_loss: 1.3721, Mean D(x): 0.71, Mean D(G(z)): 0.32\n",
      "Epoch [0/10], Step[1400/8726], d_loss: 0.8947, g_loss: 1.7515, Mean D(x): 0.68, Mean D(G(z)): 0.26\n",
      "Epoch [0/10], Step[1500/8726], d_loss: 1.0313, g_loss: 1.6781, Mean D(x): 0.67, Mean D(G(z)): 0.33\n",
      "Epoch [0/10], Step[1600/8726], d_loss: 0.9568, g_loss: 1.6710, Mean D(x): 0.69, Mean D(G(z)): 0.25\n",
      "Epoch [0/10], Step[1700/8726], d_loss: 0.6906, g_loss: 1.9623, Mean D(x): 0.74, Mean D(G(z)): 0.21\n",
      "Epoch [0/10], Step[1800/8726], d_loss: 0.7771, g_loss: 2.2386, Mean D(x): 0.71, Mean D(G(z)): 0.21\n",
      "Epoch [0/10], Step[1900/8726], d_loss: 1.0079, g_loss: 1.8960, Mean D(x): 0.70, Mean D(G(z)): 0.32\n",
      "Epoch [0/10], Step[2000/8726], d_loss: 0.7146, g_loss: 1.7350, Mean D(x): 0.73, Mean D(G(z)): 0.23\n",
      "Epoch [0/10], Step[2100/8726], d_loss: 1.0613, g_loss: 2.0893, Mean D(x): 0.62, Mean D(G(z)): 0.24\n",
      "Epoch [0/10], Step[2200/8726], d_loss: 0.7581, g_loss: 1.3656, Mean D(x): 0.77, Mean D(G(z)): 0.30\n",
      "Epoch [0/10], Step[2300/8726], d_loss: 0.9296, g_loss: 1.4304, Mean D(x): 0.71, Mean D(G(z)): 0.32\n",
      "Epoch [0/10], Step[2400/8726], d_loss: 0.9493, g_loss: 1.7247, Mean D(x): 0.70, Mean D(G(z)): 0.32\n",
      "Epoch [0/10], Step[2500/8726], d_loss: 0.8559, g_loss: 1.5602, Mean D(x): 0.67, Mean D(G(z)): 0.24\n",
      "Epoch [0/10], Step[2600/8726], d_loss: 0.8865, g_loss: 1.4514, Mean D(x): 0.71, Mean D(G(z)): 0.29\n",
      "Epoch [0/10], Step[2700/8726], d_loss: 0.8073, g_loss: 1.6882, Mean D(x): 0.75, Mean D(G(z)): 0.26\n",
      "Epoch [0/10], Step[2800/8726], d_loss: 0.8801, g_loss: 1.5523, Mean D(x): 0.72, Mean D(G(z)): 0.30\n",
      "Epoch [0/10], Step[2900/8726], d_loss: 0.9952, g_loss: 1.6530, Mean D(x): 0.61, Mean D(G(z)): 0.26\n",
      "Epoch [0/10], Step[3000/8726], d_loss: 1.0132, g_loss: 1.6425, Mean D(x): 0.67, Mean D(G(z)): 0.31\n",
      "Epoch [0/10], Step[3100/8726], d_loss: 0.7506, g_loss: 2.0341, Mean D(x): 0.72, Mean D(G(z)): 0.22\n",
      "Epoch [0/10], Step[3200/8726], d_loss: 1.0457, g_loss: 1.6141, Mean D(x): 0.67, Mean D(G(z)): 0.34\n",
      "Epoch [0/10], Step[3300/8726], d_loss: 0.9359, g_loss: 1.5829, Mean D(x): 0.73, Mean D(G(z)): 0.33\n",
      "Epoch [0/10], Step[3400/8726], d_loss: 0.8342, g_loss: 1.5837, Mean D(x): 0.70, Mean D(G(z)): 0.26\n",
      "Epoch [0/10], Step[3500/8726], d_loss: 1.0153, g_loss: 1.3659, Mean D(x): 0.66, Mean D(G(z)): 0.30\n",
      "Epoch [0/10], Step[3600/8726], d_loss: 0.9290, g_loss: 1.5970, Mean D(x): 0.70, Mean D(G(z)): 0.30\n",
      "Epoch [0/10], Step[3700/8726], d_loss: 1.0214, g_loss: 1.5298, Mean D(x): 0.64, Mean D(G(z)): 0.31\n",
      "Epoch [0/10], Step[3800/8726], d_loss: 0.8493, g_loss: 1.6602, Mean D(x): 0.68, Mean D(G(z)): 0.25\n",
      "Epoch [0/10], Step[3900/8726], d_loss: 0.9502, g_loss: 1.4927, Mean D(x): 0.68, Mean D(G(z)): 0.28\n",
      "Epoch [0/10], Step[4000/8726], d_loss: 1.0646, g_loss: 1.2667, Mean D(x): 0.75, Mean D(G(z)): 0.38\n",
      "Epoch [0/10], Step[4100/8726], d_loss: 0.8787, g_loss: 1.7823, Mean D(x): 0.68, Mean D(G(z)): 0.25\n",
      "Epoch [0/10], Step[4200/8726], d_loss: 0.8211, g_loss: 1.7075, Mean D(x): 0.71, Mean D(G(z)): 0.28\n",
      "Epoch [0/10], Step[4300/8726], d_loss: 0.9314, g_loss: 1.5324, Mean D(x): 0.74, Mean D(G(z)): 0.36\n",
      "Epoch [0/10], Step[4400/8726], d_loss: 0.9610, g_loss: 1.5027, Mean D(x): 0.69, Mean D(G(z)): 0.33\n",
      "Epoch [0/10], Step[4500/8726], d_loss: 1.1891, g_loss: 1.7370, Mean D(x): 0.64, Mean D(G(z)): 0.33\n",
      "Epoch [0/10], Step[4600/8726], d_loss: 0.8329, g_loss: 1.4266, Mean D(x): 0.76, Mean D(G(z)): 0.30\n",
      "Epoch [0/10], Step[4700/8726], d_loss: 1.0359, g_loss: 2.0892, Mean D(x): 0.64, Mean D(G(z)): 0.25\n",
      "Epoch [0/10], Step[4800/8726], d_loss: 0.9013, g_loss: 1.6762, Mean D(x): 0.68, Mean D(G(z)): 0.26\n",
      "Epoch [0/10], Step[4900/8726], d_loss: 0.9407, g_loss: 1.8336, Mean D(x): 0.71, Mean D(G(z)): 0.33\n",
      "Epoch [0/10], Step[5000/8726], d_loss: 0.9139, g_loss: 1.6474, Mean D(x): 0.67, Mean D(G(z)): 0.29\n",
      "Epoch [0/10], Step[5100/8726], d_loss: 1.0234, g_loss: 1.6732, Mean D(x): 0.64, Mean D(G(z)): 0.27\n",
      "Epoch [0/10], Step[5200/8726], d_loss: 0.8715, g_loss: 1.7219, Mean D(x): 0.73, Mean D(G(z)): 0.28\n",
      "Epoch [0/10], Step[5300/8726], d_loss: 0.9166, g_loss: 1.6835, Mean D(x): 0.70, Mean D(G(z)): 0.33\n",
      "Epoch [0/10], Step[5400/8726], d_loss: 0.9442, g_loss: 1.5629, Mean D(x): 0.69, Mean D(G(z)): 0.33\n",
      "Epoch [0/10], Step[5500/8726], d_loss: 0.9664, g_loss: 1.5031, Mean D(x): 0.70, Mean D(G(z)): 0.33\n",
      "Epoch [0/10], Step[5600/8726], d_loss: 0.8778, g_loss: 1.3839, Mean D(x): 0.73, Mean D(G(z)): 0.33\n",
      "Epoch [0/10], Step[5700/8726], d_loss: 0.9203, g_loss: 1.7787, Mean D(x): 0.71, Mean D(G(z)): 0.29\n",
      "Epoch [0/10], Step[5800/8726], d_loss: 1.2093, g_loss: 1.4210, Mean D(x): 0.62, Mean D(G(z)): 0.36\n",
      "Epoch [0/10], Step[5900/8726], d_loss: 0.9546, g_loss: 1.4218, Mean D(x): 0.69, Mean D(G(z)): 0.30\n",
      "Epoch [0/10], Step[6000/8726], d_loss: 1.0819, g_loss: 1.4776, Mean D(x): 0.64, Mean D(G(z)): 0.34\n",
      "Epoch [0/10], Step[6100/8726], d_loss: 0.9602, g_loss: 1.9506, Mean D(x): 0.64, Mean D(G(z)): 0.24\n",
      "Epoch [0/10], Step[6200/8726], d_loss: 1.1592, g_loss: 1.4452, Mean D(x): 0.66, Mean D(G(z)): 0.33\n",
      "Epoch [0/10], Step[6300/8726], d_loss: 0.9205, g_loss: 1.6742, Mean D(x): 0.71, Mean D(G(z)): 0.32\n",
      "Epoch [0/10], Step[6400/8726], d_loss: 0.8745, g_loss: 1.4286, Mean D(x): 0.70, Mean D(G(z)): 0.30\n",
      "Epoch [0/10], Step[6500/8726], d_loss: 1.0025, g_loss: 1.5991, Mean D(x): 0.63, Mean D(G(z)): 0.28\n",
      "Epoch [0/10], Step[6600/8726], d_loss: 0.8814, g_loss: 1.5961, Mean D(x): 0.76, Mean D(G(z)): 0.32\n",
      "Epoch [0/10], Step[6700/8726], d_loss: 0.9610, g_loss: 1.5332, Mean D(x): 0.69, Mean D(G(z)): 0.32\n",
      "Epoch [0/10], Step[6800/8726], d_loss: 0.9960, g_loss: 1.4196, Mean D(x): 0.62, Mean D(G(z)): 0.30\n",
      "Epoch [0/10], Step[6900/8726], d_loss: 0.9518, g_loss: 1.5351, Mean D(x): 0.74, Mean D(G(z)): 0.34\n",
      "Epoch [0/10], Step[7000/8726], d_loss: 0.8009, g_loss: 1.7112, Mean D(x): 0.72, Mean D(G(z)): 0.26\n",
      "Epoch [0/10], Step[7100/8726], d_loss: 1.0283, g_loss: 1.5979, Mean D(x): 0.60, Mean D(G(z)): 0.24\n",
      "Epoch [0/10], Step[7200/8726], d_loss: 0.9362, g_loss: 1.6605, Mean D(x): 0.65, Mean D(G(z)): 0.27\n",
      "Epoch [0/10], Step[7300/8726], d_loss: 0.8035, g_loss: 1.5385, Mean D(x): 0.71, Mean D(G(z)): 0.27\n",
      "Epoch [0/10], Step[7400/8726], d_loss: 0.8905, g_loss: 1.5782, Mean D(x): 0.73, Mean D(G(z)): 0.34\n",
      "Epoch [0/10], Step[7500/8726], d_loss: 0.8416, g_loss: 1.6268, Mean D(x): 0.74, Mean D(G(z)): 0.32\n",
      "Epoch [0/10], Step[7600/8726], d_loss: 0.8894, g_loss: 1.5360, Mean D(x): 0.72, Mean D(G(z)): 0.28\n",
      "Epoch [0/10], Step[7700/8726], d_loss: 0.8488, g_loss: 1.5873, Mean D(x): 0.73, Mean D(G(z)): 0.33\n",
      "Epoch [0/10], Step[7800/8726], d_loss: 1.0740, g_loss: 1.5201, Mean D(x): 0.65, Mean D(G(z)): 0.28\n",
      "Epoch [0/10], Step[7900/8726], d_loss: 1.0136, g_loss: 1.5101, Mean D(x): 0.70, Mean D(G(z)): 0.36\n",
      "Epoch [0/10], Step[8000/8726], d_loss: 0.9045, g_loss: 1.2366, Mean D(x): 0.73, Mean D(G(z)): 0.34\n",
      "Epoch [0/10], Step[8100/8726], d_loss: 0.8101, g_loss: 1.5873, Mean D(x): 0.73, Mean D(G(z)): 0.28\n",
      "Epoch [0/10], Step[8200/8726], d_loss: 0.8980, g_loss: 1.4515, Mean D(x): 0.73, Mean D(G(z)): 0.35\n",
      "Epoch [0/10], Step[8300/8726], d_loss: 0.9055, g_loss: 1.5483, Mean D(x): 0.72, Mean D(G(z)): 0.33\n",
      "Epoch [0/10], Step[8400/8726], d_loss: 0.9632, g_loss: 1.5237, Mean D(x): 0.73, Mean D(G(z)): 0.31\n",
      "Epoch [0/10], Step[8500/8726], d_loss: 0.8290, g_loss: 1.5606, Mean D(x): 0.72, Mean D(G(z)): 0.28\n",
      "Epoch [0/10], Step[8600/8726], d_loss: 0.9251, g_loss: 1.2967, Mean D(x): 0.74, Mean D(G(z)): 0.36\n",
      "Epoch [0/10], Step[8700/8726], d_loss: 0.6823, g_loss: 1.7223, Mean D(x): 0.76, Mean D(G(z)): 0.25\n",
      "Epoch [1/10], Step[100/8726], d_loss: 0.9612, g_loss: 1.5966, Mean D(x): 0.66, Mean D(G(z)): 0.25\n",
      "Epoch [1/10], Step[200/8726], d_loss: 1.1304, g_loss: 1.5712, Mean D(x): 0.60, Mean D(G(z)): 0.29\n",
      "Epoch [1/10], Step[300/8726], d_loss: 0.9426, g_loss: 1.4888, Mean D(x): 0.64, Mean D(G(z)): 0.27\n",
      "Epoch [1/10], Step[400/8726], d_loss: 0.9713, g_loss: 1.4067, Mean D(x): 0.70, Mean D(G(z)): 0.32\n",
      "Epoch [1/10], Step[500/8726], d_loss: 0.9240, g_loss: 1.5048, Mean D(x): 0.64, Mean D(G(z)): 0.25\n",
      "Epoch [1/10], Step[600/8726], d_loss: 0.9931, g_loss: 1.4015, Mean D(x): 0.71, Mean D(G(z)): 0.35\n",
      "Epoch [1/10], Step[700/8726], d_loss: 0.8722, g_loss: 1.5113, Mean D(x): 0.70, Mean D(G(z)): 0.31\n",
      "Epoch [1/10], Step[800/8726], d_loss: 1.1387, g_loss: 1.4090, Mean D(x): 0.69, Mean D(G(z)): 0.40\n",
      "Epoch [1/10], Step[900/8726], d_loss: 0.9294, g_loss: 1.6361, Mean D(x): 0.70, Mean D(G(z)): 0.32\n",
      "Epoch [1/10], Step[1000/8726], d_loss: 0.9493, g_loss: 1.6336, Mean D(x): 0.73, Mean D(G(z)): 0.31\n",
      "Epoch [1/10], Step[1100/8726], d_loss: 0.8320, g_loss: 2.0685, Mean D(x): 0.68, Mean D(G(z)): 0.20\n",
      "Epoch [1/10], Step[1200/8726], d_loss: 0.8312, g_loss: 1.4995, Mean D(x): 0.70, Mean D(G(z)): 0.26\n",
      "Epoch [1/10], Step[1300/8726], d_loss: 0.9067, g_loss: 1.4482, Mean D(x): 0.72, Mean D(G(z)): 0.31\n",
      "Epoch [1/10], Step[1400/8726], d_loss: 0.9468, g_loss: 1.3604, Mean D(x): 0.68, Mean D(G(z)): 0.29\n",
      "Epoch [1/10], Step[1500/8726], d_loss: 0.9849, g_loss: 1.5763, Mean D(x): 0.70, Mean D(G(z)): 0.31\n",
      "Epoch [1/10], Step[1600/8726], d_loss: 1.0182, g_loss: 1.2646, Mean D(x): 0.71, Mean D(G(z)): 0.36\n",
      "Epoch [1/10], Step[1700/8726], d_loss: 0.8401, g_loss: 1.7483, Mean D(x): 0.73, Mean D(G(z)): 0.30\n",
      "Epoch [1/10], Step[1800/8726], d_loss: 0.9494, g_loss: 1.4420, Mean D(x): 0.67, Mean D(G(z)): 0.31\n",
      "Epoch [1/10], Step[1900/8726], d_loss: 0.9794, g_loss: 1.7545, Mean D(x): 0.65, Mean D(G(z)): 0.28\n",
      "Epoch [1/10], Step[2000/8726], d_loss: 0.8798, g_loss: 1.3882, Mean D(x): 0.68, Mean D(G(z)): 0.30\n",
      "Epoch [1/10], Step[2100/8726], d_loss: 0.9857, g_loss: 1.3996, Mean D(x): 0.71, Mean D(G(z)): 0.36\n",
      "Epoch [1/10], Step[2200/8726], d_loss: 0.9455, g_loss: 1.3448, Mean D(x): 0.70, Mean D(G(z)): 0.34\n",
      "Epoch [1/10], Step[2300/8726], d_loss: 0.9835, g_loss: 1.3092, Mean D(x): 0.69, Mean D(G(z)): 0.36\n",
      "Epoch [1/10], Step[2400/8726], d_loss: 0.9702, g_loss: 1.5525, Mean D(x): 0.70, Mean D(G(z)): 0.35\n",
      "Epoch [1/10], Step[2500/8726], d_loss: 0.9329, g_loss: 1.9234, Mean D(x): 0.67, Mean D(G(z)): 0.27\n",
      "Epoch [1/10], Step[2600/8726], d_loss: 0.9568, g_loss: 1.4177, Mean D(x): 0.67, Mean D(G(z)): 0.32\n",
      "Epoch [1/10], Step[2700/8726], d_loss: 0.9141, g_loss: 1.5010, Mean D(x): 0.67, Mean D(G(z)): 0.28\n",
      "Epoch [1/10], Step[2800/8726], d_loss: 1.1205, g_loss: 1.4088, Mean D(x): 0.66, Mean D(G(z)): 0.35\n",
      "Epoch [1/10], Step[2900/8726], d_loss: 0.8950, g_loss: 1.5468, Mean D(x): 0.66, Mean D(G(z)): 0.27\n",
      "Epoch [1/10], Step[3000/8726], d_loss: 0.8486, g_loss: 1.7585, Mean D(x): 0.72, Mean D(G(z)): 0.24\n",
      "Epoch [1/10], Step[3100/8726], d_loss: 1.0911, g_loss: 1.1513, Mean D(x): 0.62, Mean D(G(z)): 0.37\n",
      "Epoch [1/10], Step[3200/8726], d_loss: 1.1858, g_loss: 1.1385, Mean D(x): 0.63, Mean D(G(z)): 0.36\n",
      "Epoch [1/10], Step[3300/8726], d_loss: 1.0092, g_loss: 1.6524, Mean D(x): 0.62, Mean D(G(z)): 0.29\n",
      "Epoch [1/10], Step[3400/8726], d_loss: 1.1181, g_loss: 1.2748, Mean D(x): 0.66, Mean D(G(z)): 0.37\n",
      "Epoch [1/10], Step[3500/8726], d_loss: 0.9920, g_loss: 1.2938, Mean D(x): 0.64, Mean D(G(z)): 0.32\n",
      "Epoch [1/10], Step[3600/8726], d_loss: 1.0336, g_loss: 1.2342, Mean D(x): 0.64, Mean D(G(z)): 0.31\n",
      "Epoch [1/10], Step[3700/8726], d_loss: 1.0376, g_loss: 1.2833, Mean D(x): 0.66, Mean D(G(z)): 0.35\n",
      "Epoch [1/10], Step[3800/8726], d_loss: 1.0407, g_loss: 1.5609, Mean D(x): 0.57, Mean D(G(z)): 0.22\n",
      "Epoch [1/10], Step[3900/8726], d_loss: 0.9839, g_loss: 1.4874, Mean D(x): 0.69, Mean D(G(z)): 0.31\n",
      "Epoch [1/10], Step[4000/8726], d_loss: 1.0198, g_loss: 1.3767, Mean D(x): 0.67, Mean D(G(z)): 0.36\n",
      "Epoch [1/10], Step[4100/8726], d_loss: 0.8637, g_loss: 1.5215, Mean D(x): 0.77, Mean D(G(z)): 0.34\n",
      "Epoch [1/10], Step[4200/8726], d_loss: 0.8870, g_loss: 1.4825, Mean D(x): 0.68, Mean D(G(z)): 0.28\n",
      "Epoch [1/10], Step[4300/8726], d_loss: 0.9144, g_loss: 1.7611, Mean D(x): 0.65, Mean D(G(z)): 0.23\n",
      "Epoch [1/10], Step[4400/8726], d_loss: 1.0380, g_loss: 1.2685, Mean D(x): 0.67, Mean D(G(z)): 0.37\n",
      "Epoch [1/10], Step[4500/8726], d_loss: 1.2327, g_loss: 1.4298, Mean D(x): 0.57, Mean D(G(z)): 0.33\n",
      "Epoch [1/10], Step[4600/8726], d_loss: 1.1403, g_loss: 1.5269, Mean D(x): 0.62, Mean D(G(z)): 0.34\n",
      "Epoch [1/10], Step[4700/8726], d_loss: 1.0398, g_loss: 1.2770, Mean D(x): 0.66, Mean D(G(z)): 0.36\n",
      "Epoch [1/10], Step[4800/8726], d_loss: 1.0455, g_loss: 1.5054, Mean D(x): 0.69, Mean D(G(z)): 0.35\n",
      "Epoch [1/10], Step[4900/8726], d_loss: 0.9357, g_loss: 1.3554, Mean D(x): 0.67, Mean D(G(z)): 0.34\n",
      "Epoch [1/10], Step[5000/8726], d_loss: 0.9632, g_loss: 1.5808, Mean D(x): 0.64, Mean D(G(z)): 0.29\n",
      "Epoch [1/10], Step[5100/8726], d_loss: 1.1138, g_loss: 1.5488, Mean D(x): 0.66, Mean D(G(z)): 0.33\n",
      "Epoch [1/10], Step[5200/8726], d_loss: 0.9714, g_loss: 1.2147, Mean D(x): 0.67, Mean D(G(z)): 0.32\n",
      "Epoch [1/10], Step[5300/8726], d_loss: 1.0648, g_loss: 1.3565, Mean D(x): 0.64, Mean D(G(z)): 0.35\n",
      "Epoch [1/10], Step[5400/8726], d_loss: 0.9883, g_loss: 1.8153, Mean D(x): 0.66, Mean D(G(z)): 0.28\n",
      "Epoch [1/10], Step[5500/8726], d_loss: 1.1566, g_loss: 1.6176, Mean D(x): 0.65, Mean D(G(z)): 0.33\n",
      "Epoch [1/10], Step[5600/8726], d_loss: 0.8959, g_loss: 1.5520, Mean D(x): 0.66, Mean D(G(z)): 0.27\n",
      "Epoch [1/10], Step[5700/8726], d_loss: 0.9265, g_loss: 1.6096, Mean D(x): 0.68, Mean D(G(z)): 0.29\n",
      "Epoch [1/10], Step[5800/8726], d_loss: 1.0573, g_loss: 1.1412, Mean D(x): 0.68, Mean D(G(z)): 0.37\n",
      "Epoch [1/10], Step[5900/8726], d_loss: 0.9583, g_loss: 1.3549, Mean D(x): 0.70, Mean D(G(z)): 0.34\n",
      "Epoch [1/10], Step[6000/8726], d_loss: 0.9448, g_loss: 1.1628, Mean D(x): 0.67, Mean D(G(z)): 0.31\n",
      "Epoch [1/10], Step[6100/8726], d_loss: 0.9350, g_loss: 1.3822, Mean D(x): 0.66, Mean D(G(z)): 0.28\n",
      "Epoch [1/10], Step[6200/8726], d_loss: 1.1059, g_loss: 1.3306, Mean D(x): 0.62, Mean D(G(z)): 0.35\n",
      "Epoch [1/10], Step[6300/8726], d_loss: 1.0675, g_loss: 1.3202, Mean D(x): 0.67, Mean D(G(z)): 0.36\n",
      "Epoch [1/10], Step[6400/8726], d_loss: 1.0257, g_loss: 1.2016, Mean D(x): 0.65, Mean D(G(z)): 0.33\n",
      "Epoch [1/10], Step[6500/8726], d_loss: 1.0425, g_loss: 1.2177, Mean D(x): 0.64, Mean D(G(z)): 0.34\n",
      "Epoch [1/10], Step[6600/8726], d_loss: 1.1058, g_loss: 1.4041, Mean D(x): 0.67, Mean D(G(z)): 0.37\n",
      "Epoch [1/10], Step[6700/8726], d_loss: 1.0990, g_loss: 1.6741, Mean D(x): 0.73, Mean D(G(z)): 0.36\n",
      "Epoch [1/10], Step[6800/8726], d_loss: 0.9838, g_loss: 1.4711, Mean D(x): 0.68, Mean D(G(z)): 0.34\n",
      "Epoch [1/10], Step[6900/8726], d_loss: 0.9250, g_loss: 1.4536, Mean D(x): 0.68, Mean D(G(z)): 0.30\n",
      "Epoch [1/10], Step[7000/8726], d_loss: 1.0272, g_loss: 1.3800, Mean D(x): 0.63, Mean D(G(z)): 0.35\n",
      "Epoch [1/10], Step[7100/8726], d_loss: 1.0175, g_loss: 1.4746, Mean D(x): 0.65, Mean D(G(z)): 0.32\n",
      "Epoch [1/10], Step[7200/8726], d_loss: 0.8852, g_loss: 1.2230, Mean D(x): 0.75, Mean D(G(z)): 0.37\n",
      "Epoch [1/10], Step[7300/8726], d_loss: 1.0943, g_loss: 1.7834, Mean D(x): 0.66, Mean D(G(z)): 0.32\n",
      "Epoch [1/10], Step[7400/8726], d_loss: 0.9816, g_loss: 1.4058, Mean D(x): 0.67, Mean D(G(z)): 0.33\n",
      "Epoch [1/10], Step[7500/8726], d_loss: 1.0432, g_loss: 1.3275, Mean D(x): 0.65, Mean D(G(z)): 0.30\n",
      "Epoch [1/10], Step[7600/8726], d_loss: 1.0080, g_loss: 1.3923, Mean D(x): 0.64, Mean D(G(z)): 0.31\n",
      "Epoch [1/10], Step[7700/8726], d_loss: 1.0328, g_loss: 1.4992, Mean D(x): 0.60, Mean D(G(z)): 0.28\n",
      "Epoch [1/10], Step[7800/8726], d_loss: 1.1489, g_loss: 1.3187, Mean D(x): 0.67, Mean D(G(z)): 0.40\n",
      "Epoch [1/10], Step[7900/8726], d_loss: 0.9871, g_loss: 1.2049, Mean D(x): 0.67, Mean D(G(z)): 0.34\n",
      "Epoch [1/10], Step[8000/8726], d_loss: 0.9094, g_loss: 1.5613, Mean D(x): 0.71, Mean D(G(z)): 0.28\n",
      "Epoch [1/10], Step[8100/8726], d_loss: 1.1214, g_loss: 1.0871, Mean D(x): 0.68, Mean D(G(z)): 0.41\n",
      "Epoch [1/10], Step[8200/8726], d_loss: 1.0021, g_loss: 1.2529, Mean D(x): 0.66, Mean D(G(z)): 0.34\n",
      "Epoch [1/10], Step[8300/8726], d_loss: 1.1548, g_loss: 1.3634, Mean D(x): 0.58, Mean D(G(z)): 0.33\n",
      "Epoch [1/10], Step[8400/8726], d_loss: 0.9707, g_loss: 1.1881, Mean D(x): 0.70, Mean D(G(z)): 0.35\n",
      "Epoch [1/10], Step[8500/8726], d_loss: 1.0803, g_loss: 1.1776, Mean D(x): 0.60, Mean D(G(z)): 0.33\n",
      "Epoch [1/10], Step[8600/8726], d_loss: 1.1260, g_loss: 1.5895, Mean D(x): 0.67, Mean D(G(z)): 0.40\n",
      "Epoch [1/10], Step[8700/8726], d_loss: 1.1219, g_loss: 1.1335, Mean D(x): 0.60, Mean D(G(z)): 0.36\n",
      "Epoch [2/10], Step[100/8726], d_loss: 1.0554, g_loss: 1.3900, Mean D(x): 0.63, Mean D(G(z)): 0.33\n",
      "Epoch [2/10], Step[200/8726], d_loss: 1.0558, g_loss: 1.1247, Mean D(x): 0.65, Mean D(G(z)): 0.38\n",
      "Epoch [2/10], Step[300/8726], d_loss: 0.8596, g_loss: 1.3643, Mean D(x): 0.71, Mean D(G(z)): 0.31\n",
      "Epoch [2/10], Step[400/8726], d_loss: 1.1634, g_loss: 1.4186, Mean D(x): 0.52, Mean D(G(z)): 0.27\n",
      "Epoch [2/10], Step[500/8726], d_loss: 1.0397, g_loss: 1.4629, Mean D(x): 0.61, Mean D(G(z)): 0.32\n",
      "Epoch [2/10], Step[600/8726], d_loss: 0.8983, g_loss: 1.2560, Mean D(x): 0.68, Mean D(G(z)): 0.31\n",
      "Epoch [2/10], Step[700/8726], d_loss: 1.0336, g_loss: 1.2793, Mean D(x): 0.67, Mean D(G(z)): 0.35\n",
      "Epoch [2/10], Step[800/8726], d_loss: 1.1515, g_loss: 1.2049, Mean D(x): 0.67, Mean D(G(z)): 0.41\n",
      "Epoch [2/10], Step[900/8726], d_loss: 1.1820, g_loss: 1.2346, Mean D(x): 0.65, Mean D(G(z)): 0.38\n",
      "Epoch [2/10], Step[1000/8726], d_loss: 1.0217, g_loss: 1.2340, Mean D(x): 0.67, Mean D(G(z)): 0.35\n",
      "Epoch [2/10], Step[1100/8726], d_loss: 1.0273, g_loss: 1.3488, Mean D(x): 0.66, Mean D(G(z)): 0.34\n",
      "Epoch [2/10], Step[1200/8726], d_loss: 1.1543, g_loss: 1.2933, Mean D(x): 0.63, Mean D(G(z)): 0.38\n",
      "Epoch [2/10], Step[1300/8726], d_loss: 1.0932, g_loss: 1.5058, Mean D(x): 0.58, Mean D(G(z)): 0.31\n",
      "Epoch [2/10], Step[1400/8726], d_loss: 1.0826, g_loss: 1.4343, Mean D(x): 0.64, Mean D(G(z)): 0.36\n",
      "Epoch [2/10], Step[1500/8726], d_loss: 1.0309, g_loss: 1.2636, Mean D(x): 0.62, Mean D(G(z)): 0.33\n",
      "Epoch [2/10], Step[1600/8726], d_loss: 0.9658, g_loss: 1.3652, Mean D(x): 0.68, Mean D(G(z)): 0.35\n",
      "Epoch [2/10], Step[1700/8726], d_loss: 1.1501, g_loss: 1.2745, Mean D(x): 0.59, Mean D(G(z)): 0.35\n",
      "Epoch [2/10], Step[1800/8726], d_loss: 1.0177, g_loss: 1.3519, Mean D(x): 0.70, Mean D(G(z)): 0.34\n",
      "Epoch [2/10], Step[1900/8726], d_loss: 1.0942, g_loss: 1.4108, Mean D(x): 0.64, Mean D(G(z)): 0.34\n",
      "Epoch [2/10], Step[2000/8726], d_loss: 1.0657, g_loss: 1.4088, Mean D(x): 0.67, Mean D(G(z)): 0.37\n",
      "Epoch [2/10], Step[2100/8726], d_loss: 0.8859, g_loss: 1.3485, Mean D(x): 0.72, Mean D(G(z)): 0.35\n",
      "Epoch [2/10], Step[2200/8726], d_loss: 1.0608, g_loss: 1.4221, Mean D(x): 0.63, Mean D(G(z)): 0.34\n",
      "Epoch [2/10], Step[2300/8726], d_loss: 1.1217, g_loss: 1.1441, Mean D(x): 0.59, Mean D(G(z)): 0.33\n",
      "Epoch [2/10], Step[2400/8726], d_loss: 1.0554, g_loss: 1.3782, Mean D(x): 0.63, Mean D(G(z)): 0.36\n",
      "Epoch [2/10], Step[2500/8726], d_loss: 1.0591, g_loss: 1.2978, Mean D(x): 0.63, Mean D(G(z)): 0.37\n",
      "Epoch [2/10], Step[2600/8726], d_loss: 1.1222, g_loss: 1.1189, Mean D(x): 0.61, Mean D(G(z)): 0.38\n",
      "Epoch [2/10], Step[2700/8726], d_loss: 1.0016, g_loss: 1.3547, Mean D(x): 0.68, Mean D(G(z)): 0.34\n",
      "Epoch [2/10], Step[2800/8726], d_loss: 1.0630, g_loss: 1.2921, Mean D(x): 0.66, Mean D(G(z)): 0.34\n",
      "Epoch [2/10], Step[2900/8726], d_loss: 1.0392, g_loss: 1.2273, Mean D(x): 0.70, Mean D(G(z)): 0.42\n",
      "Epoch [2/10], Step[3000/8726], d_loss: 1.0394, g_loss: 1.3705, Mean D(x): 0.61, Mean D(G(z)): 0.31\n",
      "Epoch [2/10], Step[3100/8726], d_loss: 1.1974, g_loss: 1.5253, Mean D(x): 0.58, Mean D(G(z)): 0.27\n",
      "Epoch [2/10], Step[3200/8726], d_loss: 1.0590, g_loss: 1.3446, Mean D(x): 0.67, Mean D(G(z)): 0.36\n",
      "Epoch [2/10], Step[3300/8726], d_loss: 1.0264, g_loss: 1.3273, Mean D(x): 0.65, Mean D(G(z)): 0.31\n",
      "Epoch [2/10], Step[3400/8726], d_loss: 1.1987, g_loss: 1.4837, Mean D(x): 0.60, Mean D(G(z)): 0.36\n",
      "Epoch [2/10], Step[3500/8726], d_loss: 0.9259, g_loss: 1.2078, Mean D(x): 0.71, Mean D(G(z)): 0.35\n",
      "Epoch [2/10], Step[3600/8726], d_loss: 1.1352, g_loss: 1.2649, Mean D(x): 0.67, Mean D(G(z)): 0.40\n",
      "Epoch [2/10], Step[3700/8726], d_loss: 1.0177, g_loss: 1.2321, Mean D(x): 0.62, Mean D(G(z)): 0.34\n",
      "Epoch [2/10], Step[3800/8726], d_loss: 1.0905, g_loss: 1.2723, Mean D(x): 0.59, Mean D(G(z)): 0.30\n",
      "Epoch [2/10], Step[3900/8726], d_loss: 1.0495, g_loss: 1.3006, Mean D(x): 0.62, Mean D(G(z)): 0.31\n",
      "Epoch [2/10], Step[4000/8726], d_loss: 1.0268, g_loss: 1.2577, Mean D(x): 0.70, Mean D(G(z)): 0.39\n",
      "Epoch [2/10], Step[4100/8726], d_loss: 1.0753, g_loss: 1.5075, Mean D(x): 0.63, Mean D(G(z)): 0.34\n",
      "Epoch [2/10], Step[4200/8726], d_loss: 1.2343, g_loss: 1.2822, Mean D(x): 0.56, Mean D(G(z)): 0.31\n",
      "Epoch [2/10], Step[4300/8726], d_loss: 1.0038, g_loss: 1.2509, Mean D(x): 0.65, Mean D(G(z)): 0.33\n",
      "Epoch [2/10], Step[4400/8726], d_loss: 0.9778, g_loss: 1.1968, Mean D(x): 0.66, Mean D(G(z)): 0.32\n",
      "Epoch [2/10], Step[4500/8726], d_loss: 0.7254, g_loss: 1.4776, Mean D(x): 0.75, Mean D(G(z)): 0.28\n",
      "Epoch [2/10], Step[4600/8726], d_loss: 1.1323, g_loss: 1.3868, Mean D(x): 0.62, Mean D(G(z)): 0.36\n",
      "Epoch [2/10], Step[4700/8726], d_loss: 1.0029, g_loss: 1.2322, Mean D(x): 0.66, Mean D(G(z)): 0.34\n",
      "Epoch [2/10], Step[4800/8726], d_loss: 1.0416, g_loss: 1.6666, Mean D(x): 0.62, Mean D(G(z)): 0.32\n",
      "Epoch [2/10], Step[4900/8726], d_loss: 1.0056, g_loss: 1.3067, Mean D(x): 0.71, Mean D(G(z)): 0.39\n",
      "Epoch [2/10], Step[5000/8726], d_loss: 1.1384, g_loss: 1.3030, Mean D(x): 0.62, Mean D(G(z)): 0.38\n",
      "Epoch [2/10], Step[5100/8726], d_loss: 1.0340, g_loss: 1.4176, Mean D(x): 0.60, Mean D(G(z)): 0.31\n",
      "Epoch [2/10], Step[5200/8726], d_loss: 1.1672, g_loss: 1.1346, Mean D(x): 0.63, Mean D(G(z)): 0.42\n",
      "Epoch [2/10], Step[5300/8726], d_loss: 1.0617, g_loss: 1.1511, Mean D(x): 0.64, Mean D(G(z)): 0.36\n",
      "Epoch [2/10], Step[5400/8726], d_loss: 1.0903, g_loss: 1.3324, Mean D(x): 0.63, Mean D(G(z)): 0.35\n",
      "Epoch [2/10], Step[5500/8726], d_loss: 0.9588, g_loss: 1.6621, Mean D(x): 0.64, Mean D(G(z)): 0.28\n",
      "Epoch [2/10], Step[5600/8726], d_loss: 1.0637, g_loss: 1.0345, Mean D(x): 0.67, Mean D(G(z)): 0.38\n",
      "Epoch [2/10], Step[5700/8726], d_loss: 1.1713, g_loss: 1.1631, Mean D(x): 0.65, Mean D(G(z)): 0.41\n",
      "Epoch [2/10], Step[5800/8726], d_loss: 0.9328, g_loss: 1.3725, Mean D(x): 0.72, Mean D(G(z)): 0.36\n",
      "Epoch [2/10], Step[5900/8726], d_loss: 0.9433, g_loss: 1.3528, Mean D(x): 0.66, Mean D(G(z)): 0.31\n",
      "Epoch [2/10], Step[6000/8726], d_loss: 1.1066, g_loss: 1.5481, Mean D(x): 0.63, Mean D(G(z)): 0.32\n",
      "Epoch [2/10], Step[6100/8726], d_loss: 0.9649, g_loss: 1.4173, Mean D(x): 0.59, Mean D(G(z)): 0.26\n",
      "Epoch [2/10], Step[6200/8726], d_loss: 1.1368, g_loss: 1.3916, Mean D(x): 0.60, Mean D(G(z)): 0.35\n",
      "Epoch [2/10], Step[6300/8726], d_loss: 1.0582, g_loss: 1.1759, Mean D(x): 0.65, Mean D(G(z)): 0.37\n",
      "Epoch [2/10], Step[6400/8726], d_loss: 1.3157, g_loss: 1.0672, Mean D(x): 0.60, Mean D(G(z)): 0.39\n",
      "Epoch [2/10], Step[6500/8726], d_loss: 0.9906, g_loss: 1.4741, Mean D(x): 0.66, Mean D(G(z)): 0.33\n",
      "Epoch [2/10], Step[6600/8726], d_loss: 1.0739, g_loss: 1.2244, Mean D(x): 0.63, Mean D(G(z)): 0.34\n",
      "Epoch [2/10], Step[6700/8726], d_loss: 1.1294, g_loss: 1.2241, Mean D(x): 0.64, Mean D(G(z)): 0.38\n",
      "Epoch [2/10], Step[6800/8726], d_loss: 1.0811, g_loss: 1.2708, Mean D(x): 0.62, Mean D(G(z)): 0.35\n",
      "Epoch [2/10], Step[6900/8726], d_loss: 0.9980, g_loss: 1.3437, Mean D(x): 0.65, Mean D(G(z)): 0.33\n",
      "Epoch [2/10], Step[7000/8726], d_loss: 1.0411, g_loss: 1.3147, Mean D(x): 0.65, Mean D(G(z)): 0.34\n",
      "Epoch [2/10], Step[7100/8726], d_loss: 1.0391, g_loss: 1.3527, Mean D(x): 0.64, Mean D(G(z)): 0.34\n",
      "Epoch [2/10], Step[7200/8726], d_loss: 0.8969, g_loss: 1.1744, Mean D(x): 0.74, Mean D(G(z)): 0.34\n",
      "Epoch [2/10], Step[7300/8726], d_loss: 1.1974, g_loss: 1.2259, Mean D(x): 0.61, Mean D(G(z)): 0.41\n",
      "Epoch [2/10], Step[7400/8726], d_loss: 1.0386, g_loss: 1.2819, Mean D(x): 0.63, Mean D(G(z)): 0.37\n",
      "Epoch [2/10], Step[7500/8726], d_loss: 1.1389, g_loss: 1.0227, Mean D(x): 0.64, Mean D(G(z)): 0.39\n",
      "Epoch [2/10], Step[7600/8726], d_loss: 1.0286, g_loss: 1.2367, Mean D(x): 0.65, Mean D(G(z)): 0.34\n",
      "Epoch [2/10], Step[7700/8726], d_loss: 1.1047, g_loss: 1.2668, Mean D(x): 0.65, Mean D(G(z)): 0.37\n",
      "Epoch [2/10], Step[7800/8726], d_loss: 1.0334, g_loss: 1.2618, Mean D(x): 0.68, Mean D(G(z)): 0.37\n",
      "Epoch [2/10], Step[7900/8726], d_loss: 1.2766, g_loss: 1.3648, Mean D(x): 0.63, Mean D(G(z)): 0.41\n",
      "Epoch [2/10], Step[8000/8726], d_loss: 1.0826, g_loss: 1.3109, Mean D(x): 0.60, Mean D(G(z)): 0.30\n",
      "Epoch [2/10], Step[8100/8726], d_loss: 1.1909, g_loss: 1.2324, Mean D(x): 0.60, Mean D(G(z)): 0.36\n",
      "Epoch [2/10], Step[8200/8726], d_loss: 0.9333, g_loss: 1.4734, Mean D(x): 0.68, Mean D(G(z)): 0.32\n",
      "Epoch [2/10], Step[8300/8726], d_loss: 1.0754, g_loss: 1.1918, Mean D(x): 0.60, Mean D(G(z)): 0.34\n",
      "Epoch [2/10], Step[8400/8726], d_loss: 1.0736, g_loss: 1.4122, Mean D(x): 0.62, Mean D(G(z)): 0.34\n",
      "Epoch [2/10], Step[8500/8726], d_loss: 1.3098, g_loss: 1.2183, Mean D(x): 0.61, Mean D(G(z)): 0.40\n",
      "Epoch [2/10], Step[8600/8726], d_loss: 1.1529, g_loss: 1.3481, Mean D(x): 0.64, Mean D(G(z)): 0.35\n",
      "Epoch [2/10], Step[8700/8726], d_loss: 1.0605, g_loss: 1.3315, Mean D(x): 0.65, Mean D(G(z)): 0.34\n",
      "Epoch [3/10], Step[100/8726], d_loss: 1.0340, g_loss: 1.2540, Mean D(x): 0.70, Mean D(G(z)): 0.40\n",
      "Epoch [3/10], Step[200/8726], d_loss: 1.2018, g_loss: 1.3227, Mean D(x): 0.58, Mean D(G(z)): 0.36\n",
      "Epoch [3/10], Step[300/8726], d_loss: 1.1640, g_loss: 1.0644, Mean D(x): 0.66, Mean D(G(z)): 0.39\n",
      "Epoch [3/10], Step[400/8726], d_loss: 1.1435, g_loss: 1.0863, Mean D(x): 0.71, Mean D(G(z)): 0.44\n",
      "Epoch [3/10], Step[500/8726], d_loss: 1.1402, g_loss: 1.3386, Mean D(x): 0.64, Mean D(G(z)): 0.39\n",
      "Epoch [3/10], Step[600/8726], d_loss: 0.9711, g_loss: 1.2826, Mean D(x): 0.66, Mean D(G(z)): 0.34\n",
      "Epoch [3/10], Step[700/8726], d_loss: 1.1964, g_loss: 1.2444, Mean D(x): 0.61, Mean D(G(z)): 0.41\n",
      "Epoch [3/10], Step[800/8726], d_loss: 1.0621, g_loss: 1.3885, Mean D(x): 0.64, Mean D(G(z)): 0.32\n",
      "Epoch [3/10], Step[900/8726], d_loss: 0.8954, g_loss: 1.4711, Mean D(x): 0.73, Mean D(G(z)): 0.32\n",
      "Epoch [3/10], Step[1000/8726], d_loss: 1.0011, g_loss: 1.2077, Mean D(x): 0.65, Mean D(G(z)): 0.32\n",
      "Epoch [3/10], Step[1100/8726], d_loss: 1.0590, g_loss: 1.2556, Mean D(x): 0.68, Mean D(G(z)): 0.37\n",
      "Epoch [3/10], Step[1200/8726], d_loss: 1.2826, g_loss: 0.9939, Mean D(x): 0.61, Mean D(G(z)): 0.42\n",
      "Epoch [3/10], Step[1300/8726], d_loss: 1.0464, g_loss: 1.0798, Mean D(x): 0.66, Mean D(G(z)): 0.35\n",
      "Epoch [3/10], Step[1400/8726], d_loss: 1.0040, g_loss: 1.0536, Mean D(x): 0.67, Mean D(G(z)): 0.35\n",
      "Epoch [3/10], Step[1500/8726], d_loss: 1.0372, g_loss: 1.3246, Mean D(x): 0.64, Mean D(G(z)): 0.34\n",
      "Epoch [3/10], Step[1600/8726], d_loss: 1.1048, g_loss: 1.2641, Mean D(x): 0.64, Mean D(G(z)): 0.37\n",
      "Epoch [3/10], Step[1700/8726], d_loss: 1.1084, g_loss: 1.2408, Mean D(x): 0.60, Mean D(G(z)): 0.32\n",
      "Epoch [3/10], Step[1800/8726], d_loss: 0.9054, g_loss: 1.1636, Mean D(x): 0.71, Mean D(G(z)): 0.34\n",
      "Epoch [3/10], Step[1900/8726], d_loss: 1.0382, g_loss: 1.0197, Mean D(x): 0.65, Mean D(G(z)): 0.38\n",
      "Epoch [3/10], Step[2000/8726], d_loss: 0.9696, g_loss: 1.2906, Mean D(x): 0.68, Mean D(G(z)): 0.32\n",
      "Epoch [3/10], Step[2100/8726], d_loss: 1.1944, g_loss: 1.3176, Mean D(x): 0.63, Mean D(G(z)): 0.36\n",
      "Epoch [3/10], Step[2200/8726], d_loss: 1.0443, g_loss: 1.1134, Mean D(x): 0.63, Mean D(G(z)): 0.37\n",
      "Epoch [3/10], Step[2300/8726], d_loss: 1.0742, g_loss: 1.2448, Mean D(x): 0.63, Mean D(G(z)): 0.37\n",
      "Epoch [3/10], Step[2400/8726], d_loss: 0.9560, g_loss: 1.3197, Mean D(x): 0.69, Mean D(G(z)): 0.36\n",
      "Epoch [3/10], Step[2500/8726], d_loss: 1.2541, g_loss: 1.1771, Mean D(x): 0.57, Mean D(G(z)): 0.40\n",
      "Epoch [3/10], Step[2600/8726], d_loss: 1.0946, g_loss: 1.2310, Mean D(x): 0.61, Mean D(G(z)): 0.32\n",
      "Epoch [3/10], Step[2700/8726], d_loss: 1.1704, g_loss: 1.1007, Mean D(x): 0.69, Mean D(G(z)): 0.46\n",
      "Epoch [3/10], Step[2800/8726], d_loss: 0.9358, g_loss: 1.0890, Mean D(x): 0.66, Mean D(G(z)): 0.34\n",
      "Epoch [3/10], Step[2900/8726], d_loss: 1.1759, g_loss: 1.1280, Mean D(x): 0.60, Mean D(G(z)): 0.38\n",
      "Epoch [3/10], Step[3000/8726], d_loss: 1.0525, g_loss: 0.9996, Mean D(x): 0.63, Mean D(G(z)): 0.38\n",
      "Epoch [3/10], Step[3100/8726], d_loss: 1.0181, g_loss: 1.0589, Mean D(x): 0.69, Mean D(G(z)): 0.37\n",
      "Epoch [3/10], Step[3200/8726], d_loss: 0.8653, g_loss: 1.4679, Mean D(x): 0.68, Mean D(G(z)): 0.28\n",
      "Epoch [3/10], Step[3300/8726], d_loss: 1.2428, g_loss: 0.9849, Mean D(x): 0.69, Mean D(G(z)): 0.44\n",
      "Epoch [3/10], Step[3400/8726], d_loss: 1.0336, g_loss: 1.1404, Mean D(x): 0.63, Mean D(G(z)): 0.34\n",
      "Epoch [3/10], Step[3500/8726], d_loss: 1.1183, g_loss: 1.2181, Mean D(x): 0.67, Mean D(G(z)): 0.40\n",
      "Epoch [3/10], Step[3600/8726], d_loss: 1.0695, g_loss: 1.2524, Mean D(x): 0.61, Mean D(G(z)): 0.36\n",
      "Epoch [3/10], Step[3700/8726], d_loss: 1.1285, g_loss: 1.1562, Mean D(x): 0.63, Mean D(G(z)): 0.38\n",
      "Epoch [3/10], Step[3800/8726], d_loss: 1.0411, g_loss: 1.1731, Mean D(x): 0.66, Mean D(G(z)): 0.39\n",
      "Epoch [3/10], Step[3900/8726], d_loss: 1.1242, g_loss: 1.0891, Mean D(x): 0.63, Mean D(G(z)): 0.38\n",
      "Epoch [3/10], Step[4000/8726], d_loss: 1.0764, g_loss: 1.2966, Mean D(x): 0.63, Mean D(G(z)): 0.34\n",
      "Epoch [3/10], Step[4100/8726], d_loss: 1.0527, g_loss: 1.3003, Mean D(x): 0.64, Mean D(G(z)): 0.33\n",
      "Epoch [3/10], Step[4200/8726], d_loss: 1.1802, g_loss: 1.1527, Mean D(x): 0.62, Mean D(G(z)): 0.40\n",
      "Epoch [3/10], Step[4300/8726], d_loss: 1.1943, g_loss: 1.1767, Mean D(x): 0.66, Mean D(G(z)): 0.39\n",
      "Epoch [3/10], Step[4400/8726], d_loss: 1.0653, g_loss: 1.3329, Mean D(x): 0.58, Mean D(G(z)): 0.29\n",
      "Epoch [3/10], Step[4500/8726], d_loss: 1.1693, g_loss: 1.3683, Mean D(x): 0.67, Mean D(G(z)): 0.41\n",
      "Epoch [3/10], Step[4600/8726], d_loss: 0.9350, g_loss: 1.2118, Mean D(x): 0.73, Mean D(G(z)): 0.36\n",
      "Epoch [3/10], Step[4700/8726], d_loss: 0.9460, g_loss: 1.1963, Mean D(x): 0.65, Mean D(G(z)): 0.31\n",
      "Epoch [3/10], Step[4800/8726], d_loss: 1.0137, g_loss: 1.3249, Mean D(x): 0.66, Mean D(G(z)): 0.30\n",
      "Epoch [3/10], Step[4900/8726], d_loss: 1.1061, g_loss: 1.4255, Mean D(x): 0.61, Mean D(G(z)): 0.33\n",
      "Epoch [3/10], Step[5000/8726], d_loss: 1.0826, g_loss: 1.0574, Mean D(x): 0.66, Mean D(G(z)): 0.43\n",
      "Epoch [3/10], Step[5100/8726], d_loss: 1.0246, g_loss: 1.5115, Mean D(x): 0.64, Mean D(G(z)): 0.30\n",
      "Epoch [3/10], Step[5200/8726], d_loss: 1.1107, g_loss: 1.1814, Mean D(x): 0.65, Mean D(G(z)): 0.36\n",
      "Epoch [3/10], Step[5300/8726], d_loss: 1.1939, g_loss: 1.4762, Mean D(x): 0.67, Mean D(G(z)): 0.41\n",
      "Epoch [3/10], Step[5400/8726], d_loss: 1.1157, g_loss: 1.2582, Mean D(x): 0.62, Mean D(G(z)): 0.36\n",
      "Epoch [3/10], Step[5500/8726], d_loss: 1.0809, g_loss: 1.2518, Mean D(x): 0.63, Mean D(G(z)): 0.31\n",
      "Epoch [3/10], Step[5600/8726], d_loss: 1.2839, g_loss: 0.9622, Mean D(x): 0.64, Mean D(G(z)): 0.47\n",
      "Epoch [3/10], Step[5700/8726], d_loss: 1.0569, g_loss: 1.5258, Mean D(x): 0.61, Mean D(G(z)): 0.30\n",
      "Epoch [3/10], Step[5800/8726], d_loss: 1.0068, g_loss: 1.2124, Mean D(x): 0.68, Mean D(G(z)): 0.34\n",
      "Epoch [3/10], Step[5900/8726], d_loss: 1.2282, g_loss: 1.4225, Mean D(x): 0.59, Mean D(G(z)): 0.31\n",
      "Epoch [3/10], Step[6000/8726], d_loss: 1.0704, g_loss: 0.9651, Mean D(x): 0.70, Mean D(G(z)): 0.40\n",
      "Epoch [3/10], Step[6100/8726], d_loss: 1.0069, g_loss: 1.4186, Mean D(x): 0.69, Mean D(G(z)): 0.35\n",
      "Epoch [3/10], Step[6200/8726], d_loss: 1.1439, g_loss: 1.3087, Mean D(x): 0.62, Mean D(G(z)): 0.39\n",
      "Epoch [3/10], Step[6300/8726], d_loss: 1.0952, g_loss: 1.4626, Mean D(x): 0.59, Mean D(G(z)): 0.32\n",
      "Epoch [3/10], Step[6400/8726], d_loss: 1.1372, g_loss: 1.3905, Mean D(x): 0.66, Mean D(G(z)): 0.39\n",
      "Epoch [3/10], Step[6500/8726], d_loss: 0.9545, g_loss: 1.1420, Mean D(x): 0.70, Mean D(G(z)): 0.35\n",
      "Epoch [3/10], Step[6600/8726], d_loss: 1.1026, g_loss: 1.3945, Mean D(x): 0.63, Mean D(G(z)): 0.33\n",
      "Epoch [3/10], Step[6700/8726], d_loss: 1.0485, g_loss: 1.4367, Mean D(x): 0.65, Mean D(G(z)): 0.31\n",
      "Epoch [3/10], Step[6800/8726], d_loss: 0.8763, g_loss: 1.1650, Mean D(x): 0.72, Mean D(G(z)): 0.36\n",
      "Epoch [3/10], Step[6900/8726], d_loss: 1.1350, g_loss: 1.2064, Mean D(x): 0.69, Mean D(G(z)): 0.42\n",
      "Epoch [3/10], Step[7000/8726], d_loss: 1.1644, g_loss: 1.1470, Mean D(x): 0.68, Mean D(G(z)): 0.42\n",
      "Epoch [3/10], Step[7100/8726], d_loss: 1.2327, g_loss: 1.0511, Mean D(x): 0.60, Mean D(G(z)): 0.41\n",
      "Epoch [3/10], Step[7200/8726], d_loss: 1.1572, g_loss: 1.5141, Mean D(x): 0.58, Mean D(G(z)): 0.32\n",
      "Epoch [3/10], Step[7300/8726], d_loss: 1.1770, g_loss: 1.1324, Mean D(x): 0.62, Mean D(G(z)): 0.40\n",
      "Epoch [3/10], Step[7400/8726], d_loss: 1.1925, g_loss: 1.1865, Mean D(x): 0.56, Mean D(G(z)): 0.35\n",
      "Epoch [3/10], Step[7500/8726], d_loss: 0.9677, g_loss: 1.2776, Mean D(x): 0.68, Mean D(G(z)): 0.35\n",
      "Epoch [3/10], Step[7600/8726], d_loss: 1.1023, g_loss: 1.2010, Mean D(x): 0.64, Mean D(G(z)): 0.38\n",
      "Epoch [3/10], Step[7700/8726], d_loss: 1.0528, g_loss: 1.3242, Mean D(x): 0.61, Mean D(G(z)): 0.32\n",
      "Epoch [3/10], Step[7800/8726], d_loss: 1.1969, g_loss: 1.0869, Mean D(x): 0.63, Mean D(G(z)): 0.38\n",
      "Epoch [3/10], Step[7900/8726], d_loss: 1.1816, g_loss: 1.1401, Mean D(x): 0.62, Mean D(G(z)): 0.40\n",
      "Epoch [3/10], Step[8000/8726], d_loss: 1.0267, g_loss: 1.3332, Mean D(x): 0.59, Mean D(G(z)): 0.31\n",
      "Epoch [3/10], Step[8100/8726], d_loss: 0.9991, g_loss: 1.1608, Mean D(x): 0.67, Mean D(G(z)): 0.35\n",
      "Epoch [3/10], Step[8200/8726], d_loss: 0.9509, g_loss: 1.1871, Mean D(x): 0.70, Mean D(G(z)): 0.36\n",
      "Epoch [3/10], Step[8300/8726], d_loss: 1.1877, g_loss: 1.4509, Mean D(x): 0.61, Mean D(G(z)): 0.34\n",
      "Epoch [3/10], Step[8400/8726], d_loss: 1.0954, g_loss: 1.0447, Mean D(x): 0.69, Mean D(G(z)): 0.40\n",
      "Epoch [3/10], Step[8500/8726], d_loss: 1.0599, g_loss: 1.1526, Mean D(x): 0.62, Mean D(G(z)): 0.36\n",
      "Epoch [3/10], Step[8600/8726], d_loss: 1.0956, g_loss: 1.3826, Mean D(x): 0.67, Mean D(G(z)): 0.38\n",
      "Epoch [3/10], Step[8700/8726], d_loss: 1.1448, g_loss: 1.1888, Mean D(x): 0.65, Mean D(G(z)): 0.41\n",
      "Epoch [4/10], Step[100/8726], d_loss: 0.9499, g_loss: 1.2554, Mean D(x): 0.66, Mean D(G(z)): 0.32\n",
      "Epoch [4/10], Step[200/8726], d_loss: 1.0723, g_loss: 0.9124, Mean D(x): 0.64, Mean D(G(z)): 0.40\n",
      "Epoch [4/10], Step[300/8726], d_loss: 1.0578, g_loss: 1.1644, Mean D(x): 0.59, Mean D(G(z)): 0.32\n",
      "Epoch [4/10], Step[400/8726], d_loss: 1.2743, g_loss: 1.3383, Mean D(x): 0.57, Mean D(G(z)): 0.36\n",
      "Epoch [4/10], Step[500/8726], d_loss: 1.1301, g_loss: 1.4283, Mean D(x): 0.59, Mean D(G(z)): 0.30\n",
      "Epoch [4/10], Step[600/8726], d_loss: 1.1681, g_loss: 0.9940, Mean D(x): 0.63, Mean D(G(z)): 0.42\n",
      "Epoch [4/10], Step[700/8726], d_loss: 1.1878, g_loss: 1.1219, Mean D(x): 0.67, Mean D(G(z)): 0.43\n",
      "Epoch [4/10], Step[800/8726], d_loss: 1.1193, g_loss: 1.1576, Mean D(x): 0.65, Mean D(G(z)): 0.40\n",
      "Epoch [4/10], Step[900/8726], d_loss: 1.0559, g_loss: 1.3542, Mean D(x): 0.72, Mean D(G(z)): 0.41\n",
      "Epoch [4/10], Step[1000/8726], d_loss: 0.9760, g_loss: 1.4894, Mean D(x): 0.65, Mean D(G(z)): 0.31\n",
      "Epoch [4/10], Step[1100/8726], d_loss: 1.2244, g_loss: 1.4156, Mean D(x): 0.58, Mean D(G(z)): 0.36\n",
      "Epoch [4/10], Step[1200/8726], d_loss: 1.1845, g_loss: 1.0393, Mean D(x): 0.57, Mean D(G(z)): 0.38\n",
      "Epoch [4/10], Step[1300/8726], d_loss: 1.0231, g_loss: 1.1768, Mean D(x): 0.67, Mean D(G(z)): 0.36\n",
      "Epoch [4/10], Step[1400/8726], d_loss: 1.0402, g_loss: 1.2282, Mean D(x): 0.67, Mean D(G(z)): 0.40\n",
      "Epoch [4/10], Step[1500/8726], d_loss: 1.0654, g_loss: 1.3209, Mean D(x): 0.63, Mean D(G(z)): 0.35\n",
      "Epoch [4/10], Step[1600/8726], d_loss: 1.0861, g_loss: 1.2722, Mean D(x): 0.63, Mean D(G(z)): 0.36\n",
      "Epoch [4/10], Step[1700/8726], d_loss: 1.0783, g_loss: 1.2180, Mean D(x): 0.66, Mean D(G(z)): 0.37\n",
      "Epoch [4/10], Step[1800/8726], d_loss: 1.1517, g_loss: 1.1500, Mean D(x): 0.61, Mean D(G(z)): 0.38\n",
      "Epoch [4/10], Step[1900/8726], d_loss: 1.1033, g_loss: 1.1677, Mean D(x): 0.61, Mean D(G(z)): 0.36\n",
      "Epoch [4/10], Step[2000/8726], d_loss: 1.1416, g_loss: 1.1271, Mean D(x): 0.62, Mean D(G(z)): 0.38\n",
      "Epoch [4/10], Step[2100/8726], d_loss: 0.9745, g_loss: 1.4471, Mean D(x): 0.68, Mean D(G(z)): 0.33\n",
      "Epoch [4/10], Step[2200/8726], d_loss: 1.1253, g_loss: 1.2098, Mean D(x): 0.62, Mean D(G(z)): 0.35\n",
      "Epoch [4/10], Step[2300/8726], d_loss: 1.0553, g_loss: 1.1880, Mean D(x): 0.68, Mean D(G(z)): 0.36\n",
      "Epoch [4/10], Step[2400/8726], d_loss: 1.2869, g_loss: 1.1192, Mean D(x): 0.55, Mean D(G(z)): 0.37\n",
      "Epoch [4/10], Step[2500/8726], d_loss: 1.0084, g_loss: 1.1444, Mean D(x): 0.71, Mean D(G(z)): 0.41\n",
      "Epoch [4/10], Step[2600/8726], d_loss: 1.1981, g_loss: 1.3002, Mean D(x): 0.58, Mean D(G(z)): 0.36\n",
      "Epoch [4/10], Step[2700/8726], d_loss: 1.0793, g_loss: 1.1205, Mean D(x): 0.62, Mean D(G(z)): 0.37\n",
      "Epoch [4/10], Step[2800/8726], d_loss: 1.0551, g_loss: 1.0494, Mean D(x): 0.68, Mean D(G(z)): 0.39\n",
      "Epoch [4/10], Step[2900/8726], d_loss: 1.2185, g_loss: 0.9101, Mean D(x): 0.60, Mean D(G(z)): 0.45\n",
      "Epoch [4/10], Step[3000/8726], d_loss: 1.0354, g_loss: 1.1414, Mean D(x): 0.64, Mean D(G(z)): 0.34\n",
      "Epoch [4/10], Step[3100/8726], d_loss: 1.2215, g_loss: 1.1932, Mean D(x): 0.60, Mean D(G(z)): 0.39\n",
      "Epoch [4/10], Step[3200/8726], d_loss: 1.1374, g_loss: 1.0782, Mean D(x): 0.61, Mean D(G(z)): 0.37\n",
      "Epoch [4/10], Step[3300/8726], d_loss: 1.1368, g_loss: 1.1816, Mean D(x): 0.71, Mean D(G(z)): 0.43\n",
      "Epoch [4/10], Step[3400/8726], d_loss: 1.1196, g_loss: 1.0239, Mean D(x): 0.61, Mean D(G(z)): 0.37\n",
      "Epoch [4/10], Step[3500/8726], d_loss: 1.2202, g_loss: 1.2220, Mean D(x): 0.61, Mean D(G(z)): 0.40\n",
      "Epoch [4/10], Step[3600/8726], d_loss: 1.1220, g_loss: 0.9967, Mean D(x): 0.64, Mean D(G(z)): 0.39\n",
      "Epoch [4/10], Step[3700/8726], d_loss: 1.0702, g_loss: 1.1938, Mean D(x): 0.63, Mean D(G(z)): 0.35\n",
      "Epoch [4/10], Step[3800/8726], d_loss: 1.1268, g_loss: 1.3370, Mean D(x): 0.62, Mean D(G(z)): 0.36\n",
      "Epoch [4/10], Step[3900/8726], d_loss: 1.1255, g_loss: 1.2033, Mean D(x): 0.64, Mean D(G(z)): 0.39\n",
      "Epoch [4/10], Step[4000/8726], d_loss: 1.0504, g_loss: 1.1746, Mean D(x): 0.62, Mean D(G(z)): 0.34\n",
      "Epoch [4/10], Step[4100/8726], d_loss: 1.0619, g_loss: 1.1801, Mean D(x): 0.65, Mean D(G(z)): 0.40\n",
      "Epoch [4/10], Step[4200/8726], d_loss: 1.3027, g_loss: 1.3147, Mean D(x): 0.59, Mean D(G(z)): 0.43\n",
      "Epoch [4/10], Step[4300/8726], d_loss: 1.2108, g_loss: 1.0736, Mean D(x): 0.65, Mean D(G(z)): 0.45\n",
      "Epoch [4/10], Step[4400/8726], d_loss: 1.1252, g_loss: 1.0457, Mean D(x): 0.63, Mean D(G(z)): 0.36\n",
      "Epoch [4/10], Step[4500/8726], d_loss: 1.1722, g_loss: 1.0674, Mean D(x): 0.67, Mean D(G(z)): 0.43\n",
      "Epoch [4/10], Step[4600/8726], d_loss: 1.0102, g_loss: 1.1561, Mean D(x): 0.64, Mean D(G(z)): 0.33\n",
      "Epoch [4/10], Step[4700/8726], d_loss: 1.0304, g_loss: 1.1993, Mean D(x): 0.64, Mean D(G(z)): 0.34\n",
      "Epoch [4/10], Step[4800/8726], d_loss: 0.9953, g_loss: 1.4373, Mean D(x): 0.69, Mean D(G(z)): 0.36\n",
      "Epoch [4/10], Step[4900/8726], d_loss: 1.1773, g_loss: 1.0922, Mean D(x): 0.62, Mean D(G(z)): 0.41\n",
      "Epoch [4/10], Step[5000/8726], d_loss: 0.9680, g_loss: 0.9541, Mean D(x): 0.74, Mean D(G(z)): 0.43\n",
      "Epoch [4/10], Step[5100/8726], d_loss: 0.9986, g_loss: 1.0849, Mean D(x): 0.67, Mean D(G(z)): 0.38\n",
      "Epoch [4/10], Step[5200/8726], d_loss: 1.1384, g_loss: 1.2347, Mean D(x): 0.61, Mean D(G(z)): 0.38\n",
      "Epoch [4/10], Step[5300/8726], d_loss: 1.0261, g_loss: 0.9650, Mean D(x): 0.67, Mean D(G(z)): 0.40\n",
      "Epoch [4/10], Step[5400/8726], d_loss: 1.0544, g_loss: 1.2864, Mean D(x): 0.60, Mean D(G(z)): 0.31\n",
      "Epoch [4/10], Step[5500/8726], d_loss: 1.0799, g_loss: 1.0618, Mean D(x): 0.61, Mean D(G(z)): 0.36\n",
      "Epoch [4/10], Step[5600/8726], d_loss: 1.0768, g_loss: 1.0445, Mean D(x): 0.65, Mean D(G(z)): 0.39\n",
      "Epoch [4/10], Step[5700/8726], d_loss: 1.0418, g_loss: 1.2008, Mean D(x): 0.64, Mean D(G(z)): 0.34\n",
      "Epoch [4/10], Step[5800/8726], d_loss: 1.1379, g_loss: 1.1836, Mean D(x): 0.60, Mean D(G(z)): 0.35\n",
      "Epoch [4/10], Step[5900/8726], d_loss: 1.0106, g_loss: 1.0903, Mean D(x): 0.64, Mean D(G(z)): 0.36\n",
      "Epoch [4/10], Step[6000/8726], d_loss: 1.0872, g_loss: 1.0278, Mean D(x): 0.65, Mean D(G(z)): 0.42\n",
      "Epoch [4/10], Step[6100/8726], d_loss: 1.2177, g_loss: 1.3072, Mean D(x): 0.57, Mean D(G(z)): 0.39\n",
      "Epoch [4/10], Step[6200/8726], d_loss: 1.0477, g_loss: 1.3570, Mean D(x): 0.60, Mean D(G(z)): 0.27\n",
      "Epoch [4/10], Step[6300/8726], d_loss: 1.1393, g_loss: 0.9795, Mean D(x): 0.67, Mean D(G(z)): 0.41\n",
      "Epoch [4/10], Step[6400/8726], d_loss: 1.0031, g_loss: 1.2787, Mean D(x): 0.64, Mean D(G(z)): 0.30\n",
      "Epoch [4/10], Step[6500/8726], d_loss: 1.0217, g_loss: 1.1188, Mean D(x): 0.65, Mean D(G(z)): 0.33\n",
      "Epoch [4/10], Step[6600/8726], d_loss: 1.1142, g_loss: 1.0992, Mean D(x): 0.57, Mean D(G(z)): 0.32\n",
      "Epoch [4/10], Step[6700/8726], d_loss: 1.0119, g_loss: 1.2245, Mean D(x): 0.67, Mean D(G(z)): 0.36\n",
      "Epoch [4/10], Step[6800/8726], d_loss: 1.0512, g_loss: 1.2491, Mean D(x): 0.66, Mean D(G(z)): 0.37\n",
      "Epoch [4/10], Step[6900/8726], d_loss: 0.9910, g_loss: 1.2412, Mean D(x): 0.69, Mean D(G(z)): 0.37\n",
      "Epoch [4/10], Step[7000/8726], d_loss: 1.1499, g_loss: 1.1297, Mean D(x): 0.64, Mean D(G(z)): 0.40\n",
      "Epoch [4/10], Step[7100/8726], d_loss: 1.1539, g_loss: 1.2063, Mean D(x): 0.59, Mean D(G(z)): 0.38\n",
      "Epoch [4/10], Step[7200/8726], d_loss: 1.2072, g_loss: 1.2031, Mean D(x): 0.60, Mean D(G(z)): 0.38\n",
      "Epoch [4/10], Step[7300/8726], d_loss: 1.1374, g_loss: 1.1315, Mean D(x): 0.66, Mean D(G(z)): 0.42\n",
      "Epoch [4/10], Step[7400/8726], d_loss: 1.0962, g_loss: 1.1372, Mean D(x): 0.64, Mean D(G(z)): 0.41\n",
      "Epoch [4/10], Step[7500/8726], d_loss: 1.1882, g_loss: 1.1488, Mean D(x): 0.60, Mean D(G(z)): 0.37\n",
      "Epoch [4/10], Step[7600/8726], d_loss: 1.0366, g_loss: 1.1269, Mean D(x): 0.65, Mean D(G(z)): 0.37\n",
      "Epoch [4/10], Step[7700/8726], d_loss: 1.0393, g_loss: 1.2237, Mean D(x): 0.67, Mean D(G(z)): 0.38\n",
      "Epoch [4/10], Step[7800/8726], d_loss: 1.1599, g_loss: 1.1086, Mean D(x): 0.62, Mean D(G(z)): 0.40\n",
      "Epoch [4/10], Step[7900/8726], d_loss: 1.0108, g_loss: 0.9944, Mean D(x): 0.67, Mean D(G(z)): 0.38\n",
      "Epoch [4/10], Step[8000/8726], d_loss: 1.1227, g_loss: 1.0407, Mean D(x): 0.68, Mean D(G(z)): 0.43\n",
      "Epoch [4/10], Step[8100/8726], d_loss: 1.1305, g_loss: 1.1844, Mean D(x): 0.61, Mean D(G(z)): 0.38\n",
      "Epoch [4/10], Step[8200/8726], d_loss: 1.2473, g_loss: 1.3129, Mean D(x): 0.50, Mean D(G(z)): 0.31\n",
      "Epoch [4/10], Step[8300/8726], d_loss: 1.1484, g_loss: 1.1943, Mean D(x): 0.65, Mean D(G(z)): 0.41\n",
      "Epoch [4/10], Step[8400/8726], d_loss: 0.9393, g_loss: 1.1075, Mean D(x): 0.67, Mean D(G(z)): 0.35\n",
      "Epoch [4/10], Step[8500/8726], d_loss: 1.2498, g_loss: 1.0705, Mean D(x): 0.62, Mean D(G(z)): 0.40\n",
      "Epoch [4/10], Step[8600/8726], d_loss: 1.1494, g_loss: 1.2022, Mean D(x): 0.60, Mean D(G(z)): 0.38\n",
      "Epoch [4/10], Step[8700/8726], d_loss: 1.1569, g_loss: 1.2061, Mean D(x): 0.63, Mean D(G(z)): 0.39\n",
      "Epoch [5/10], Step[100/8726], d_loss: 1.0661, g_loss: 1.3365, Mean D(x): 0.66, Mean D(G(z)): 0.37\n",
      "Epoch [5/10], Step[200/8726], d_loss: 1.2191, g_loss: 0.9281, Mean D(x): 0.62, Mean D(G(z)): 0.43\n",
      "Epoch [5/10], Step[300/8726], d_loss: 1.1307, g_loss: 1.2981, Mean D(x): 0.55, Mean D(G(z)): 0.31\n",
      "Epoch [5/10], Step[400/8726], d_loss: 1.0833, g_loss: 1.0559, Mean D(x): 0.61, Mean D(G(z)): 0.38\n",
      "Epoch [5/10], Step[500/8726], d_loss: 1.0871, g_loss: 1.0308, Mean D(x): 0.63, Mean D(G(z)): 0.40\n",
      "Epoch [5/10], Step[600/8726], d_loss: 1.1778, g_loss: 1.0511, Mean D(x): 0.63, Mean D(G(z)): 0.42\n",
      "Epoch [5/10], Step[700/8726], d_loss: 1.1291, g_loss: 1.2946, Mean D(x): 0.63, Mean D(G(z)): 0.38\n",
      "Epoch [5/10], Step[800/8726], d_loss: 1.2410, g_loss: 0.9461, Mean D(x): 0.65, Mean D(G(z)): 0.46\n",
      "Epoch [5/10], Step[900/8726], d_loss: 1.1530, g_loss: 1.1393, Mean D(x): 0.58, Mean D(G(z)): 0.36\n",
      "Epoch [5/10], Step[1000/8726], d_loss: 1.2105, g_loss: 1.1151, Mean D(x): 0.54, Mean D(G(z)): 0.37\n",
      "Epoch [5/10], Step[1100/8726], d_loss: 1.1811, g_loss: 1.3465, Mean D(x): 0.58, Mean D(G(z)): 0.34\n",
      "Epoch [5/10], Step[1200/8726], d_loss: 1.0492, g_loss: 1.1322, Mean D(x): 0.67, Mean D(G(z)): 0.40\n",
      "Epoch [5/10], Step[1300/8726], d_loss: 1.0972, g_loss: 1.2285, Mean D(x): 0.66, Mean D(G(z)): 0.38\n",
      "Epoch [5/10], Step[1400/8726], d_loss: 1.1395, g_loss: 1.0450, Mean D(x): 0.61, Mean D(G(z)): 0.38\n",
      "Epoch [5/10], Step[1500/8726], d_loss: 1.0968, g_loss: 1.1084, Mean D(x): 0.65, Mean D(G(z)): 0.39\n",
      "Epoch [5/10], Step[1600/8726], d_loss: 1.1388, g_loss: 0.9980, Mean D(x): 0.60, Mean D(G(z)): 0.37\n",
      "Epoch [5/10], Step[1700/8726], d_loss: 1.2452, g_loss: 1.0745, Mean D(x): 0.58, Mean D(G(z)): 0.42\n",
      "Epoch [5/10], Step[1800/8726], d_loss: 1.0769, g_loss: 1.1956, Mean D(x): 0.65, Mean D(G(z)): 0.39\n",
      "Epoch [5/10], Step[1900/8726], d_loss: 1.1915, g_loss: 1.1776, Mean D(x): 0.59, Mean D(G(z)): 0.41\n",
      "Epoch [5/10], Step[2000/8726], d_loss: 1.0634, g_loss: 1.2568, Mean D(x): 0.61, Mean D(G(z)): 0.33\n",
      "Epoch [5/10], Step[2100/8726], d_loss: 1.2497, g_loss: 1.2030, Mean D(x): 0.62, Mean D(G(z)): 0.38\n",
      "Epoch [5/10], Step[2200/8726], d_loss: 1.1781, g_loss: 1.0477, Mean D(x): 0.58, Mean D(G(z)): 0.38\n",
      "Epoch [5/10], Step[2300/8726], d_loss: 1.0777, g_loss: 1.0343, Mean D(x): 0.61, Mean D(G(z)): 0.39\n",
      "Epoch [5/10], Step[2400/8726], d_loss: 1.1305, g_loss: 1.2604, Mean D(x): 0.62, Mean D(G(z)): 0.38\n",
      "Epoch [5/10], Step[2500/8726], d_loss: 1.0330, g_loss: 1.4380, Mean D(x): 0.63, Mean D(G(z)): 0.33\n",
      "Epoch [5/10], Step[2600/8726], d_loss: 1.0316, g_loss: 1.3515, Mean D(x): 0.63, Mean D(G(z)): 0.31\n",
      "Epoch [5/10], Step[2700/8726], d_loss: 0.9928, g_loss: 1.2588, Mean D(x): 0.64, Mean D(G(z)): 0.33\n",
      "Epoch [5/10], Step[2800/8726], d_loss: 1.2232, g_loss: 1.0666, Mean D(x): 0.63, Mean D(G(z)): 0.40\n",
      "Epoch [5/10], Step[2900/8726], d_loss: 1.0259, g_loss: 1.1029, Mean D(x): 0.63, Mean D(G(z)): 0.33\n",
      "Epoch [5/10], Step[3000/8726], d_loss: 1.2944, g_loss: 1.0552, Mean D(x): 0.55, Mean D(G(z)): 0.38\n",
      "Epoch [5/10], Step[3100/8726], d_loss: 1.1198, g_loss: 1.1724, Mean D(x): 0.64, Mean D(G(z)): 0.42\n",
      "Epoch [5/10], Step[3200/8726], d_loss: 1.0775, g_loss: 1.1201, Mean D(x): 0.60, Mean D(G(z)): 0.37\n",
      "Epoch [5/10], Step[3300/8726], d_loss: 1.0788, g_loss: 0.9038, Mean D(x): 0.63, Mean D(G(z)): 0.39\n",
      "Epoch [5/10], Step[3400/8726], d_loss: 1.0206, g_loss: 1.2023, Mean D(x): 0.62, Mean D(G(z)): 0.34\n",
      "Epoch [5/10], Step[3500/8726], d_loss: 1.0923, g_loss: 1.2726, Mean D(x): 0.68, Mean D(G(z)): 0.42\n",
      "Epoch [5/10], Step[3600/8726], d_loss: 1.0941, g_loss: 1.1194, Mean D(x): 0.64, Mean D(G(z)): 0.39\n",
      "Epoch [5/10], Step[3700/8726], d_loss: 1.0543, g_loss: 1.4584, Mean D(x): 0.70, Mean D(G(z)): 0.36\n",
      "Epoch [5/10], Step[3800/8726], d_loss: 1.0640, g_loss: 1.1836, Mean D(x): 0.61, Mean D(G(z)): 0.32\n",
      "Epoch [5/10], Step[3900/8726], d_loss: 1.1081, g_loss: 1.2505, Mean D(x): 0.59, Mean D(G(z)): 0.34\n",
      "Epoch [5/10], Step[4000/8726], d_loss: 1.1118, g_loss: 0.9521, Mean D(x): 0.70, Mean D(G(z)): 0.43\n",
      "Epoch [5/10], Step[4100/8726], d_loss: 1.0291, g_loss: 1.6351, Mean D(x): 0.58, Mean D(G(z)): 0.28\n",
      "Epoch [5/10], Step[4200/8726], d_loss: 1.1619, g_loss: 1.1658, Mean D(x): 0.63, Mean D(G(z)): 0.39\n",
      "Epoch [5/10], Step[4300/8726], d_loss: 1.1273, g_loss: 1.4980, Mean D(x): 0.59, Mean D(G(z)): 0.30\n",
      "Epoch [5/10], Step[4400/8726], d_loss: 0.9731, g_loss: 1.4471, Mean D(x): 0.67, Mean D(G(z)): 0.31\n",
      "Epoch [5/10], Step[4500/8726], d_loss: 1.2058, g_loss: 1.1074, Mean D(x): 0.61, Mean D(G(z)): 0.42\n",
      "Epoch [5/10], Step[4600/8726], d_loss: 1.0819, g_loss: 1.2172, Mean D(x): 0.66, Mean D(G(z)): 0.41\n",
      "Epoch [5/10], Step[4700/8726], d_loss: 1.3150, g_loss: 1.1102, Mean D(x): 0.60, Mean D(G(z)): 0.43\n",
      "Epoch [5/10], Step[4800/8726], d_loss: 0.9487, g_loss: 1.3072, Mean D(x): 0.68, Mean D(G(z)): 0.34\n",
      "Epoch [5/10], Step[4900/8726], d_loss: 1.1423, g_loss: 1.1110, Mean D(x): 0.63, Mean D(G(z)): 0.39\n",
      "Epoch [5/10], Step[5000/8726], d_loss: 1.0909, g_loss: 1.0659, Mean D(x): 0.62, Mean D(G(z)): 0.37\n",
      "Epoch [5/10], Step[5100/8726], d_loss: 1.1554, g_loss: 1.0534, Mean D(x): 0.62, Mean D(G(z)): 0.42\n",
      "Epoch [5/10], Step[5200/8726], d_loss: 1.2097, g_loss: 1.0055, Mean D(x): 0.60, Mean D(G(z)): 0.42\n",
      "Epoch [5/10], Step[5300/8726], d_loss: 1.1967, g_loss: 1.1710, Mean D(x): 0.58, Mean D(G(z)): 0.38\n",
      "Epoch [5/10], Step[5400/8726], d_loss: 1.0233, g_loss: 1.5120, Mean D(x): 0.57, Mean D(G(z)): 0.26\n",
      "Epoch [5/10], Step[5500/8726], d_loss: 1.0946, g_loss: 1.0449, Mean D(x): 0.67, Mean D(G(z)): 0.42\n",
      "Epoch [5/10], Step[5600/8726], d_loss: 1.1580, g_loss: 1.1725, Mean D(x): 0.64, Mean D(G(z)): 0.42\n",
      "Epoch [5/10], Step[5700/8726], d_loss: 1.2377, g_loss: 1.1221, Mean D(x): 0.60, Mean D(G(z)): 0.39\n",
      "Epoch [5/10], Step[5800/8726], d_loss: 1.1089, g_loss: 1.1540, Mean D(x): 0.60, Mean D(G(z)): 0.35\n",
      "Epoch [5/10], Step[5900/8726], d_loss: 1.1513, g_loss: 1.1689, Mean D(x): 0.61, Mean D(G(z)): 0.38\n",
      "Epoch [5/10], Step[6000/8726], d_loss: 1.1065, g_loss: 1.0845, Mean D(x): 0.64, Mean D(G(z)): 0.37\n",
      "Epoch [5/10], Step[6100/8726], d_loss: 1.2306, g_loss: 1.1966, Mean D(x): 0.56, Mean D(G(z)): 0.35\n",
      "Epoch [5/10], Step[6200/8726], d_loss: 1.1490, g_loss: 1.1946, Mean D(x): 0.55, Mean D(G(z)): 0.30\n",
      "Epoch [5/10], Step[6300/8726], d_loss: 1.1490, g_loss: 1.0400, Mean D(x): 0.62, Mean D(G(z)): 0.40\n",
      "Epoch [5/10], Step[6400/8726], d_loss: 1.1794, g_loss: 1.2059, Mean D(x): 0.61, Mean D(G(z)): 0.37\n",
      "Epoch [5/10], Step[6500/8726], d_loss: 1.1887, g_loss: 1.0754, Mean D(x): 0.63, Mean D(G(z)): 0.38\n",
      "Epoch [5/10], Step[6600/8726], d_loss: 1.0051, g_loss: 1.2571, Mean D(x): 0.62, Mean D(G(z)): 0.33\n",
      "Epoch [5/10], Step[6700/8726], d_loss: 1.2662, g_loss: 1.2937, Mean D(x): 0.54, Mean D(G(z)): 0.37\n",
      "Epoch [5/10], Step[6800/8726], d_loss: 1.0943, g_loss: 1.2313, Mean D(x): 0.62, Mean D(G(z)): 0.37\n",
      "Epoch [5/10], Step[6900/8726], d_loss: 0.8593, g_loss: 1.3093, Mean D(x): 0.70, Mean D(G(z)): 0.33\n",
      "Epoch [5/10], Step[7000/8726], d_loss: 1.1324, g_loss: 1.2294, Mean D(x): 0.69, Mean D(G(z)): 0.39\n",
      "Epoch [5/10], Step[7100/8726], d_loss: 1.0392, g_loss: 1.1446, Mean D(x): 0.64, Mean D(G(z)): 0.37\n",
      "Epoch [5/10], Step[7200/8726], d_loss: 1.0992, g_loss: 1.1748, Mean D(x): 0.64, Mean D(G(z)): 0.36\n",
      "Epoch [5/10], Step[7300/8726], d_loss: 1.0588, g_loss: 1.1434, Mean D(x): 0.66, Mean D(G(z)): 0.40\n",
      "Epoch [5/10], Step[7400/8726], d_loss: 1.1018, g_loss: 1.3652, Mean D(x): 0.71, Mean D(G(z)): 0.42\n",
      "Epoch [5/10], Step[7500/8726], d_loss: 1.0842, g_loss: 1.1718, Mean D(x): 0.62, Mean D(G(z)): 0.33\n",
      "Epoch [5/10], Step[7600/8726], d_loss: 1.1840, g_loss: 1.0497, Mean D(x): 0.60, Mean D(G(z)): 0.39\n",
      "Epoch [5/10], Step[7700/8726], d_loss: 1.0432, g_loss: 1.1692, Mean D(x): 0.65, Mean D(G(z)): 0.39\n",
      "Epoch [5/10], Step[7800/8726], d_loss: 1.3082, g_loss: 1.1640, Mean D(x): 0.60, Mean D(G(z)): 0.43\n",
      "Epoch [5/10], Step[7900/8726], d_loss: 1.1951, g_loss: 1.2096, Mean D(x): 0.61, Mean D(G(z)): 0.40\n",
      "Epoch [5/10], Step[8000/8726], d_loss: 1.1301, g_loss: 1.0929, Mean D(x): 0.64, Mean D(G(z)): 0.40\n",
      "Epoch [5/10], Step[8100/8726], d_loss: 0.9825, g_loss: 1.1876, Mean D(x): 0.66, Mean D(G(z)): 0.32\n",
      "Epoch [5/10], Step[8200/8726], d_loss: 1.0632, g_loss: 1.0869, Mean D(x): 0.67, Mean D(G(z)): 0.41\n",
      "Epoch [5/10], Step[8300/8726], d_loss: 0.9229, g_loss: 1.3609, Mean D(x): 0.67, Mean D(G(z)): 0.32\n",
      "Epoch [5/10], Step[8400/8726], d_loss: 1.1108, g_loss: 1.2451, Mean D(x): 0.61, Mean D(G(z)): 0.37\n",
      "Epoch [5/10], Step[8500/8726], d_loss: 1.2015, g_loss: 1.2259, Mean D(x): 0.65, Mean D(G(z)): 0.43\n",
      "Epoch [5/10], Step[8600/8726], d_loss: 0.9285, g_loss: 1.1555, Mean D(x): 0.66, Mean D(G(z)): 0.31\n",
      "Epoch [5/10], Step[8700/8726], d_loss: 1.2457, g_loss: 1.1386, Mean D(x): 0.64, Mean D(G(z)): 0.42\n",
      "Epoch [6/10], Step[100/8726], d_loss: 1.0111, g_loss: 1.2588, Mean D(x): 0.63, Mean D(G(z)): 0.32\n",
      "Epoch [6/10], Step[200/8726], d_loss: 1.1951, g_loss: 1.0658, Mean D(x): 0.64, Mean D(G(z)): 0.43\n",
      "Epoch [6/10], Step[300/8726], d_loss: 0.9889, g_loss: 1.0937, Mean D(x): 0.65, Mean D(G(z)): 0.34\n",
      "Epoch [6/10], Step[400/8726], d_loss: 1.1165, g_loss: 1.2981, Mean D(x): 0.57, Mean D(G(z)): 0.30\n",
      "Epoch [6/10], Step[500/8726], d_loss: 1.0908, g_loss: 1.1829, Mean D(x): 0.63, Mean D(G(z)): 0.35\n",
      "Epoch [6/10], Step[600/8726], d_loss: 1.0725, g_loss: 1.2020, Mean D(x): 0.66, Mean D(G(z)): 0.36\n",
      "Epoch [6/10], Step[700/8726], d_loss: 1.0715, g_loss: 1.2677, Mean D(x): 0.66, Mean D(G(z)): 0.41\n",
      "Epoch [6/10], Step[800/8726], d_loss: 1.1778, g_loss: 1.0513, Mean D(x): 0.62, Mean D(G(z)): 0.41\n",
      "Epoch [6/10], Step[900/8726], d_loss: 1.0220, g_loss: 1.1778, Mean D(x): 0.66, Mean D(G(z)): 0.35\n",
      "Epoch [6/10], Step[1000/8726], d_loss: 1.2088, g_loss: 0.9721, Mean D(x): 0.64, Mean D(G(z)): 0.45\n",
      "Epoch [6/10], Step[1100/8726], d_loss: 1.0428, g_loss: 1.3186, Mean D(x): 0.60, Mean D(G(z)): 0.31\n",
      "Epoch [6/10], Step[1200/8726], d_loss: 1.0741, g_loss: 1.0853, Mean D(x): 0.65, Mean D(G(z)): 0.39\n",
      "Epoch [6/10], Step[1300/8726], d_loss: 1.0328, g_loss: 1.0060, Mean D(x): 0.68, Mean D(G(z)): 0.40\n",
      "Epoch [6/10], Step[1400/8726], d_loss: 1.0870, g_loss: 1.1509, Mean D(x): 0.62, Mean D(G(z)): 0.37\n",
      "Epoch [6/10], Step[1500/8726], d_loss: 1.0684, g_loss: 1.3130, Mean D(x): 0.59, Mean D(G(z)): 0.30\n",
      "Epoch [6/10], Step[1600/8726], d_loss: 1.0083, g_loss: 1.4076, Mean D(x): 0.62, Mean D(G(z)): 0.31\n",
      "Epoch [6/10], Step[1700/8726], d_loss: 1.0487, g_loss: 1.3596, Mean D(x): 0.62, Mean D(G(z)): 0.31\n",
      "Epoch [6/10], Step[1800/8726], d_loss: 0.9874, g_loss: 1.0542, Mean D(x): 0.70, Mean D(G(z)): 0.39\n",
      "Epoch [6/10], Step[1900/8726], d_loss: 1.1087, g_loss: 1.0031, Mean D(x): 0.63, Mean D(G(z)): 0.39\n",
      "Epoch [6/10], Step[2000/8726], d_loss: 1.1846, g_loss: 1.2567, Mean D(x): 0.62, Mean D(G(z)): 0.40\n",
      "Epoch [6/10], Step[2100/8726], d_loss: 1.0761, g_loss: 1.1419, Mean D(x): 0.66, Mean D(G(z)): 0.39\n",
      "Epoch [6/10], Step[2200/8726], d_loss: 1.1048, g_loss: 1.1911, Mean D(x): 0.63, Mean D(G(z)): 0.35\n",
      "Epoch [6/10], Step[2300/8726], d_loss: 1.1763, g_loss: 1.3108, Mean D(x): 0.54, Mean D(G(z)): 0.34\n",
      "Epoch [6/10], Step[2400/8726], d_loss: 1.0513, g_loss: 1.3694, Mean D(x): 0.67, Mean D(G(z)): 0.36\n",
      "Epoch [6/10], Step[2500/8726], d_loss: 1.2491, g_loss: 1.1330, Mean D(x): 0.58, Mean D(G(z)): 0.38\n",
      "Epoch [6/10], Step[2600/8726], d_loss: 1.2723, g_loss: 1.0968, Mean D(x): 0.58, Mean D(G(z)): 0.40\n",
      "Epoch [6/10], Step[2700/8726], d_loss: 1.1471, g_loss: 1.1812, Mean D(x): 0.61, Mean D(G(z)): 0.38\n",
      "Epoch [6/10], Step[2800/8726], d_loss: 1.0419, g_loss: 1.4832, Mean D(x): 0.64, Mean D(G(z)): 0.34\n",
      "Epoch [6/10], Step[2900/8726], d_loss: 1.2740, g_loss: 1.2480, Mean D(x): 0.56, Mean D(G(z)): 0.38\n",
      "Epoch [6/10], Step[3000/8726], d_loss: 1.1044, g_loss: 1.1557, Mean D(x): 0.60, Mean D(G(z)): 0.32\n",
      "Epoch [6/10], Step[3100/8726], d_loss: 1.2863, g_loss: 1.3488, Mean D(x): 0.58, Mean D(G(z)): 0.39\n",
      "Epoch [6/10], Step[3200/8726], d_loss: 1.0560, g_loss: 1.1422, Mean D(x): 0.63, Mean D(G(z)): 0.38\n",
      "Epoch [6/10], Step[3300/8726], d_loss: 1.2614, g_loss: 1.0488, Mean D(x): 0.60, Mean D(G(z)): 0.43\n",
      "Epoch [6/10], Step[3400/8726], d_loss: 1.0821, g_loss: 1.2551, Mean D(x): 0.66, Mean D(G(z)): 0.39\n",
      "Epoch [6/10], Step[3500/8726], d_loss: 1.0657, g_loss: 1.2499, Mean D(x): 0.64, Mean D(G(z)): 0.35\n",
      "Epoch [6/10], Step[3600/8726], d_loss: 1.1096, g_loss: 1.4516, Mean D(x): 0.63, Mean D(G(z)): 0.36\n",
      "Epoch [6/10], Step[3700/8726], d_loss: 1.2579, g_loss: 1.0360, Mean D(x): 0.61, Mean D(G(z)): 0.43\n",
      "Epoch [6/10], Step[3800/8726], d_loss: 1.0071, g_loss: 1.0315, Mean D(x): 0.66, Mean D(G(z)): 0.39\n",
      "Epoch [6/10], Step[3900/8726], d_loss: 1.1143, g_loss: 1.2102, Mean D(x): 0.64, Mean D(G(z)): 0.39\n",
      "Epoch [6/10], Step[4000/8726], d_loss: 1.0705, g_loss: 1.1940, Mean D(x): 0.60, Mean D(G(z)): 0.34\n",
      "Epoch [6/10], Step[4100/8726], d_loss: 1.0506, g_loss: 1.0435, Mean D(x): 0.66, Mean D(G(z)): 0.38\n",
      "Epoch [6/10], Step[4200/8726], d_loss: 1.1291, g_loss: 1.2731, Mean D(x): 0.63, Mean D(G(z)): 0.37\n",
      "Epoch [6/10], Step[4300/8726], d_loss: 1.1282, g_loss: 1.3227, Mean D(x): 0.62, Mean D(G(z)): 0.36\n",
      "Epoch [6/10], Step[4400/8726], d_loss: 1.1476, g_loss: 1.3176, Mean D(x): 0.63, Mean D(G(z)): 0.38\n",
      "Epoch [6/10], Step[4500/8726], d_loss: 1.0560, g_loss: 1.2242, Mean D(x): 0.65, Mean D(G(z)): 0.37\n",
      "Epoch [6/10], Step[4600/8726], d_loss: 1.0611, g_loss: 1.1416, Mean D(x): 0.68, Mean D(G(z)): 0.40\n",
      "Epoch [6/10], Step[4700/8726], d_loss: 1.2206, g_loss: 1.0481, Mean D(x): 0.68, Mean D(G(z)): 0.48\n",
      "Epoch [6/10], Step[4800/8726], d_loss: 1.1321, g_loss: 1.1169, Mean D(x): 0.67, Mean D(G(z)): 0.43\n",
      "Epoch [6/10], Step[4900/8726], d_loss: 1.3902, g_loss: 1.0367, Mean D(x): 0.57, Mean D(G(z)): 0.45\n",
      "Epoch [6/10], Step[5000/8726], d_loss: 1.0993, g_loss: 1.0577, Mean D(x): 0.64, Mean D(G(z)): 0.41\n",
      "Epoch [6/10], Step[5100/8726], d_loss: 1.2008, g_loss: 0.9568, Mean D(x): 0.60, Mean D(G(z)): 0.42\n",
      "Epoch [6/10], Step[5200/8726], d_loss: 1.0970, g_loss: 1.0081, Mean D(x): 0.65, Mean D(G(z)): 0.41\n",
      "Epoch [6/10], Step[5300/8726], d_loss: 1.1866, g_loss: 1.1286, Mean D(x): 0.57, Mean D(G(z)): 0.34\n",
      "Epoch [6/10], Step[5400/8726], d_loss: 1.0952, g_loss: 0.9685, Mean D(x): 0.64, Mean D(G(z)): 0.39\n",
      "Epoch [6/10], Step[5500/8726], d_loss: 1.1004, g_loss: 1.2198, Mean D(x): 0.60, Mean D(G(z)): 0.33\n",
      "Epoch [6/10], Step[5600/8726], d_loss: 0.9824, g_loss: 1.2392, Mean D(x): 0.69, Mean D(G(z)): 0.37\n",
      "Epoch [6/10], Step[5700/8726], d_loss: 1.1246, g_loss: 1.0160, Mean D(x): 0.69, Mean D(G(z)): 0.42\n",
      "Epoch [6/10], Step[5800/8726], d_loss: 1.0817, g_loss: 1.1594, Mean D(x): 0.65, Mean D(G(z)): 0.40\n",
      "Epoch [6/10], Step[5900/8726], d_loss: 1.1350, g_loss: 1.2601, Mean D(x): 0.66, Mean D(G(z)): 0.40\n",
      "Epoch [6/10], Step[6000/8726], d_loss: 1.1372, g_loss: 1.0960, Mean D(x): 0.66, Mean D(G(z)): 0.43\n",
      "Epoch [6/10], Step[6100/8726], d_loss: 1.1695, g_loss: 1.0703, Mean D(x): 0.61, Mean D(G(z)): 0.41\n",
      "Epoch [6/10], Step[6200/8726], d_loss: 1.0603, g_loss: 1.5908, Mean D(x): 0.61, Mean D(G(z)): 0.27\n",
      "Epoch [6/10], Step[6300/8726], d_loss: 1.1333, g_loss: 1.0290, Mean D(x): 0.65, Mean D(G(z)): 0.42\n",
      "Epoch [6/10], Step[6400/8726], d_loss: 1.1779, g_loss: 1.0655, Mean D(x): 0.62, Mean D(G(z)): 0.42\n",
      "Epoch [6/10], Step[6500/8726], d_loss: 1.1144, g_loss: 0.9455, Mean D(x): 0.62, Mean D(G(z)): 0.40\n",
      "Epoch [6/10], Step[6600/8726], d_loss: 1.1604, g_loss: 1.2096, Mean D(x): 0.62, Mean D(G(z)): 0.40\n",
      "Epoch [6/10], Step[6700/8726], d_loss: 1.1651, g_loss: 1.1994, Mean D(x): 0.58, Mean D(G(z)): 0.37\n",
      "Epoch [6/10], Step[6800/8726], d_loss: 1.1170, g_loss: 1.2814, Mean D(x): 0.61, Mean D(G(z)): 0.36\n",
      "Epoch [6/10], Step[6900/8726], d_loss: 1.1394, g_loss: 1.2014, Mean D(x): 0.61, Mean D(G(z)): 0.38\n",
      "Epoch [6/10], Step[7000/8726], d_loss: 1.0954, g_loss: 1.3646, Mean D(x): 0.65, Mean D(G(z)): 0.36\n",
      "Epoch [6/10], Step[7100/8726], d_loss: 1.2929, g_loss: 1.0608, Mean D(x): 0.57, Mean D(G(z)): 0.42\n",
      "Epoch [6/10], Step[7200/8726], d_loss: 1.2451, g_loss: 0.9224, Mean D(x): 0.58, Mean D(G(z)): 0.40\n",
      "Epoch [6/10], Step[7300/8726], d_loss: 1.2682, g_loss: 1.2305, Mean D(x): 0.61, Mean D(G(z)): 0.39\n",
      "Epoch [6/10], Step[7400/8726], d_loss: 1.2429, g_loss: 1.0399, Mean D(x): 0.60, Mean D(G(z)): 0.41\n",
      "Epoch [6/10], Step[7500/8726], d_loss: 0.9314, g_loss: 1.3088, Mean D(x): 0.72, Mean D(G(z)): 0.35\n",
      "Epoch [6/10], Step[7600/8726], d_loss: 1.1825, g_loss: 1.0192, Mean D(x): 0.55, Mean D(G(z)): 0.35\n",
      "Epoch [6/10], Step[7700/8726], d_loss: 1.0240, g_loss: 1.0119, Mean D(x): 0.63, Mean D(G(z)): 0.36\n",
      "Epoch [6/10], Step[7800/8726], d_loss: 1.1157, g_loss: 1.3182, Mean D(x): 0.59, Mean D(G(z)): 0.35\n",
      "Epoch [6/10], Step[7900/8726], d_loss: 1.1955, g_loss: 1.1702, Mean D(x): 0.58, Mean D(G(z)): 0.34\n",
      "Epoch [6/10], Step[8000/8726], d_loss: 1.0841, g_loss: 1.1927, Mean D(x): 0.64, Mean D(G(z)): 0.39\n",
      "Epoch [6/10], Step[8100/8726], d_loss: 1.1498, g_loss: 1.1975, Mean D(x): 0.62, Mean D(G(z)): 0.38\n",
      "Epoch [6/10], Step[8200/8726], d_loss: 1.2257, g_loss: 1.2397, Mean D(x): 0.59, Mean D(G(z)): 0.37\n",
      "Epoch [6/10], Step[8300/8726], d_loss: 1.0015, g_loss: 1.1479, Mean D(x): 0.65, Mean D(G(z)): 0.35\n",
      "Epoch [6/10], Step[8400/8726], d_loss: 1.3257, g_loss: 1.0892, Mean D(x): 0.63, Mean D(G(z)): 0.43\n",
      "Epoch [6/10], Step[8500/8726], d_loss: 0.9812, g_loss: 1.2438, Mean D(x): 0.67, Mean D(G(z)): 0.35\n",
      "Epoch [6/10], Step[8600/8726], d_loss: 1.1742, g_loss: 0.9678, Mean D(x): 0.61, Mean D(G(z)): 0.38\n",
      "Epoch [6/10], Step[8700/8726], d_loss: 1.0702, g_loss: 1.2988, Mean D(x): 0.61, Mean D(G(z)): 0.36\n",
      "Epoch [7/10], Step[100/8726], d_loss: 1.1180, g_loss: 1.0162, Mean D(x): 0.65, Mean D(G(z)): 0.41\n",
      "Epoch [7/10], Step[200/8726], d_loss: 1.2498, g_loss: 1.0658, Mean D(x): 0.61, Mean D(G(z)): 0.41\n",
      "Epoch [7/10], Step[300/8726], d_loss: 1.1634, g_loss: 1.2760, Mean D(x): 0.60, Mean D(G(z)): 0.38\n",
      "Epoch [7/10], Step[400/8726], d_loss: 1.0755, g_loss: 1.1527, Mean D(x): 0.64, Mean D(G(z)): 0.34\n",
      "Epoch [7/10], Step[500/8726], d_loss: 1.1182, g_loss: 1.0817, Mean D(x): 0.66, Mean D(G(z)): 0.41\n",
      "Epoch [7/10], Step[600/8726], d_loss: 1.1075, g_loss: 1.1046, Mean D(x): 0.65, Mean D(G(z)): 0.39\n",
      "Epoch [7/10], Step[700/8726], d_loss: 0.9948, g_loss: 1.1721, Mean D(x): 0.69, Mean D(G(z)): 0.37\n",
      "Epoch [7/10], Step[800/8726], d_loss: 0.9987, g_loss: 0.9173, Mean D(x): 0.67, Mean D(G(z)): 0.38\n",
      "Epoch [7/10], Step[900/8726], d_loss: 1.0820, g_loss: 1.0979, Mean D(x): 0.67, Mean D(G(z)): 0.41\n",
      "Epoch [7/10], Step[1000/8726], d_loss: 1.0199, g_loss: 1.2763, Mean D(x): 0.72, Mean D(G(z)): 0.40\n",
      "Epoch [7/10], Step[1100/8726], d_loss: 1.0968, g_loss: 1.0948, Mean D(x): 0.61, Mean D(G(z)): 0.37\n",
      "Epoch [7/10], Step[1200/8726], d_loss: 1.1697, g_loss: 0.9244, Mean D(x): 0.63, Mean D(G(z)): 0.44\n",
      "Epoch [7/10], Step[1300/8726], d_loss: 1.1282, g_loss: 1.2383, Mean D(x): 0.69, Mean D(G(z)): 0.43\n",
      "Epoch [7/10], Step[1400/8726], d_loss: 1.1422, g_loss: 0.9287, Mean D(x): 0.62, Mean D(G(z)): 0.40\n",
      "Epoch [7/10], Step[1500/8726], d_loss: 1.1001, g_loss: 1.1060, Mean D(x): 0.59, Mean D(G(z)): 0.34\n",
      "Epoch [7/10], Step[1600/8726], d_loss: 1.2010, g_loss: 0.8801, Mean D(x): 0.61, Mean D(G(z)): 0.42\n",
      "Epoch [7/10], Step[1700/8726], d_loss: 1.2245, g_loss: 1.0779, Mean D(x): 0.61, Mean D(G(z)): 0.42\n",
      "Epoch [7/10], Step[1800/8726], d_loss: 1.1744, g_loss: 1.1744, Mean D(x): 0.59, Mean D(G(z)): 0.39\n",
      "Epoch [7/10], Step[1900/8726], d_loss: 1.2576, g_loss: 0.9149, Mean D(x): 0.65, Mean D(G(z)): 0.47\n",
      "Epoch [7/10], Step[2000/8726], d_loss: 1.2352, g_loss: 1.4048, Mean D(x): 0.63, Mean D(G(z)): 0.39\n",
      "Epoch [7/10], Step[2100/8726], d_loss: 1.0766, g_loss: 1.1351, Mean D(x): 0.70, Mean D(G(z)): 0.42\n",
      "Epoch [7/10], Step[2200/8726], d_loss: 1.1648, g_loss: 1.2308, Mean D(x): 0.54, Mean D(G(z)): 0.32\n",
      "Epoch [7/10], Step[2300/8726], d_loss: 1.1370, g_loss: 1.0563, Mean D(x): 0.61, Mean D(G(z)): 0.39\n",
      "Epoch [7/10], Step[2400/8726], d_loss: 1.1109, g_loss: 1.1285, Mean D(x): 0.63, Mean D(G(z)): 0.40\n",
      "Epoch [7/10], Step[2500/8726], d_loss: 1.1993, g_loss: 1.1192, Mean D(x): 0.61, Mean D(G(z)): 0.39\n",
      "Epoch [7/10], Step[2600/8726], d_loss: 1.0101, g_loss: 1.1816, Mean D(x): 0.68, Mean D(G(z)): 0.39\n",
      "Epoch [7/10], Step[2700/8726], d_loss: 1.1941, g_loss: 1.1846, Mean D(x): 0.57, Mean D(G(z)): 0.36\n",
      "Epoch [7/10], Step[2800/8726], d_loss: 0.9903, g_loss: 1.1670, Mean D(x): 0.72, Mean D(G(z)): 0.40\n",
      "Epoch [7/10], Step[2900/8726], d_loss: 1.2150, g_loss: 1.0792, Mean D(x): 0.55, Mean D(G(z)): 0.36\n",
      "Epoch [7/10], Step[3000/8726], d_loss: 1.1717, g_loss: 1.0646, Mean D(x): 0.58, Mean D(G(z)): 0.39\n",
      "Epoch [7/10], Step[3100/8726], d_loss: 1.1326, g_loss: 1.1291, Mean D(x): 0.60, Mean D(G(z)): 0.36\n",
      "Epoch [7/10], Step[3200/8726], d_loss: 1.0903, g_loss: 1.0417, Mean D(x): 0.63, Mean D(G(z)): 0.40\n",
      "Epoch [7/10], Step[3300/8726], d_loss: 1.2666, g_loss: 0.9288, Mean D(x): 0.57, Mean D(G(z)): 0.41\n",
      "Epoch [7/10], Step[3400/8726], d_loss: 1.2611, g_loss: 1.2479, Mean D(x): 0.55, Mean D(G(z)): 0.37\n",
      "Epoch [7/10], Step[3500/8726], d_loss: 1.1149, g_loss: 1.2612, Mean D(x): 0.64, Mean D(G(z)): 0.39\n",
      "Epoch [7/10], Step[3600/8726], d_loss: 1.1323, g_loss: 1.2294, Mean D(x): 0.61, Mean D(G(z)): 0.38\n",
      "Epoch [7/10], Step[3700/8726], d_loss: 1.1351, g_loss: 0.9767, Mean D(x): 0.65, Mean D(G(z)): 0.43\n",
      "Epoch [7/10], Step[3800/8726], d_loss: 1.0581, g_loss: 1.1350, Mean D(x): 0.65, Mean D(G(z)): 0.38\n",
      "Epoch [7/10], Step[3900/8726], d_loss: 1.2269, g_loss: 1.0402, Mean D(x): 0.64, Mean D(G(z)): 0.41\n",
      "Epoch [7/10], Step[4000/8726], d_loss: 1.2626, g_loss: 1.1960, Mean D(x): 0.59, Mean D(G(z)): 0.39\n",
      "Epoch [7/10], Step[4100/8726], d_loss: 1.1196, g_loss: 1.0520, Mean D(x): 0.65, Mean D(G(z)): 0.42\n",
      "Epoch [7/10], Step[4200/8726], d_loss: 1.1088, g_loss: 1.3002, Mean D(x): 0.62, Mean D(G(z)): 0.36\n",
      "Epoch [7/10], Step[4300/8726], d_loss: 1.2193, g_loss: 0.9931, Mean D(x): 0.63, Mean D(G(z)): 0.43\n",
      "Epoch [7/10], Step[4400/8726], d_loss: 1.0799, g_loss: 1.1987, Mean D(x): 0.62, Mean D(G(z)): 0.37\n",
      "Epoch [7/10], Step[4500/8726], d_loss: 1.1899, g_loss: 1.1477, Mean D(x): 0.59, Mean D(G(z)): 0.38\n",
      "Epoch [7/10], Step[4600/8726], d_loss: 1.1933, g_loss: 0.8556, Mean D(x): 0.64, Mean D(G(z)): 0.45\n",
      "Epoch [7/10], Step[4700/8726], d_loss: 1.1859, g_loss: 1.1502, Mean D(x): 0.57, Mean D(G(z)): 0.36\n",
      "Epoch [7/10], Step[4800/8726], d_loss: 1.0610, g_loss: 1.2322, Mean D(x): 0.60, Mean D(G(z)): 0.36\n",
      "Epoch [7/10], Step[4900/8726], d_loss: 1.1813, g_loss: 1.0148, Mean D(x): 0.57, Mean D(G(z)): 0.36\n",
      "Epoch [7/10], Step[5000/8726], d_loss: 0.9662, g_loss: 1.1500, Mean D(x): 0.67, Mean D(G(z)): 0.35\n",
      "Epoch [7/10], Step[5100/8726], d_loss: 1.1048, g_loss: 1.0583, Mean D(x): 0.61, Mean D(G(z)): 0.38\n",
      "Epoch [7/10], Step[5200/8726], d_loss: 1.1743, g_loss: 1.2617, Mean D(x): 0.60, Mean D(G(z)): 0.37\n",
      "Epoch [7/10], Step[5300/8726], d_loss: 1.2199, g_loss: 1.2086, Mean D(x): 0.58, Mean D(G(z)): 0.36\n",
      "Epoch [7/10], Step[5400/8726], d_loss: 1.0619, g_loss: 1.3090, Mean D(x): 0.58, Mean D(G(z)): 0.33\n",
      "Epoch [7/10], Step[5500/8726], d_loss: 1.0120, g_loss: 1.2862, Mean D(x): 0.65, Mean D(G(z)): 0.35\n",
      "Epoch [7/10], Step[5600/8726], d_loss: 1.1974, g_loss: 1.0890, Mean D(x): 0.62, Mean D(G(z)): 0.39\n",
      "Epoch [7/10], Step[5700/8726], d_loss: 1.1942, g_loss: 1.2964, Mean D(x): 0.58, Mean D(G(z)): 0.37\n",
      "Epoch [7/10], Step[5800/8726], d_loss: 1.1112, g_loss: 1.0730, Mean D(x): 0.59, Mean D(G(z)): 0.36\n",
      "Epoch [7/10], Step[5900/8726], d_loss: 1.1460, g_loss: 1.1469, Mean D(x): 0.68, Mean D(G(z)): 0.41\n",
      "Epoch [7/10], Step[6000/8726], d_loss: 1.2647, g_loss: 0.9947, Mean D(x): 0.62, Mean D(G(z)): 0.45\n",
      "Epoch [7/10], Step[6100/8726], d_loss: 1.0687, g_loss: 1.3571, Mean D(x): 0.61, Mean D(G(z)): 0.34\n",
      "Epoch [7/10], Step[6200/8726], d_loss: 0.9983, g_loss: 1.1536, Mean D(x): 0.67, Mean D(G(z)): 0.36\n",
      "Epoch [7/10], Step[6300/8726], d_loss: 1.1639, g_loss: 1.1447, Mean D(x): 0.64, Mean D(G(z)): 0.41\n",
      "Epoch [7/10], Step[6400/8726], d_loss: 1.0013, g_loss: 1.2198, Mean D(x): 0.61, Mean D(G(z)): 0.30\n",
      "Epoch [7/10], Step[6500/8726], d_loss: 0.9973, g_loss: 0.9204, Mean D(x): 0.64, Mean D(G(z)): 0.35\n",
      "Epoch [7/10], Step[6600/8726], d_loss: 1.1200, g_loss: 1.3747, Mean D(x): 0.58, Mean D(G(z)): 0.32\n",
      "Epoch [7/10], Step[6700/8726], d_loss: 0.9918, g_loss: 1.2198, Mean D(x): 0.66, Mean D(G(z)): 0.32\n",
      "Epoch [7/10], Step[6800/8726], d_loss: 1.0906, g_loss: 1.1227, Mean D(x): 0.60, Mean D(G(z)): 0.36\n",
      "Epoch [7/10], Step[6900/8726], d_loss: 1.1620, g_loss: 1.1891, Mean D(x): 0.61, Mean D(G(z)): 0.37\n",
      "Epoch [7/10], Step[7000/8726], d_loss: 1.1062, g_loss: 1.0042, Mean D(x): 0.69, Mean D(G(z)): 0.42\n",
      "Epoch [7/10], Step[7100/8726], d_loss: 1.0801, g_loss: 1.1102, Mean D(x): 0.62, Mean D(G(z)): 0.35\n",
      "Epoch [7/10], Step[7200/8726], d_loss: 1.1300, g_loss: 1.1381, Mean D(x): 0.58, Mean D(G(z)): 0.36\n",
      "Epoch [7/10], Step[7300/8726], d_loss: 1.1546, g_loss: 1.0787, Mean D(x): 0.60, Mean D(G(z)): 0.39\n",
      "Epoch [7/10], Step[7400/8726], d_loss: 1.1174, g_loss: 1.0755, Mean D(x): 0.64, Mean D(G(z)): 0.40\n",
      "Epoch [7/10], Step[7500/8726], d_loss: 1.1683, g_loss: 0.9854, Mean D(x): 0.59, Mean D(G(z)): 0.42\n",
      "Epoch [7/10], Step[7600/8726], d_loss: 1.1953, g_loss: 1.1425, Mean D(x): 0.63, Mean D(G(z)): 0.40\n",
      "Epoch [7/10], Step[7700/8726], d_loss: 1.1823, g_loss: 1.2040, Mean D(x): 0.60, Mean D(G(z)): 0.39\n",
      "Epoch [7/10], Step[7800/8726], d_loss: 1.0577, g_loss: 1.0030, Mean D(x): 0.63, Mean D(G(z)): 0.38\n",
      "Epoch [7/10], Step[7900/8726], d_loss: 1.1442, g_loss: 0.9654, Mean D(x): 0.62, Mean D(G(z)): 0.41\n",
      "Epoch [7/10], Step[8000/8726], d_loss: 1.2886, g_loss: 1.0845, Mean D(x): 0.58, Mean D(G(z)): 0.44\n",
      "Epoch [7/10], Step[8100/8726], d_loss: 1.1719, g_loss: 1.2120, Mean D(x): 0.60, Mean D(G(z)): 0.39\n",
      "Epoch [7/10], Step[8200/8726], d_loss: 1.2745, g_loss: 1.0592, Mean D(x): 0.61, Mean D(G(z)): 0.44\n",
      "Epoch [7/10], Step[8300/8726], d_loss: 1.1065, g_loss: 1.0565, Mean D(x): 0.60, Mean D(G(z)): 0.36\n",
      "Epoch [7/10], Step[8400/8726], d_loss: 1.0963, g_loss: 0.8884, Mean D(x): 0.68, Mean D(G(z)): 0.43\n",
      "Epoch [7/10], Step[8500/8726], d_loss: 0.9891, g_loss: 1.2313, Mean D(x): 0.66, Mean D(G(z)): 0.36\n",
      "Epoch [7/10], Step[8600/8726], d_loss: 1.1725, g_loss: 1.1208, Mean D(x): 0.55, Mean D(G(z)): 0.33\n",
      "Epoch [7/10], Step[8700/8726], d_loss: 0.9578, g_loss: 1.2277, Mean D(x): 0.69, Mean D(G(z)): 0.37\n",
      "Epoch [8/10], Step[100/8726], d_loss: 1.0341, g_loss: 1.1991, Mean D(x): 0.61, Mean D(G(z)): 0.34\n",
      "Epoch [8/10], Step[200/8726], d_loss: 1.0494, g_loss: 1.1795, Mean D(x): 0.65, Mean D(G(z)): 0.36\n",
      "Epoch [8/10], Step[300/8726], d_loss: 1.0725, g_loss: 1.0396, Mean D(x): 0.61, Mean D(G(z)): 0.37\n",
      "Epoch [8/10], Step[400/8726], d_loss: 1.2812, g_loss: 0.9968, Mean D(x): 0.63, Mean D(G(z)): 0.45\n",
      "Epoch [8/10], Step[500/8726], d_loss: 1.0552, g_loss: 1.1227, Mean D(x): 0.63, Mean D(G(z)): 0.37\n",
      "Epoch [8/10], Step[600/8726], d_loss: 1.2082, g_loss: 0.9912, Mean D(x): 0.59, Mean D(G(z)): 0.39\n",
      "Epoch [8/10], Step[700/8726], d_loss: 1.1055, g_loss: 1.1769, Mean D(x): 0.61, Mean D(G(z)): 0.37\n",
      "Epoch [8/10], Step[800/8726], d_loss: 1.3495, g_loss: 1.1322, Mean D(x): 0.53, Mean D(G(z)): 0.39\n",
      "Epoch [8/10], Step[900/8726], d_loss: 1.0995, g_loss: 1.1112, Mean D(x): 0.66, Mean D(G(z)): 0.42\n",
      "Epoch [8/10], Step[1000/8726], d_loss: 1.1719, g_loss: 0.9953, Mean D(x): 0.66, Mean D(G(z)): 0.44\n",
      "Epoch [8/10], Step[1100/8726], d_loss: 1.1432, g_loss: 1.0905, Mean D(x): 0.57, Mean D(G(z)): 0.36\n",
      "Epoch [8/10], Step[1200/8726], d_loss: 0.9800, g_loss: 1.3974, Mean D(x): 0.65, Mean D(G(z)): 0.32\n",
      "Epoch [8/10], Step[1300/8726], d_loss: 1.0878, g_loss: 0.9925, Mean D(x): 0.70, Mean D(G(z)): 0.44\n",
      "Epoch [8/10], Step[1400/8726], d_loss: 1.0811, g_loss: 1.1616, Mean D(x): 0.67, Mean D(G(z)): 0.39\n",
      "Epoch [8/10], Step[1500/8726], d_loss: 1.2797, g_loss: 1.1978, Mean D(x): 0.54, Mean D(G(z)): 0.37\n",
      "Epoch [8/10], Step[1600/8726], d_loss: 1.0526, g_loss: 1.3761, Mean D(x): 0.64, Mean D(G(z)): 0.36\n",
      "Epoch [8/10], Step[1700/8726], d_loss: 1.0827, g_loss: 0.9834, Mean D(x): 0.63, Mean D(G(z)): 0.38\n",
      "Epoch [8/10], Step[1800/8726], d_loss: 1.1251, g_loss: 1.1389, Mean D(x): 0.61, Mean D(G(z)): 0.38\n",
      "Epoch [8/10], Step[1900/8726], d_loss: 1.2091, g_loss: 0.8375, Mean D(x): 0.59, Mean D(G(z)): 0.43\n",
      "Epoch [8/10], Step[2000/8726], d_loss: 1.0944, g_loss: 1.0560, Mean D(x): 0.62, Mean D(G(z)): 0.38\n",
      "Epoch [8/10], Step[2100/8726], d_loss: 1.1320, g_loss: 1.1569, Mean D(x): 0.61, Mean D(G(z)): 0.36\n",
      "Epoch [8/10], Step[2200/8726], d_loss: 1.1963, g_loss: 1.0595, Mean D(x): 0.66, Mean D(G(z)): 0.44\n",
      "Epoch [8/10], Step[2300/8726], d_loss: 1.0522, g_loss: 1.0813, Mean D(x): 0.68, Mean D(G(z)): 0.41\n",
      "Epoch [8/10], Step[2400/8726], d_loss: 1.1453, g_loss: 1.1134, Mean D(x): 0.62, Mean D(G(z)): 0.39\n",
      "Epoch [8/10], Step[2500/8726], d_loss: 1.1129, g_loss: 1.2701, Mean D(x): 0.59, Mean D(G(z)): 0.31\n",
      "Epoch [8/10], Step[2600/8726], d_loss: 0.9565, g_loss: 1.0936, Mean D(x): 0.68, Mean D(G(z)): 0.35\n",
      "Epoch [8/10], Step[2700/8726], d_loss: 1.2452, g_loss: 1.0804, Mean D(x): 0.60, Mean D(G(z)): 0.41\n",
      "Epoch [8/10], Step[2800/8726], d_loss: 1.1374, g_loss: 1.1172, Mean D(x): 0.59, Mean D(G(z)): 0.37\n",
      "Epoch [8/10], Step[2900/8726], d_loss: 1.1254, g_loss: 1.2812, Mean D(x): 0.67, Mean D(G(z)): 0.36\n",
      "Epoch [8/10], Step[3000/8726], d_loss: 1.2503, g_loss: 1.1841, Mean D(x): 0.58, Mean D(G(z)): 0.39\n",
      "Epoch [8/10], Step[3100/8726], d_loss: 1.2184, g_loss: 1.2031, Mean D(x): 0.59, Mean D(G(z)): 0.39\n",
      "Epoch [8/10], Step[3200/8726], d_loss: 1.1754, g_loss: 1.1073, Mean D(x): 0.62, Mean D(G(z)): 0.41\n",
      "Epoch [8/10], Step[3300/8726], d_loss: 1.0363, g_loss: 1.1372, Mean D(x): 0.67, Mean D(G(z)): 0.39\n",
      "Epoch [8/10], Step[3400/8726], d_loss: 1.1420, g_loss: 1.1009, Mean D(x): 0.61, Mean D(G(z)): 0.38\n",
      "Epoch [8/10], Step[3500/8726], d_loss: 1.1694, g_loss: 1.3320, Mean D(x): 0.54, Mean D(G(z)): 0.30\n",
      "Epoch [8/10], Step[3600/8726], d_loss: 1.0724, g_loss: 0.9730, Mean D(x): 0.64, Mean D(G(z)): 0.37\n",
      "Epoch [8/10], Step[3700/8726], d_loss: 1.1375, g_loss: 1.0504, Mean D(x): 0.63, Mean D(G(z)): 0.40\n",
      "Epoch [8/10], Step[3800/8726], d_loss: 1.0928, g_loss: 1.1091, Mean D(x): 0.61, Mean D(G(z)): 0.36\n",
      "Epoch [8/10], Step[3900/8726], d_loss: 1.1800, g_loss: 1.0449, Mean D(x): 0.60, Mean D(G(z)): 0.40\n",
      "Epoch [8/10], Step[4000/8726], d_loss: 1.2031, g_loss: 1.0845, Mean D(x): 0.62, Mean D(G(z)): 0.42\n",
      "Epoch [8/10], Step[4100/8726], d_loss: 1.1206, g_loss: 1.2199, Mean D(x): 0.61, Mean D(G(z)): 0.32\n",
      "Epoch [8/10], Step[4200/8726], d_loss: 1.2064, g_loss: 1.0754, Mean D(x): 0.66, Mean D(G(z)): 0.42\n",
      "Epoch [8/10], Step[4300/8726], d_loss: 1.2987, g_loss: 1.0309, Mean D(x): 0.65, Mean D(G(z)): 0.47\n",
      "Epoch [8/10], Step[4400/8726], d_loss: 1.1014, g_loss: 1.2682, Mean D(x): 0.69, Mean D(G(z)): 0.40\n",
      "Epoch [8/10], Step[4500/8726], d_loss: 1.2076, g_loss: 1.2155, Mean D(x): 0.62, Mean D(G(z)): 0.40\n",
      "Epoch [8/10], Step[4600/8726], d_loss: 1.0937, g_loss: 1.1165, Mean D(x): 0.64, Mean D(G(z)): 0.39\n",
      "Epoch [8/10], Step[4700/8726], d_loss: 1.1435, g_loss: 1.1006, Mean D(x): 0.69, Mean D(G(z)): 0.44\n",
      "Epoch [8/10], Step[4800/8726], d_loss: 1.1154, g_loss: 1.2383, Mean D(x): 0.62, Mean D(G(z)): 0.38\n",
      "Epoch [8/10], Step[4900/8726], d_loss: 1.0457, g_loss: 1.0779, Mean D(x): 0.64, Mean D(G(z)): 0.36\n",
      "Epoch [8/10], Step[5000/8726], d_loss: 1.2419, g_loss: 1.0684, Mean D(x): 0.54, Mean D(G(z)): 0.35\n",
      "Epoch [8/10], Step[5100/8726], d_loss: 1.2446, g_loss: 1.1105, Mean D(x): 0.58, Mean D(G(z)): 0.40\n",
      "Epoch [8/10], Step[5200/8726], d_loss: 1.1023, g_loss: 1.0151, Mean D(x): 0.67, Mean D(G(z)): 0.44\n",
      "Epoch [8/10], Step[5300/8726], d_loss: 1.1095, g_loss: 1.0097, Mean D(x): 0.61, Mean D(G(z)): 0.39\n",
      "Epoch [8/10], Step[5400/8726], d_loss: 1.2016, g_loss: 1.0150, Mean D(x): 0.62, Mean D(G(z)): 0.42\n",
      "Epoch [8/10], Step[5500/8726], d_loss: 1.0326, g_loss: 0.9491, Mean D(x): 0.65, Mean D(G(z)): 0.38\n",
      "Epoch [8/10], Step[5600/8726], d_loss: 1.0931, g_loss: 1.0639, Mean D(x): 0.64, Mean D(G(z)): 0.40\n",
      "Epoch [8/10], Step[5700/8726], d_loss: 1.1221, g_loss: 1.1680, Mean D(x): 0.65, Mean D(G(z)): 0.40\n",
      "Epoch [8/10], Step[5800/8726], d_loss: 1.0688, g_loss: 1.0487, Mean D(x): 0.64, Mean D(G(z)): 0.36\n",
      "Epoch [8/10], Step[5900/8726], d_loss: 1.2165, g_loss: 1.2573, Mean D(x): 0.53, Mean D(G(z)): 0.34\n",
      "Epoch [8/10], Step[6000/8726], d_loss: 1.0219, g_loss: 1.3770, Mean D(x): 0.68, Mean D(G(z)): 0.37\n",
      "Epoch [8/10], Step[6100/8726], d_loss: 1.0976, g_loss: 1.2668, Mean D(x): 0.61, Mean D(G(z)): 0.36\n",
      "Epoch [8/10], Step[6200/8726], d_loss: 1.0512, g_loss: 1.4148, Mean D(x): 0.67, Mean D(G(z)): 0.37\n",
      "Epoch [8/10], Step[6300/8726], d_loss: 1.0954, g_loss: 1.3887, Mean D(x): 0.59, Mean D(G(z)): 0.30\n",
      "Epoch [8/10], Step[6400/8726], d_loss: 1.1270, g_loss: 1.1115, Mean D(x): 0.62, Mean D(G(z)): 0.40\n",
      "Epoch [8/10], Step[6500/8726], d_loss: 1.1284, g_loss: 1.1718, Mean D(x): 0.63, Mean D(G(z)): 0.38\n",
      "Epoch [8/10], Step[6600/8726], d_loss: 1.1274, g_loss: 1.0008, Mean D(x): 0.61, Mean D(G(z)): 0.38\n",
      "Epoch [8/10], Step[6700/8726], d_loss: 1.0551, g_loss: 1.0890, Mean D(x): 0.58, Mean D(G(z)): 0.31\n",
      "Epoch [8/10], Step[6800/8726], d_loss: 1.1091, g_loss: 1.2733, Mean D(x): 0.62, Mean D(G(z)): 0.39\n",
      "Epoch [8/10], Step[6900/8726], d_loss: 1.0200, g_loss: 1.2041, Mean D(x): 0.65, Mean D(G(z)): 0.35\n",
      "Epoch [8/10], Step[7000/8726], d_loss: 1.1310, g_loss: 1.1036, Mean D(x): 0.62, Mean D(G(z)): 0.37\n",
      "Epoch [8/10], Step[7100/8726], d_loss: 1.3369, g_loss: 1.0168, Mean D(x): 0.58, Mean D(G(z)): 0.43\n",
      "Epoch [8/10], Step[7200/8726], d_loss: 1.0411, g_loss: 1.0792, Mean D(x): 0.64, Mean D(G(z)): 0.38\n",
      "Epoch [8/10], Step[7300/8726], d_loss: 1.1134, g_loss: 1.2068, Mean D(x): 0.64, Mean D(G(z)): 0.38\n",
      "Epoch [8/10], Step[7400/8726], d_loss: 1.0728, g_loss: 0.9282, Mean D(x): 0.66, Mean D(G(z)): 0.39\n",
      "Epoch [8/10], Step[7500/8726], d_loss: 1.1527, g_loss: 1.0694, Mean D(x): 0.65, Mean D(G(z)): 0.43\n",
      "Epoch [8/10], Step[7600/8726], d_loss: 0.9879, g_loss: 0.9918, Mean D(x): 0.69, Mean D(G(z)): 0.38\n",
      "Epoch [8/10], Step[7700/8726], d_loss: 1.1529, g_loss: 1.1774, Mean D(x): 0.57, Mean D(G(z)): 0.34\n",
      "Epoch [8/10], Step[7800/8726], d_loss: 1.1894, g_loss: 1.0046, Mean D(x): 0.59, Mean D(G(z)): 0.40\n",
      "Epoch [8/10], Step[7900/8726], d_loss: 1.0786, g_loss: 1.0412, Mean D(x): 0.61, Mean D(G(z)): 0.37\n",
      "Epoch [8/10], Step[8000/8726], d_loss: 1.1673, g_loss: 1.0536, Mean D(x): 0.64, Mean D(G(z)): 0.43\n",
      "Epoch [8/10], Step[8100/8726], d_loss: 1.0829, g_loss: 1.2812, Mean D(x): 0.63, Mean D(G(z)): 0.38\n",
      "Epoch [8/10], Step[8200/8726], d_loss: 1.1790, g_loss: 1.0894, Mean D(x): 0.64, Mean D(G(z)): 0.42\n",
      "Epoch [8/10], Step[8300/8726], d_loss: 1.1853, g_loss: 1.1146, Mean D(x): 0.59, Mean D(G(z)): 0.38\n",
      "Epoch [8/10], Step[8400/8726], d_loss: 1.3503, g_loss: 1.1394, Mean D(x): 0.54, Mean D(G(z)): 0.38\n",
      "Epoch [8/10], Step[8500/8726], d_loss: 1.1270, g_loss: 1.0191, Mean D(x): 0.62, Mean D(G(z)): 0.40\n",
      "Epoch [8/10], Step[8600/8726], d_loss: 1.1557, g_loss: 1.0955, Mean D(x): 0.61, Mean D(G(z)): 0.39\n",
      "Epoch [8/10], Step[8700/8726], d_loss: 1.1665, g_loss: 1.1274, Mean D(x): 0.60, Mean D(G(z)): 0.38\n",
      "Epoch [9/10], Step[100/8726], d_loss: 1.1198, g_loss: 1.0466, Mean D(x): 0.60, Mean D(G(z)): 0.38\n",
      "Epoch [9/10], Step[200/8726], d_loss: 1.0745, g_loss: 1.0228, Mean D(x): 0.67, Mean D(G(z)): 0.39\n",
      "Epoch [9/10], Step[300/8726], d_loss: 1.1791, g_loss: 1.0921, Mean D(x): 0.59, Mean D(G(z)): 0.35\n",
      "Epoch [9/10], Step[400/8726], d_loss: 1.2313, g_loss: 1.1633, Mean D(x): 0.61, Mean D(G(z)): 0.41\n",
      "Epoch [9/10], Step[500/8726], d_loss: 1.0511, g_loss: 1.1731, Mean D(x): 0.70, Mean D(G(z)): 0.41\n",
      "Epoch [9/10], Step[600/8726], d_loss: 1.0600, g_loss: 1.0529, Mean D(x): 0.60, Mean D(G(z)): 0.38\n",
      "Epoch [9/10], Step[700/8726], d_loss: 1.0397, g_loss: 1.5286, Mean D(x): 0.68, Mean D(G(z)): 0.36\n",
      "Epoch [9/10], Step[800/8726], d_loss: 1.2009, g_loss: 0.8860, Mean D(x): 0.63, Mean D(G(z)): 0.43\n",
      "Epoch [9/10], Step[900/8726], d_loss: 1.1669, g_loss: 1.0816, Mean D(x): 0.59, Mean D(G(z)): 0.38\n",
      "Epoch [9/10], Step[1000/8726], d_loss: 1.1820, g_loss: 0.9658, Mean D(x): 0.59, Mean D(G(z)): 0.42\n",
      "Epoch [9/10], Step[1100/8726], d_loss: 1.0449, g_loss: 1.1096, Mean D(x): 0.65, Mean D(G(z)): 0.40\n",
      "Epoch [9/10], Step[1200/8726], d_loss: 1.0667, g_loss: 1.1661, Mean D(x): 0.67, Mean D(G(z)): 0.39\n",
      "Epoch [9/10], Step[1300/8726], d_loss: 1.1008, g_loss: 1.2459, Mean D(x): 0.62, Mean D(G(z)): 0.37\n",
      "Epoch [9/10], Step[1400/8726], d_loss: 1.1745, g_loss: 1.2461, Mean D(x): 0.59, Mean D(G(z)): 0.38\n",
      "Epoch [9/10], Step[1500/8726], d_loss: 1.2032, g_loss: 1.0178, Mean D(x): 0.61, Mean D(G(z)): 0.41\n",
      "Epoch [9/10], Step[1600/8726], d_loss: 1.1746, g_loss: 1.0723, Mean D(x): 0.61, Mean D(G(z)): 0.42\n",
      "Epoch [9/10], Step[1700/8726], d_loss: 1.0977, g_loss: 1.0977, Mean D(x): 0.61, Mean D(G(z)): 0.36\n",
      "Epoch [9/10], Step[1800/8726], d_loss: 1.1989, g_loss: 1.1017, Mean D(x): 0.55, Mean D(G(z)): 0.36\n",
      "Epoch [9/10], Step[1900/8726], d_loss: 1.1179, g_loss: 1.1428, Mean D(x): 0.64, Mean D(G(z)): 0.41\n",
      "Epoch [9/10], Step[2000/8726], d_loss: 1.1990, g_loss: 1.1229, Mean D(x): 0.60, Mean D(G(z)): 0.40\n",
      "Epoch [9/10], Step[2100/8726], d_loss: 1.2007, g_loss: 1.2275, Mean D(x): 0.61, Mean D(G(z)): 0.40\n",
      "Epoch [9/10], Step[2200/8726], d_loss: 1.0616, g_loss: 1.1345, Mean D(x): 0.63, Mean D(G(z)): 0.37\n",
      "Epoch [9/10], Step[2300/8726], d_loss: 1.1571, g_loss: 1.0008, Mean D(x): 0.59, Mean D(G(z)): 0.38\n",
      "Epoch [9/10], Step[2400/8726], d_loss: 1.1894, g_loss: 1.2840, Mean D(x): 0.64, Mean D(G(z)): 0.40\n",
      "Epoch [9/10], Step[2500/8726], d_loss: 1.2185, g_loss: 0.9010, Mean D(x): 0.62, Mean D(G(z)): 0.44\n",
      "Epoch [9/10], Step[2600/8726], d_loss: 1.1575, g_loss: 1.1559, Mean D(x): 0.62, Mean D(G(z)): 0.40\n",
      "Epoch [9/10], Step[2700/8726], d_loss: 1.2284, g_loss: 0.9205, Mean D(x): 0.58, Mean D(G(z)): 0.39\n",
      "Epoch [9/10], Step[2800/8726], d_loss: 1.1108, g_loss: 1.1015, Mean D(x): 0.60, Mean D(G(z)): 0.34\n",
      "Epoch [9/10], Step[2900/8726], d_loss: 1.0432, g_loss: 0.9146, Mean D(x): 0.66, Mean D(G(z)): 0.40\n",
      "Epoch [9/10], Step[3000/8726], d_loss: 1.1598, g_loss: 1.0693, Mean D(x): 0.60, Mean D(G(z)): 0.38\n",
      "Epoch [9/10], Step[3100/8726], d_loss: 1.1564, g_loss: 1.0642, Mean D(x): 0.62, Mean D(G(z)): 0.40\n",
      "Epoch [9/10], Step[3200/8726], d_loss: 1.2710, g_loss: 1.0241, Mean D(x): 0.54, Mean D(G(z)): 0.36\n",
      "Epoch [9/10], Step[3300/8726], d_loss: 1.2379, g_loss: 1.0789, Mean D(x): 0.59, Mean D(G(z)): 0.43\n",
      "Epoch [9/10], Step[3400/8726], d_loss: 1.2020, g_loss: 0.9813, Mean D(x): 0.63, Mean D(G(z)): 0.43\n",
      "Epoch [9/10], Step[3500/8726], d_loss: 1.2215, g_loss: 1.0393, Mean D(x): 0.64, Mean D(G(z)): 0.46\n",
      "Epoch [9/10], Step[3600/8726], d_loss: 1.2066, g_loss: 1.0118, Mean D(x): 0.56, Mean D(G(z)): 0.38\n",
      "Epoch [9/10], Step[3700/8726], d_loss: 1.2676, g_loss: 1.0986, Mean D(x): 0.60, Mean D(G(z)): 0.39\n",
      "Epoch [9/10], Step[3800/8726], d_loss: 1.1953, g_loss: 1.1546, Mean D(x): 0.53, Mean D(G(z)): 0.35\n",
      "Epoch [9/10], Step[3900/8726], d_loss: 1.2597, g_loss: 1.1796, Mean D(x): 0.61, Mean D(G(z)): 0.43\n",
      "Epoch [9/10], Step[4000/8726], d_loss: 1.3251, g_loss: 1.0157, Mean D(x): 0.59, Mean D(G(z)): 0.45\n",
      "Epoch [9/10], Step[4100/8726], d_loss: 1.0627, g_loss: 1.2338, Mean D(x): 0.61, Mean D(G(z)): 0.35\n",
      "Epoch [9/10], Step[4200/8726], d_loss: 1.2002, g_loss: 1.1228, Mean D(x): 0.58, Mean D(G(z)): 0.41\n",
      "Epoch [9/10], Step[4300/8726], d_loss: 1.2540, g_loss: 1.1553, Mean D(x): 0.56, Mean D(G(z)): 0.40\n",
      "Epoch [9/10], Step[4400/8726], d_loss: 1.1322, g_loss: 1.0977, Mean D(x): 0.59, Mean D(G(z)): 0.37\n",
      "Epoch [9/10], Step[4500/8726], d_loss: 1.0981, g_loss: 1.0877, Mean D(x): 0.62, Mean D(G(z)): 0.38\n",
      "Epoch [9/10], Step[4600/8726], d_loss: 1.1699, g_loss: 1.1017, Mean D(x): 0.63, Mean D(G(z)): 0.41\n",
      "Epoch [9/10], Step[4700/8726], d_loss: 1.0810, g_loss: 1.2394, Mean D(x): 0.64, Mean D(G(z)): 0.35\n",
      "Epoch [9/10], Step[4800/8726], d_loss: 1.1194, g_loss: 1.1089, Mean D(x): 0.60, Mean D(G(z)): 0.39\n",
      "Epoch [9/10], Step[4900/8726], d_loss: 0.9758, g_loss: 1.0991, Mean D(x): 0.68, Mean D(G(z)): 0.35\n",
      "Epoch [9/10], Step[5000/8726], d_loss: 1.0857, g_loss: 1.0156, Mean D(x): 0.63, Mean D(G(z)): 0.38\n",
      "Epoch [9/10], Step[5100/8726], d_loss: 1.1856, g_loss: 1.3064, Mean D(x): 0.61, Mean D(G(z)): 0.37\n",
      "Epoch [9/10], Step[5200/8726], d_loss: 1.0271, g_loss: 1.0717, Mean D(x): 0.64, Mean D(G(z)): 0.37\n",
      "Epoch [9/10], Step[5300/8726], d_loss: 1.0562, g_loss: 1.1677, Mean D(x): 0.64, Mean D(G(z)): 0.35\n",
      "Epoch [9/10], Step[5400/8726], d_loss: 1.3438, g_loss: 0.8663, Mean D(x): 0.56, Mean D(G(z)): 0.44\n",
      "Epoch [9/10], Step[5500/8726], d_loss: 1.2414, g_loss: 1.1381, Mean D(x): 0.62, Mean D(G(z)): 0.43\n",
      "Epoch [9/10], Step[5600/8726], d_loss: 1.1504, g_loss: 1.0176, Mean D(x): 0.62, Mean D(G(z)): 0.40\n",
      "Epoch [9/10], Step[5700/8726], d_loss: 1.1045, g_loss: 1.0654, Mean D(x): 0.61, Mean D(G(z)): 0.37\n",
      "Epoch [9/10], Step[5800/8726], d_loss: 1.2351, g_loss: 1.1436, Mean D(x): 0.54, Mean D(G(z)): 0.35\n",
      "Epoch [9/10], Step[5900/8726], d_loss: 1.2921, g_loss: 1.0551, Mean D(x): 0.56, Mean D(G(z)): 0.42\n",
      "Epoch [9/10], Step[6000/8726], d_loss: 1.1538, g_loss: 1.1255, Mean D(x): 0.55, Mean D(G(z)): 0.34\n",
      "Epoch [9/10], Step[6100/8726], d_loss: 1.3253, g_loss: 1.0531, Mean D(x): 0.56, Mean D(G(z)): 0.42\n",
      "Epoch [9/10], Step[6200/8726], d_loss: 0.9822, g_loss: 1.1624, Mean D(x): 0.66, Mean D(G(z)): 0.34\n",
      "Epoch [9/10], Step[6300/8726], d_loss: 1.0953, g_loss: 1.2578, Mean D(x): 0.63, Mean D(G(z)): 0.35\n",
      "Epoch [9/10], Step[6400/8726], d_loss: 1.1054, g_loss: 1.2441, Mean D(x): 0.64, Mean D(G(z)): 0.36\n",
      "Epoch [9/10], Step[6500/8726], d_loss: 1.0464, g_loss: 1.2478, Mean D(x): 0.62, Mean D(G(z)): 0.34\n",
      "Epoch [9/10], Step[6600/8726], d_loss: 1.0085, g_loss: 1.2399, Mean D(x): 0.66, Mean D(G(z)): 0.36\n",
      "Epoch [9/10], Step[6700/8726], d_loss: 1.0392, g_loss: 1.1645, Mean D(x): 0.63, Mean D(G(z)): 0.36\n",
      "Epoch [9/10], Step[6800/8726], d_loss: 1.0671, g_loss: 1.0898, Mean D(x): 0.64, Mean D(G(z)): 0.37\n",
      "Epoch [9/10], Step[6900/8726], d_loss: 1.1692, g_loss: 1.2177, Mean D(x): 0.58, Mean D(G(z)): 0.36\n",
      "Epoch [9/10], Step[7000/8726], d_loss: 1.1451, g_loss: 1.0584, Mean D(x): 0.60, Mean D(G(z)): 0.38\n",
      "Epoch [9/10], Step[7100/8726], d_loss: 1.2066, g_loss: 1.2200, Mean D(x): 0.56, Mean D(G(z)): 0.35\n",
      "Epoch [9/10], Step[7200/8726], d_loss: 1.0919, g_loss: 1.0749, Mean D(x): 0.63, Mean D(G(z)): 0.39\n",
      "Epoch [9/10], Step[7300/8726], d_loss: 1.2102, g_loss: 0.8106, Mean D(x): 0.65, Mean D(G(z)): 0.48\n",
      "Epoch [9/10], Step[7400/8726], d_loss: 1.2811, g_loss: 0.9001, Mean D(x): 0.58, Mean D(G(z)): 0.45\n",
      "Epoch [9/10], Step[7500/8726], d_loss: 1.2324, g_loss: 1.0860, Mean D(x): 0.61, Mean D(G(z)): 0.45\n",
      "Epoch [9/10], Step[7600/8726], d_loss: 1.1909, g_loss: 1.0610, Mean D(x): 0.62, Mean D(G(z)): 0.41\n",
      "Epoch [9/10], Step[7700/8726], d_loss: 1.1863, g_loss: 1.0690, Mean D(x): 0.61, Mean D(G(z)): 0.41\n",
      "Epoch [9/10], Step[7800/8726], d_loss: 1.1769, g_loss: 1.1385, Mean D(x): 0.58, Mean D(G(z)): 0.39\n",
      "Epoch [9/10], Step[7900/8726], d_loss: 1.2477, g_loss: 1.1429, Mean D(x): 0.54, Mean D(G(z)): 0.37\n",
      "Epoch [9/10], Step[8000/8726], d_loss: 1.1940, g_loss: 1.0764, Mean D(x): 0.60, Mean D(G(z)): 0.43\n",
      "Epoch [9/10], Step[8100/8726], d_loss: 1.1742, g_loss: 1.2691, Mean D(x): 0.57, Mean D(G(z)): 0.35\n",
      "Epoch [9/10], Step[8200/8726], d_loss: 1.1412, g_loss: 1.0721, Mean D(x): 0.68, Mean D(G(z)): 0.42\n",
      "Epoch [9/10], Step[8300/8726], d_loss: 1.2465, g_loss: 1.0986, Mean D(x): 0.55, Mean D(G(z)): 0.39\n",
      "Epoch [9/10], Step[8400/8726], d_loss: 1.1815, g_loss: 1.0039, Mean D(x): 0.67, Mean D(G(z)): 0.45\n",
      "Epoch [9/10], Step[8500/8726], d_loss: 1.0694, g_loss: 1.1005, Mean D(x): 0.64, Mean D(G(z)): 0.38\n",
      "Epoch [9/10], Step[8600/8726], d_loss: 1.1352, g_loss: 1.1116, Mean D(x): 0.60, Mean D(G(z)): 0.38\n",
      "Epoch [9/10], Step[8700/8726], d_loss: 1.1065, g_loss: 1.0697, Mean D(x): 0.68, Mean D(G(z)): 0.43\n"
     ]
    }
   ],
   "source": [
    "N_EPOCHS = 10\n",
    "# allow for manual keyboard interrupt\n",
    "try: \n",
    "    # loop through epochs\n",
    "    for epoch in range(N_EPOCHS):\n",
    "        # loop through batches (no need for class labels right now)\n",
    "        for batch_number, (images, _) in enumerate(data_loader): \n",
    "\n",
    "            # Reshape training dataset images from (batch_size, 25, 25) to (batch_size, 25*25) for \n",
    "            # processing through fully-connected net \n",
    "            batch_size = images.shape[0] # this specific batch size (last one may not be equal to BATCH_SIZE)\n",
    "            images = to_var(images.view(batch_size, -1))\n",
    "\n",
    "            # Create targets for the discriminator network D\n",
    "            # (can use label flipping or label smoothing)\n",
    "            real_labels = to_var(torch.ones(batch_size, 1)) \n",
    "            fake_labels = to_var(torch.zeros(batch_size, 1))\n",
    "\n",
    "            # 1) TRAIN DISCRIMINATOR\n",
    "            # Evaluate the discriminator on the real input images\n",
    "            outputs = D(images) # or D(add_instance_noise(images))\n",
    "            real_score = outputs\n",
    "            # Compute the discriminator loss with respect to the real labels (1s)\n",
    "            d_loss_real = criterion(outputs, real_labels)\n",
    "\n",
    "            # Draw random 64-dimensional noise vectors as inputs to the generator network\n",
    "            z = to_var(torch.randn(batch_size, 64)) # the latents space is 64D\n",
    "            # Transform the noise through the generator network to get synthetic images\n",
    "            fake_images = G(z)\n",
    "            # Evaluate the discriminator on the fake images\n",
    "            outputs = D(fake_images) # or D(add_instance_noise(fake_images))\n",
    "            fake_score = outputs\n",
    "            # Compute the discriminator loss with respect to the fake labels (0s)\n",
    "            d_loss_fake = criterion(outputs, fake_labels)\n",
    "\n",
    "            # Backprop + Optimize the discriminator\n",
    "            d_loss = d_loss_real + d_loss_fake\n",
    "            D.zero_grad()\n",
    "            d_loss.backward()\n",
    "            d_optimizer.step()\n",
    "\n",
    "            # 2) TRAIN GENERATOR\n",
    "            # Draw random 64-dimensional noise vectors as inputs to the generator network\n",
    "            z = to_var(torch.randn(batch_size, 64))\n",
    "            # Transform the noise through the generator network to get synthetic images\n",
    "            fake_images = G(z)\n",
    "            # Evaluate the (new) discriminator on the fake images\n",
    "            outputs = D(fake_images)\n",
    "\n",
    "            # Compute the cross-entropy loss with \"real\" as target (1s). This is what the G wants to do\n",
    "            g_loss = criterion(outputs, real_labels)\n",
    "\n",
    "            # Backprop + Optimize the generator\n",
    "            D.zero_grad() # probably unnecessary?\n",
    "            G.zero_grad()\n",
    "            g_loss.backward()\n",
    "            g_optimizer.step()\n",
    "\n",
    "            if (batch_number + 1) % 100 == 0:\n",
    "                print('Epoch [%d/%d], Step[%d/%d], d_loss: %.4f, '\n",
    "                      'g_loss: %.4f, Mean D(x): %.2f, Mean D(G(z)): %.2f' \n",
    "                      %(epoch,\n",
    "                        N_EPOCHS,\n",
    "                        batch_number + 1,\n",
    "                        n_batches,\n",
    "                        d_loss.data[0],\n",
    "                        g_loss.data[0],\n",
    "                        real_score.data.mean(),\n",
    "                        fake_score.data.mean())\n",
    "                )\n",
    "\n",
    "        # Save the trained parameters \n",
    "        torch.save(G.state_dict(), './weights/generator-%0.3d.pkl' %(epoch + 1))\n",
    "        torch.save(D.state_dict(), './weights/discriminator-%0.3d.pkl' %(epoch + 1))\n",
    "        \n",
    "except KeyboardInterrupt:\n",
    "    print 'Training ended early.'"
   ]
  },
  {
   "cell_type": "code",
   "execution_count": 192,
   "metadata": {
    "collapsed": false
   },
   "outputs": [],
   "source": [
    "# reload weights from any epoch\n",
    "G.load_state_dict(torch.load('weights/generator-001.pkl')) # 009, 020"
   ]
  },
  {
   "cell_type": "markdown",
   "metadata": {},
   "source": [
    "Check image quality and properties at that epoch:"
   ]
  },
  {
   "cell_type": "code",
   "execution_count": 193,
   "metadata": {
    "collapsed": true,
    "deletable": true,
    "editable": true
   },
   "outputs": [],
   "source": [
    "batch_size = 100\n",
    "z = to_var(torch.randn(batch_size, 64))\n",
    "fake_images = G(z).data.numpy().reshape(-1, 25, 25)"
   ]
  },
  {
   "cell_type": "code",
   "execution_count": 194,
   "metadata": {
    "collapsed": false,
    "deletable": true,
    "editable": true
   },
   "outputs": [
    {
     "data": {
      "image/png": "[encoded data removed]",
      "text/plain": [
       "<matplotlib.figure.Figure at 0x11ca61d10>"
      ]
     },
     "metadata": {},
     "output_type": "display_data"
    }
   ],
   "source": [
    "# plot random images from the GAN-generated dataset\n",
    "plot_random_jetimages(fake_images)"
   ]
  },
  {
   "cell_type": "code",
   "execution_count": 195,
   "metadata": {
    "collapsed": false,
    "deletable": true,
    "editable": true
   },
   "outputs": [
    {
     "data": {
      "image/png": "[encoded data removed]",
      "text/plain": [
       "<matplotlib.figure.Figure at 0x11de81e10>"
      ]
     },
     "metadata": {},
     "output_type": "display_data"
    }
   ],
   "source": [
    "# compare them to random images from the training set\n",
    "plot_random_jetimages(data_loader.dataset.images)"
   ]
  },
  {
   "cell_type": "markdown",
   "metadata": {},
   "source": [
    "Calculate Euclidean distances between each pair of images in each dataset:"
   ]
  },
  {
   "cell_type": "code",
   "execution_count": 196,
   "metadata": {
    "collapsed": false
   },
   "outputs": [],
   "source": [
    "def distances(images):\n",
    "    d = []\n",
    "    for i in images:\n",
    "        for j in images:\n",
    "            d.append(np.sum((i-j)**2))\n",
    "    return d"
   ]
  },
  {
   "cell_type": "code",
   "execution_count": 197,
   "metadata": {
    "collapsed": false
   },
   "outputs": [
    {
     "data": {
      "text/plain": [
       "<matplotlib.text.Text at 0x11d376f50>"
      ]
     },
     "execution_count": 197,
     "metadata": {},
     "output_type": "execute_result"
    },
    {
     "data": {
      "image/png": "[encoded data removed]",
      "text/plain": [
       "<matplotlib.figure.Figure at 0x11ca613d0>"
      ]
     },
     "metadata": {},
     "output_type": "display_data"
    }
   ],
   "source": [
    "# plot the distances for the real and GAN-generated dataset\n",
    "bins = np.linspace(0, 55000, 15)\n",
    "_ = plt.hist(distances(data_loader.dataset.images[:batch_size]),\n",
    "             bins=bins, histtype='stepfilled', label='real', color='green', alpha=0.1)\n",
    "_ = plt.hist(distances(fake_images), bins=bins, histtype='step', label='GAN', color='red')\n",
    "plt.legend()\n",
    "plt.xlabel('Pairwise Euclidean distance')\n",
    "plt.ylabel('Number of events')"
   ]
  },
  {
   "cell_type": "code",
   "execution_count": 198,
   "metadata": {
    "collapsed": false,
    "deletable": true,
    "editable": true
   },
   "outputs": [
    {
     "data": {
      "text/plain": [
       "<matplotlib.text.Text at 0x11c7926d0>"
      ]
     },
     "execution_count": 198,
     "metadata": {},
     "output_type": "execute_result"
    },
    {
     "data": {
      "image/png": "[encoded data removed]",
      "text/plain": [
       "<matplotlib.figure.Figure at 0x1193358d0>"
      ]
     },
     "metadata": {},
     "output_type": "display_data"
    }
   ],
   "source": [
    "bins = np.linspace(40, 120, 15)\n",
    "_ = plt.hist(discrete_mass(data_loader.dataset.images[:batch_size]),\n",
    "             histtype='stepfilled', bins=bins, label='GAN', color='green', alpha=0.1)\n",
    "_ = plt.hist(discrete_mass(fake_images), histtype='step', bins=bins, label='real', color='red')\n",
    "plt.legend()\n",
    "plt.xlabel('Jet mass')\n",
    "plt.ylabel('Number of events')"
   ]
  },
  {
   "cell_type": "code",
   "execution_count": 199,
   "metadata": {
    "collapsed": false,
    "deletable": true,
    "editable": true
   },
   "outputs": [
    {
     "data": {
      "text/plain": [
       "<matplotlib.text.Text at 0x11dab3ad0>"
      ]
     },
     "execution_count": 199,
     "metadata": {},
     "output_type": "execute_result"
    },
    {
     "data": {
      "image/png": "[encoded data removed]",
      "text/plain": [
       "<matplotlib.figure.Figure at 0x11cb65790>"
      ]
     },
     "metadata": {},
     "output_type": "display_data"
    }
   ],
   "source": [
    "bins = np.linspace(150, 400, 15)\n",
    "_ = plt.hist(discrete_pt(data_loader.dataset.images[:batch_size]),\n",
    "             histtype='stepfilled', bins=bins, label='real', color='green', alpha=0.1)\n",
    "_ = plt.hist(discrete_pt(fake_images), histtype='step', bins=bins, label='GAN', color='red')\n",
    "plt.legend()\n",
    "plt.xlabel('Jet pT')\n",
    "plt.ylabel('Number of events')"
   ]
  },
  {
   "cell_type": "code",
   "execution_count": 200,
   "metadata": {
    "collapsed": false,
    "deletable": true,
    "editable": true
   },
   "outputs": [
    {
     "data": {
      "text/plain": [
       "<matplotlib.legend.Legend at 0x11d0575d0>"
      ]
     },
     "execution_count": 200,
     "metadata": {},
     "output_type": "execute_result"
    },
    {
     "data": {
      "image/png": "[encoded data removed]",
      "text/plain": [
       "<matplotlib.figure.Figure at 0x11d316d10>"
      ]
     },
     "metadata": {},
     "output_type": "display_data"
    }
   ],
   "source": [
    "bins=np.linspace(0, 300, 50)\n",
    "_ = plt.hist(data_loader.dataset.images[:batch_size].ravel(),\n",
    "             bins=bins, histtype='stepfilled', color='green', alpha=0.1, label='real')\n",
    "_ = plt.hist(fake_images.ravel(), bins=bins, histtype='step', color='red', label='GAN')\n",
    "\n",
    "plt.xlabel('Pixel Intensity')\n",
    "plt.ylabel('Number of Pixels')\n",
    "plt.yscale('log')\n",
    "plt.legend()"
   ]
  },
  {
   "cell_type": "code",
   "execution_count": 201,
   "metadata": {
    "collapsed": false,
    "deletable": true,
    "editable": true
   },
   "outputs": [
    {
     "data": {
      "image/png": "[encoded data removed]",
      "text/plain": [
       "<matplotlib.figure.Figure at 0x11da98c90>"
      ]
     },
     "metadata": {},
     "output_type": "display_data"
    }
   ],
   "source": [
    "bins=np.logspace(-21, 3, 50)\n",
    "_ = plt.hist(data_loader.dataset.images[:batch_size].ravel(),\n",
    "             bins=bins, histtype='stepfilled', color='green', alpha=0.1, label='real')\n",
    "_ = plt.hist(fake_images.ravel(), bins=bins, histtype='step', color='red', label='GAN')\n",
    "\n",
    "plt.xlabel('Pixel Intensity')\n",
    "plt.ylabel('Number of Pixels')\n",
    "plt.yscale('log')\n",
    "plt.xscale('log')"
   ]
  },
  {
   "cell_type": "markdown",
   "metadata": {},
   "source": [
    "We can go back up and see if things change after different epochs."
   ]
  },
  {
   "cell_type": "markdown",
   "metadata": {},
   "source": [
    "----"
   ]
  },
  {
   "cell_type": "markdown",
   "metadata": {},
   "source": [
    "We can also look at the evolution of images over the epochs:"
   ]
  },
  {
   "cell_type": "code",
   "execution_count": 204,
   "metadata": {
    "collapsed": false,
    "scrolled": false
   },
   "outputs": [
    {
     "name": "stdout",
     "output_type": "stream",
     "text": [
      "Epoch 001\n"
     ]
    },
    {
     "data": {
      "image/png": "[encoded data removed]",
      "text/plain": [
       "<matplotlib.figure.Figure at 0x11d4ab590>"
      ]
     },
     "metadata": {},
     "output_type": "display_data"
    },
    {
     "name": "stdout",
     "output_type": "stream",
     "text": [
      "Epoch 002\n"
     ]
    },
    {
     "data": {
      "image/png": "[encoded data removed]",
      "text/plain": [
       "<matplotlib.figure.Figure at 0x11cefdb10>"
      ]
     },
     "metadata": {},
     "output_type": "display_data"
    },
    {
     "name": "stdout",
     "output_type": "stream",
     "text": [
      "Epoch 003\n"
     ]
    },
    {
     "data": {
      "image/png": "[encoded data removed]",
      "text/plain": [
       "<matplotlib.figure.Figure at 0x11b9a5d90>"
      ]
     },
     "metadata": {},
     "output_type": "display_data"
    },
    {
     "name": "stdout",
     "output_type": "stream",
     "text": [
      "Epoch 004\n"
     ]
    },
    {
     "data": {
      "image/png": "[encoded data removed]",
      "text/plain": [
       "<matplotlib.figure.Figure at 0x11ce7aad0>"
      ]
     },
     "metadata": {},
     "output_type": "display_data"
    },
    {
     "name": "stdout",
     "output_type": "stream",
     "text": [
      "Epoch 005\n"
     ]
    },
    {
     "data": {
      "image/png": "[encoded data removed]",
      "text/plain": [
       "<matplotlib.figure.Figure at 0x11ccc42d0>"
      ]
     },
     "metadata": {},
     "output_type": "display_data"
    },
    {
     "name": "stdout",
     "output_type": "stream",
     "text": [
      "Epoch 006\n"
     ]
    },
    {
     "data": {
      "image/png": "[encoded data removed]",
      "text/plain": [
       "<matplotlib.figure.Figure at 0x11bed2390>"
      ]
     },
     "metadata": {},
     "output_type": "display_data"
    },
    {
     "name": "stdout",
     "output_type": "stream",
     "text": [
      "Epoch 007\n"
     ]
    },
    {
     "data": {
      "image/png": "[encoded data removed]",
      "text/plain": [
       "<matplotlib.figure.Figure at 0x11df61a50>"
      ]
     },
     "metadata": {},
     "output_type": "display_data"
    },
    {
     "name": "stdout",
     "output_type": "stream",
     "text": [
      "Epoch 008\n"
     ]
    },
    {
     "data": {
      "image/png": "[encoded data removed]",
      "text/plain": [
       "<matplotlib.figure.Figure at 0x11bd33b90>"
      ]
     },
     "metadata": {},
     "output_type": "display_data"
    },
    {
     "name": "stdout",
     "output_type": "stream",
     "text": [
      "Epoch 009\n"
     ]
    },
    {
     "data": {
      "image/png": "[encoded data removed]",
      "text/plain": [
       "<matplotlib.figure.Figure at 0x11e41aed0>"
      ]
     },
     "metadata": {},
     "output_type": "display_data"
    },
    {
     "name": "stdout",
     "output_type": "stream",
     "text": [
      "Epoch 010\n"
     ]
    },
    {
     "data": {
      "image/png": "[encoded data removed]",
      "text/plain": [
       "<matplotlib.figure.Figure at 0x11d5b28d0>"
      ]
     },
     "metadata": {},
     "output_type": "display_data"
    },
    {
     "name": "stdout",
     "output_type": "stream",
     "text": [
      "Epoch 011\n"
     ]
    },
    {
     "data": {
      "image/png": "[encoded data removed]",
      "text/plain": [
       "<matplotlib.figure.Figure at 0x11d6bc610>"
      ]
     },
     "metadata": {},
     "output_type": "display_data"
    },
    {
     "name": "stdout",
     "output_type": "stream",
     "text": [
      "Epoch 012\n"
     ]
    },
    {
     "data": {
      "image/png": "[encoded data removed]",
      "text/plain": [
       "<matplotlib.figure.Figure at 0x11de81510>"
      ]
     },
     "metadata": {},
     "output_type": "display_data"
    },
    {
     "name": "stdout",
     "output_type": "stream",
     "text": [
      "Epoch 013\n"
     ]
    },
    {
     "data": {
      "image/png": "[encoded data removed]",
      "text/plain": [
       "<matplotlib.figure.Figure at 0x11d128b90>"
      ]
     },
     "metadata": {},
     "output_type": "display_data"
    },
    {
     "name": "stdout",
     "output_type": "stream",
     "text": [
      "Epoch 014\n"
     ]
    },
    {
     "data": {
      "image/png": "[encoded data removed]",
      "text/plain": [
       "<matplotlib.figure.Figure at 0x11ba84b10>"
      ]
     },
     "metadata": {},
     "output_type": "display_data"
    },
    {
     "name": "stdout",
     "output_type": "stream",
     "text": [
      "Epoch 015\n"
     ]
    },
    {
     "data": {
      "image/png": "[encoded data removed]",
      "text/plain": [
       "<matplotlib.figure.Figure at 0x11bad8110>"
      ]
     },
     "metadata": {},
     "output_type": "display_data"
    },
    {
     "name": "stdout",
     "output_type": "stream",
     "text": [
      "Epoch 016\n"
     ]
    },
    {
     "data": {
      "image/png": "[encoded data removed]",
      "text/plain": [
       "<matplotlib.figure.Figure at 0x11e4b0310>"
      ]
     },
     "metadata": {},
     "output_type": "display_data"
    },
    {
     "name": "stdout",
     "output_type": "stream",
     "text": [
      "Epoch 017\n"
     ]
    },
    {
     "data": {
      "image/png": "[encoded data removed]",
      "text/plain": [
       "<matplotlib.figure.Figure at 0x11deca450>"
      ]
     },
     "metadata": {},
     "output_type": "display_data"
    },
    {
     "name": "stdout",
     "output_type": "stream",
     "text": [
      "Epoch 018\n"
     ]
    },
    {
     "data": {
      "image/png": "[encoded data removed]",
      "text/plain": [
       "<matplotlib.figure.Figure at 0x11af93710>"
      ]
     },
     "metadata": {},
     "output_type": "display_data"
    },
    {
     "name": "stdout",
     "output_type": "stream",
     "text": [
      "Epoch 019\n"
     ]
    },
    {
     "data": {
      "image/png": "[encoded data removed]",
      "text/plain": [
       "<matplotlib.figure.Figure at 0x11e489ad0>"
      ]
     },
     "metadata": {},
     "output_type": "display_data"
    },
    {
     "name": "stdout",
     "output_type": "stream",
     "text": [
      "Epoch 020\n"
     ]
    },
    {
     "data": {
      "image/png": "[encoded data removed]",
      "text/plain": [
       "<matplotlib.figure.Figure at 0x11d4e37d0>"
      ]
     },
     "metadata": {},
     "output_type": "display_data"
    }
   ],
   "source": [
    "import glob\n",
    "for _w in glob.glob('./weights/generator-*'):\n",
    "    print 'Epoch ' + _w.split('-')[-1].split('.')[0]\n",
    "    \n",
    "    # load weights into G\n",
    "    G.load_state_dict(torch.load(_w))\n",
    "    \n",
    "    # produce a batch of fake images\n",
    "    batch_size = 100\n",
    "    z = to_var(torch.randn(batch_size, 64))\n",
    "    fake_images = G(z).data.numpy().reshape(-1, 25, 25)\n",
    "    \n",
    "    # plot a few of them\n",
    "    plot_random_jetimages(fake_images, njets=10)\n",
    "    plt.show()"
   ]
  },
  {
   "cell_type": "markdown",
   "metadata": {},
   "source": [
    "There is certainly evidence of mode collapse in this specific instance of the training after a few epochs."
   ]
  },
  {
   "cell_type": "markdown",
   "metadata": {
    "collapsed": true,
    "deletable": true,
    "editable": true
   },
   "source": [
    "### Wasserstein GANs\n",
    "\n",
    "A recently proposed solution to the general instability of GANs is the Wasserstein GAN, or WGAN. It addresses the issues with non-overlapping supports.\n",
    "\n",
    "In lieu of the non-saturating heuristic that Vanilla GANs optimize, \n",
    "\n",
    "$$\n",
    "\\mathbb{E}_{x\\sim p_{\\mathsf{data}}(x)}[\\log D(x;\\theta_D)] + \\mathbb{E}_{z\\sim p_{z}(z)}[\\log (1 - D(G(x;\\theta_G);\\theta_D))]\n",
    "$$\n",
    "\n",
    "WGANs propose to directly minimize the Wasserstein distance (or Earth Movers distance) between fake and real data.\n",
    "\n",
    "Determining the Wasserstein distance between two distributions, $W(p,q)$, can be efficiently computed using the Kantorovich Rubenstein duality, allowing for minibatch sampled expectatins from $p$ and $q$. \n",
    "\n",
    "$$\n",
    "K \\cdot W(p,q)=\\sup_{f : \\Vert f\\Vert_{L \\leq K}} (\\mathbb{E}_{x \\sim P_r}[f(x)] - \\mathbb{E}_{x \\sim P_g}[f(x)])\n",
    "$$\n",
    "\n",
    "The \"discriminator\" from a normal GAN now becomes this $f$ here, and the parameters of $f$ are clamped to make it's weights compact, and this the overal neural network $K$-Lipschitz. \n",
    "\n",
    "In practice, WGANs aim to maximize\n",
    "\n",
    "$$\n",
    "\\mathbb{E}_{x \\sim p_{\\mathsf{data}}(x)}[f(x)] - \\mathbb{E}_{\\hat{x} \\sim p_{\\mathsf{model}}(\\hat{x};\\theta)}[f(\\hat{x})]\n",
    "$$\n",
    "\n",
    "Implementing this in PyTorch is quite simple - we will change parlance from \"discriminator\" to \"critic\".\n"
   ]
  },
  {
   "cell_type": "code",
   "execution_count": 317,
   "metadata": {
    "collapsed": true,
    "deletable": true,
    "editable": true
   },
   "outputs": [],
   "source": [
    "# Critic\n",
    "# Note that we just have a linear output here\n",
    "critic = nn.Sequential(\n",
    "    nn.Linear(25 * 25, 256),\n",
    "    nn.LeakyReLU(0.2),\n",
    "    nn.Linear(256, 256),\n",
    "    nn.LeakyReLU(0.2),\n",
    "    nn.Linear(256, 256),\n",
    "    nn.LeakyReLU(0.2),\n",
    "    nn.Linear(256, 1)\n",
    ")\n",
    "\n",
    "# Generator \n",
    "generator = nn.Sequential(\n",
    "    nn.Linear(64, 256),\n",
    "    nn.LeakyReLU(0.2),\n",
    "    nn.Linear(256, 512),\n",
    "    nn.LeakyReLU(0.2),\n",
    "    nn.Linear(512, 25 * 25),\n",
    "    nn.ReLU()\n",
    ")\n",
    "\n",
    "# if you're running on GPU, move models there\n",
    "if torch.cuda.is_available():\n",
    "    critic.cuda()\n",
    "    generator.cuda()"
   ]
  },
  {
   "cell_type": "code",
   "execution_count": 318,
   "metadata": {
    "collapsed": true,
    "deletable": true,
    "editable": true
   },
   "outputs": [],
   "source": [
    "# These are the recommended defaults (sauf N_EPOCHS) from the WGAN paper.\n",
    "LR = 0.0005\n",
    "N_EPOCHS = 20\n",
    "N_CRITIC_STEPS = 5\n",
    "CLAMP = 0.01"
   ]
  },
  {
   "cell_type": "code",
   "execution_count": 319,
   "metadata": {
    "collapsed": true,
    "deletable": true,
    "editable": true
   },
   "outputs": [],
   "source": [
    "critic_optimizer = torch.optim.RMSprop(critic.parameters(), lr=LR)\n",
    "generator_optimizer = torch.optim.RMSprop(generator.parameters(), lr=LR)"
   ]
  },
  {
   "cell_type": "markdown",
   "metadata": {
    "deletable": true,
    "editable": true
   },
   "source": [
    "For the training loop, we want to alternate between `N_CRITIC_STEPS` critic updates and a single generator update. We'll keep a counter that will help us know where we are.\n",
    "\n",
    "This is due to the fact that unlike normal GANs, we would like our critic to convervge before each generator update so that it's current estimate of the mutliplicatively scaled Wasserstein distance is more accurate and informative for the Generator."
   ]
  },
  {
   "cell_type": "code",
   "execution_count": 320,
   "metadata": {
    "collapsed": true
   },
   "outputs": [],
   "source": [
    "# If you want to, you can keep track of the history of the training by saving all per-epoch losses\n",
    "g_loss = []\n",
    "c_loss = []"
   ]
  },
  {
   "cell_type": "code",
   "execution_count": 321,
   "metadata": {
    "collapsed": false,
    "deletable": true,
    "editable": true,
    "scrolled": true
   },
   "outputs": [
    {
     "name": "stdout",
     "output_type": "stream",
     "text": [
      "Epoch [0/20], Step[300/8726], d_loss: -3.7239, g_loss: -2.7260, Mean D(x): 6.20, Mean D(G(z)): 2.47\n",
      "Epoch [0/20], Step[600/8726], d_loss: -2.0668, g_loss: -0.9106, Mean D(x): -0.70, Mean D(G(z)): -2.77\n",
      "Epoch [0/20], Step[900/8726], d_loss: -3.4252, g_loss: 0.5271, Mean D(x): 3.07, Mean D(G(z)): -0.36\n",
      "Epoch [0/20], Step[1200/8726], d_loss: -4.1013, g_loss: 0.1144, Mean D(x): 4.76, Mean D(G(z)): 0.66\n",
      "Epoch [0/20], Step[1500/8726], d_loss: -4.2233, g_loss: 1.7200, Mean D(x): 4.47, Mean D(G(z)): 0.25\n",
      "Epoch [0/20], Step[1800/8726], d_loss: -3.7967, g_loss: -1.3661, Mean D(x): 3.58, Mean D(G(z)): -0.21\n",
      "Epoch [0/20], Step[2100/8726], d_loss: -4.1264, g_loss: 0.3313, Mean D(x): 3.13, Mean D(G(z)): -0.99\n",
      "Epoch [0/20], Step[2400/8726], d_loss: -3.5116, g_loss: -0.6166, Mean D(x): 4.54, Mean D(G(z)): 1.02\n",
      "Epoch [0/20], Step[2700/8726], d_loss: -3.1929, g_loss: -2.0354, Mean D(x): 3.37, Mean D(G(z)): 0.18\n",
      "Epoch [0/20], Step[3000/8726], d_loss: -2.9032, g_loss: 1.4251, Mean D(x): 3.37, Mean D(G(z)): 0.47\n",
      "Epoch [0/20], Step[3300/8726], d_loss: -2.8407, g_loss: 1.9706, Mean D(x): 2.16, Mean D(G(z)): -0.68\n",
      "Epoch [0/20], Step[3600/8726], d_loss: -1.8666, g_loss: -1.2010, Mean D(x): 1.44, Mean D(G(z)): -0.43\n",
      "Epoch [0/20], Step[3900/8726], d_loss: -1.9044, g_loss: -1.0975, Mean D(x): 2.11, Mean D(G(z)): 0.21\n",
      "Epoch [0/20], Step[4200/8726], d_loss: -1.4596, g_loss: -0.3041, Mean D(x): 1.42, Mean D(G(z)): -0.04\n",
      "Epoch [0/20], Step[4500/8726], d_loss: -1.5190, g_loss: 0.0132, Mean D(x): 1.30, Mean D(G(z)): -0.22\n",
      "Epoch [0/20], Step[4800/8726], d_loss: -1.4532, g_loss: 0.2772, Mean D(x): 0.72, Mean D(G(z)): -0.73\n",
      "Epoch [0/20], Step[5100/8726], d_loss: -0.7305, g_loss: 0.1480, Mean D(x): 1.36, Mean D(G(z)): 0.62\n",
      "Epoch [0/20], Step[5400/8726], d_loss: -1.5827, g_loss: 0.1664, Mean D(x): 2.36, Mean D(G(z)): 0.78\n",
      "Epoch [0/20], Step[5700/8726], d_loss: -1.5862, g_loss: -0.0694, Mean D(x): 1.81, Mean D(G(z)): 0.23\n",
      "Epoch [0/20], Step[6000/8726], d_loss: -2.0408, g_loss: -0.8181, Mean D(x): 1.30, Mean D(G(z)): -0.74\n",
      "Epoch [0/20], Step[6300/8726], d_loss: -1.9565, g_loss: -0.4805, Mean D(x): 2.03, Mean D(G(z)): 0.08\n",
      "Epoch [0/20], Step[6600/8726], d_loss: -2.3819, g_loss: 1.4132, Mean D(x): 0.63, Mean D(G(z)): -1.75\n",
      "Epoch [0/20], Step[6900/8726], d_loss: -2.2546, g_loss: -0.4196, Mean D(x): 2.44, Mean D(G(z)): 0.19\n",
      "Epoch [0/20], Step[7200/8726], d_loss: -2.1912, g_loss: -0.2657, Mean D(x): 2.27, Mean D(G(z)): 0.08\n",
      "Epoch [0/20], Step[7500/8726], d_loss: -1.8903, g_loss: -0.0859, Mean D(x): 2.26, Mean D(G(z)): 0.37\n",
      "Epoch [0/20], Step[7800/8726], d_loss: -1.9174, g_loss: -0.0064, Mean D(x): 1.97, Mean D(G(z)): 0.05\n",
      "Epoch [0/20], Step[8100/8726], d_loss: -1.4678, g_loss: 0.0694, Mean D(x): 0.88, Mean D(G(z)): -0.59\n",
      "Epoch [0/20], Step[8400/8726], d_loss: -1.2920, g_loss: -0.4086, Mean D(x): 1.74, Mean D(G(z)): 0.45\n",
      "Epoch [0/20], Step[8700/8726], d_loss: -1.1998, g_loss: -0.7893, Mean D(x): 1.17, Mean D(G(z)): -0.03\n",
      "Epoch [1/20], Step[300/8726], d_loss: -1.4425, g_loss: -0.0931, Mean D(x): 1.95, Mean D(G(z)): 0.50\n",
      "Epoch [1/20], Step[600/8726], d_loss: -1.8043, g_loss: -0.1720, Mean D(x): 1.90, Mean D(G(z)): 0.09\n",
      "Epoch [1/20], Step[900/8726], d_loss: -1.5246, g_loss: -0.4831, Mean D(x): 1.93, Mean D(G(z)): 0.41\n",
      "Epoch [1/20], Step[1200/8726], d_loss: -1.5540, g_loss: 0.2599, Mean D(x): 1.69, Mean D(G(z)): 0.14\n",
      "Epoch [1/20], Step[1500/8726], d_loss: -1.9395, g_loss: -0.4020, Mean D(x): 2.21, Mean D(G(z)): 0.27\n",
      "Epoch [1/20], Step[1800/8726], d_loss: -1.2576, g_loss: -0.1564, Mean D(x): 1.28, Mean D(G(z)): 0.03\n",
      "Epoch [1/20], Step[2100/8726], d_loss: -1.1540, g_loss: 0.0545, Mean D(x): 1.94, Mean D(G(z)): 0.79\n",
      "Epoch [1/20], Step[2400/8726], d_loss: -1.3566, g_loss: -0.3876, Mean D(x): 1.30, Mean D(G(z)): -0.06\n",
      "Epoch [1/20], Step[2700/8726], d_loss: -1.6128, g_loss: 0.5967, Mean D(x): 1.15, Mean D(G(z)): -0.46\n",
      "Epoch [1/20], Step[3000/8726], d_loss: -1.1326, g_loss: -0.3739, Mean D(x): 1.51, Mean D(G(z)): 0.37\n",
      "Epoch [1/20], Step[3300/8726], d_loss: -1.3752, g_loss: 0.6222, Mean D(x): 1.42, Mean D(G(z)): 0.04\n",
      "Epoch [1/20], Step[3600/8726], d_loss: -1.1281, g_loss: -0.3305, Mean D(x): 1.42, Mean D(G(z)): 0.29\n",
      "Epoch [1/20], Step[3900/8726], d_loss: -0.8233, g_loss: -0.1967, Mean D(x): 1.50, Mean D(G(z)): 0.68\n",
      "Epoch [1/20], Step[4200/8726], d_loss: -0.9829, g_loss: -0.7513, Mean D(x): 1.16, Mean D(G(z)): 0.17\n",
      "Epoch [1/20], Step[4500/8726], d_loss: -1.0082, g_loss: -1.2308, Mean D(x): 1.76, Mean D(G(z)): 0.75\n",
      "Epoch [1/20], Step[4800/8726], d_loss: -1.4248, g_loss: -0.5787, Mean D(x): 1.58, Mean D(G(z)): 0.15\n",
      "Epoch [1/20], Step[5100/8726], d_loss: -1.2514, g_loss: 1.1576, Mean D(x): 0.44, Mean D(G(z)): -0.81\n",
      "Epoch [1/20], Step[5400/8726], d_loss: -0.9498, g_loss: 1.0821, Mean D(x): 0.54, Mean D(G(z)): -0.41\n",
      "Epoch [1/20], Step[5700/8726], d_loss: -0.9895, g_loss: -0.5152, Mean D(x): 1.27, Mean D(G(z)): 0.28\n",
      "Epoch [1/20], Step[6000/8726], d_loss: -1.1827, g_loss: -0.2335, Mean D(x): 2.02, Mean D(G(z)): 0.84\n",
      "Epoch [1/20], Step[6300/8726], d_loss: -0.8677, g_loss: -0.6355, Mean D(x): 1.15, Mean D(G(z)): 0.28\n",
      "Epoch [1/20], Step[6600/8726], d_loss: -1.2853, g_loss: -0.0704, Mean D(x): 1.44, Mean D(G(z)): 0.15\n",
      "Epoch [1/20], Step[6900/8726], d_loss: -1.2001, g_loss: 0.4516, Mean D(x): 0.69, Mean D(G(z)): -0.51\n",
      "Epoch [1/20], Step[7200/8726], d_loss: -1.1306, g_loss: 0.8094, Mean D(x): 0.88, Mean D(G(z)): -0.26\n",
      "Epoch [1/20], Step[7500/8726], d_loss: -1.1784, g_loss: 0.0203, Mean D(x): 0.62, Mean D(G(z)): -0.56\n",
      "Epoch [1/20], Step[7800/8726], d_loss: -1.0610, g_loss: 1.2124, Mean D(x): 0.49, Mean D(G(z)): -0.57\n",
      "Epoch [1/20], Step[8100/8726], d_loss: -1.2117, g_loss: 0.6872, Mean D(x): 1.31, Mean D(G(z)): 0.10\n",
      "Epoch [1/20], Step[8400/8726], d_loss: -1.0186, g_loss: -0.1210, Mean D(x): 1.58, Mean D(G(z)): 0.56\n",
      "Epoch [1/20], Step[8700/8726], d_loss: -0.9625, g_loss: -0.7116, Mean D(x): 1.27, Mean D(G(z)): 0.31\n",
      "Epoch [2/20], Step[300/8726], d_loss: -1.1314, g_loss: 0.2605, Mean D(x): 1.12, Mean D(G(z)): -0.01\n",
      "Epoch [2/20], Step[600/8726], d_loss: -0.8371, g_loss: -0.3942, Mean D(x): 1.63, Mean D(G(z)): 0.79\n",
      "Epoch [2/20], Step[900/8726], d_loss: -0.7822, g_loss: -0.2507, Mean D(x): 1.14, Mean D(G(z)): 0.36\n",
      "Epoch [2/20], Step[1200/8726], d_loss: -0.8995, g_loss: 1.0782, Mean D(x): 0.84, Mean D(G(z)): -0.06\n",
      "Epoch [2/20], Step[1500/8726], d_loss: -1.0400, g_loss: -0.4922, Mean D(x): 1.13, Mean D(G(z)): 0.09\n",
      "Epoch [2/20], Step[1800/8726], d_loss: -1.3547, g_loss: 0.1205, Mean D(x): 0.87, Mean D(G(z)): -0.48\n",
      "Epoch [2/20], Step[2100/8726], d_loss: -0.8913, g_loss: -0.4816, Mean D(x): 2.31, Mean D(G(z)): 1.41\n",
      "Epoch [2/20], Step[2400/8726], d_loss: -1.1575, g_loss: 1.7644, Mean D(x): 0.51, Mean D(G(z)): -0.64\n",
      "Epoch [2/20], Step[2700/8726], d_loss: -0.8580, g_loss: -0.4030, Mean D(x): 0.86, Mean D(G(z)): 0.01\n",
      "Epoch [2/20], Step[3000/8726], d_loss: -0.6618, g_loss: 0.7232, Mean D(x): 0.72, Mean D(G(z)): 0.06\n",
      "Epoch [2/20], Step[3300/8726], d_loss: -0.6359, g_loss: -0.3688, Mean D(x): 0.79, Mean D(G(z)): 0.15\n",
      "Epoch [2/20], Step[3600/8726], d_loss: -0.8709, g_loss: 0.3191, Mean D(x): 1.22, Mean D(G(z)): 0.35\n",
      "Epoch [2/20], Step[3900/8726], d_loss: -0.8135, g_loss: 0.4557, Mean D(x): 0.70, Mean D(G(z)): -0.12\n",
      "Epoch [2/20], Step[4200/8726], d_loss: -0.8808, g_loss: 0.3200, Mean D(x): 0.98, Mean D(G(z)): 0.10\n",
      "Epoch [2/20], Step[4500/8726], d_loss: -1.0385, g_loss: 0.0308, Mean D(x): 1.10, Mean D(G(z)): 0.06\n",
      "Epoch [2/20], Step[4800/8726], d_loss: -1.9351, g_loss: 1.6633, Mean D(x): 1.28, Mean D(G(z)): -0.65\n",
      "Epoch [2/20], Step[5100/8726], d_loss: -1.5945, g_loss: 1.0696, Mean D(x): 1.02, Mean D(G(z)): -0.58\n",
      "Epoch [2/20], Step[5400/8726], d_loss: -0.7408, g_loss: -0.2315, Mean D(x): 2.23, Mean D(G(z)): 1.49\n",
      "Epoch [2/20], Step[5700/8726], d_loss: -0.9538, g_loss: -0.1154, Mean D(x): 0.70, Mean D(G(z)): -0.25\n",
      "Epoch [2/20], Step[6000/8726], d_loss: -0.5778, g_loss: 0.3995, Mean D(x): 1.63, Mean D(G(z)): 1.05\n",
      "Epoch [2/20], Step[6300/8726], d_loss: -0.8259, g_loss: 2.0522, Mean D(x): 1.05, Mean D(G(z)): 0.22\n",
      "Epoch [2/20], Step[6600/8726], d_loss: -0.8114, g_loss: 1.3371, Mean D(x): 1.08, Mean D(G(z)): 0.27\n",
      "Epoch [2/20], Step[6900/8726], d_loss: -0.5011, g_loss: 0.1893, Mean D(x): 0.20, Mean D(G(z)): -0.30\n",
      "Epoch [2/20], Step[7200/8726], d_loss: -0.5418, g_loss: -0.4439, Mean D(x): 0.52, Mean D(G(z)): -0.02\n",
      "Epoch [2/20], Step[7500/8726], d_loss: -0.7019, g_loss: 0.5892, Mean D(x): 0.53, Mean D(G(z)): -0.17\n",
      "Epoch [2/20], Step[7800/8726], d_loss: -0.5868, g_loss: 0.5132, Mean D(x): 0.32, Mean D(G(z)): -0.27\n",
      "Epoch [2/20], Step[8100/8726], d_loss: -0.7879, g_loss: -0.0782, Mean D(x): 0.84, Mean D(G(z)): 0.05\n",
      "Epoch [2/20], Step[8400/8726], d_loss: -0.7492, g_loss: 0.3172, Mean D(x): 0.41, Mean D(G(z)): -0.34\n",
      "Epoch [2/20], Step[8700/8726], d_loss: -0.5303, g_loss: 0.2719, Mean D(x): 0.15, Mean D(G(z)): -0.38\n",
      "Epoch [3/20], Step[300/8726], d_loss: -0.9443, g_loss: -1.5933, Mean D(x): 1.59, Mean D(G(z)): 0.64\n",
      "Epoch [3/20], Step[600/8726], d_loss: -0.7265, g_loss: 1.2368, Mean D(x): -0.18, Mean D(G(z)): -0.91\n",
      "Epoch [3/20], Step[900/8726], d_loss: -0.6859, g_loss: 0.6462, Mean D(x): 0.63, Mean D(G(z)): -0.06\n",
      "Epoch [3/20], Step[1200/8726], d_loss: -0.6917, g_loss: -0.2357, Mean D(x): 0.48, Mean D(G(z)): -0.21\n",
      "Epoch [3/20], Step[1500/8726], d_loss: -0.5954, g_loss: 0.5311, Mean D(x): 0.23, Mean D(G(z)): -0.36\n",
      "Epoch [3/20], Step[1800/8726], d_loss: -0.6263, g_loss: 0.7470, Mean D(x): 0.02, Mean D(G(z)): -0.61\n",
      "Epoch [3/20], Step[2100/8726], d_loss: -0.5671, g_loss: -0.0168, Mean D(x): 0.73, Mean D(G(z)): 0.16\n",
      "Epoch [3/20], Step[2400/8726], d_loss: -0.4913, g_loss: -0.1683, Mean D(x): 0.53, Mean D(G(z)): 0.03\n",
      "Epoch [3/20], Step[2700/8726], d_loss: -0.5345, g_loss: -0.9674, Mean D(x): 0.61, Mean D(G(z)): 0.08\n",
      "Epoch [3/20], Step[3000/8726], d_loss: -0.5265, g_loss: 0.6045, Mean D(x): 0.03, Mean D(G(z)): -0.50\n",
      "Epoch [3/20], Step[3300/8726], d_loss: -0.4964, g_loss: 0.0389, Mean D(x): 0.05, Mean D(G(z)): -0.44\n",
      "Epoch [3/20], Step[3600/8726], d_loss: -0.5487, g_loss: -0.4391, Mean D(x): 1.09, Mean D(G(z)): 0.54\n",
      "Epoch [3/20], Step[3900/8726], d_loss: -0.4642, g_loss: 0.2674, Mean D(x): 0.05, Mean D(G(z)): -0.41\n",
      "Epoch [3/20], Step[4200/8726], d_loss: -0.3995, g_loss: -1.2404, Mean D(x): 0.25, Mean D(G(z)): -0.15\n",
      "Epoch [3/20], Step[4500/8726], d_loss: -0.6563, g_loss: -1.0692, Mean D(x): 0.82, Mean D(G(z)): 0.16\n",
      "Epoch [3/20], Step[4800/8726], d_loss: -0.3151, g_loss: 0.6145, Mean D(x): 0.57, Mean D(G(z)): 0.26\n",
      "Epoch [3/20], Step[5100/8726], d_loss: -0.7122, g_loss: 0.5728, Mean D(x): 0.65, Mean D(G(z)): -0.06\n",
      "Epoch [3/20], Step[5400/8726], d_loss: -0.6675, g_loss: -0.3324, Mean D(x): 0.74, Mean D(G(z)): 0.07\n",
      "Epoch [3/20], Step[5700/8726], d_loss: -0.4885, g_loss: -0.7097, Mean D(x): -0.33, Mean D(G(z)): -0.81\n",
      "Epoch [3/20], Step[6000/8726], d_loss: -0.7134, g_loss: -0.0140, Mean D(x): 1.30, Mean D(G(z)): 0.59\n",
      "Epoch [3/20], Step[6300/8726], d_loss: -0.4828, g_loss: 0.3656, Mean D(x): 0.16, Mean D(G(z)): -0.33\n",
      "Epoch [3/20], Step[6600/8726], d_loss: -0.4511, g_loss: 0.3602, Mean D(x): 0.08, Mean D(G(z)): -0.37\n",
      "Epoch [3/20], Step[6900/8726], d_loss: -0.4660, g_loss: 0.5471, Mean D(x): 0.68, Mean D(G(z)): 0.22\n",
      "Epoch [3/20], Step[7200/8726], d_loss: -0.3245, g_loss: 0.2368, Mean D(x): -0.16, Mean D(G(z)): -0.49\n",
      "Epoch [3/20], Step[7500/8726], d_loss: -0.3773, g_loss: -0.3686, Mean D(x): 0.19, Mean D(G(z)): -0.19\n",
      "Epoch [3/20], Step[7800/8726], d_loss: -0.7700, g_loss: -1.1272, Mean D(x): 0.87, Mean D(G(z)): 0.10\n",
      "Epoch [3/20], Step[8100/8726], d_loss: -0.4799, g_loss: -0.3604, Mean D(x): 0.90, Mean D(G(z)): 0.42\n",
      "Epoch [3/20], Step[8400/8726], d_loss: -0.4166, g_loss: -0.2950, Mean D(x): 0.74, Mean D(G(z)): 0.33\n",
      "Epoch [3/20], Step[8700/8726], d_loss: -0.5814, g_loss: 0.4688, Mean D(x): 0.54, Mean D(G(z)): -0.04\n",
      "Epoch [4/20], Step[300/8726], d_loss: -0.6202, g_loss: 0.6632, Mean D(x): 0.26, Mean D(G(z)): -0.36\n",
      "Epoch [4/20], Step[600/8726], d_loss: -0.4342, g_loss: -0.0407, Mean D(x): 0.56, Mean D(G(z)): 0.12\n",
      "Epoch [4/20], Step[900/8726], d_loss: -0.3050, g_loss: -0.9889, Mean D(x): 1.16, Mean D(G(z)): 0.86\n",
      "Epoch [4/20], Step[1200/8726], d_loss: -0.4143, g_loss: -0.0859, Mean D(x): 0.45, Mean D(G(z)): 0.04\n",
      "Epoch [4/20], Step[1500/8726], d_loss: -0.1992, g_loss: 0.9660, Mean D(x): 0.92, Mean D(G(z)): 0.72\n",
      "Epoch [4/20], Step[1800/8726], d_loss: -0.2824, g_loss: -0.7787, Mean D(x): 1.16, Mean D(G(z)): 0.88\n",
      "Epoch [4/20], Step[2100/8726], d_loss: -0.3347, g_loss: -0.3364, Mean D(x): 0.17, Mean D(G(z)): -0.16\n",
      "Epoch [4/20], Step[2400/8726], d_loss: -0.2735, g_loss: 0.1174, Mean D(x): 0.12, Mean D(G(z)): -0.16\n",
      "Epoch [4/20], Step[2700/8726], d_loss: -0.3667, g_loss: 0.2435, Mean D(x): 0.89, Mean D(G(z)): 0.53\n",
      "Epoch [4/20], Step[3000/8726], d_loss: -0.1049, g_loss: 0.1428, Mean D(x): 0.73, Mean D(G(z)): 0.63\n",
      "Epoch [4/20], Step[3300/8726], d_loss: -0.3187, g_loss: 0.9932, Mean D(x): 0.11, Mean D(G(z)): -0.21\n",
      "Epoch [4/20], Step[3600/8726], d_loss: -0.3731, g_loss: 0.4542, Mean D(x): 0.60, Mean D(G(z)): 0.23\n",
      "Epoch [4/20], Step[3900/8726], d_loss: -0.4435, g_loss: 0.3543, Mean D(x): 0.23, Mean D(G(z)): -0.21\n",
      "Epoch [4/20], Step[4200/8726], d_loss: -0.3787, g_loss: -0.0727, Mean D(x): 0.38, Mean D(G(z)): -0.00\n",
      "Epoch [4/20], Step[4500/8726], d_loss: -0.2601, g_loss: 0.2747, Mean D(x): 0.69, Mean D(G(z)): 0.43\n",
      "Epoch [4/20], Step[4800/8726], d_loss: -0.3831, g_loss: -0.2376, Mean D(x): 0.29, Mean D(G(z)): -0.10\n",
      "Epoch [4/20], Step[5100/8726], d_loss: -0.3256, g_loss: -1.3533, Mean D(x): 0.89, Mean D(G(z)): 0.56\n",
      "Epoch [4/20], Step[5400/8726], d_loss: -0.4680, g_loss: 0.2321, Mean D(x): 0.64, Mean D(G(z)): 0.17\n",
      "Epoch [4/20], Step[5700/8726], d_loss: -0.5053, g_loss: 0.2856, Mean D(x): 0.10, Mean D(G(z)): -0.40\n",
      "Epoch [4/20], Step[6000/8726], d_loss: -0.5662, g_loss: 0.5560, Mean D(x): 0.24, Mean D(G(z)): -0.33\n",
      "Epoch [4/20], Step[6300/8726], d_loss: -0.2150, g_loss: 0.4330, Mean D(x): 0.02, Mean D(G(z)): -0.20\n",
      "Epoch [4/20], Step[6600/8726], d_loss: -0.2477, g_loss: -0.9210, Mean D(x): 0.86, Mean D(G(z)): 0.61\n",
      "Epoch [4/20], Step[6900/8726], d_loss: -0.3821, g_loss: 0.2241, Mean D(x): 0.25, Mean D(G(z)): -0.13\n",
      "Epoch [4/20], Step[7200/8726], d_loss: -0.4412, g_loss: 0.1651, Mean D(x): 0.26, Mean D(G(z)): -0.18\n",
      "Epoch [4/20], Step[7500/8726], d_loss: -0.3796, g_loss: 1.3450, Mean D(x): -0.67, Mean D(G(z)): -1.05\n",
      "Epoch [4/20], Step[7800/8726], d_loss: -0.4118, g_loss: 0.8468, Mean D(x): -0.15, Mean D(G(z)): -0.56\n",
      "Epoch [4/20], Step[8100/8726], d_loss: -0.3000, g_loss: 0.4193, Mean D(x): 0.38, Mean D(G(z)): 0.08\n",
      "Epoch [4/20], Step[8400/8726], d_loss: -0.6008, g_loss: -1.2597, Mean D(x): 1.29, Mean D(G(z)): 0.69\n",
      "Epoch [4/20], Step[8700/8726], d_loss: -0.2376, g_loss: -0.3337, Mean D(x): 0.85, Mean D(G(z)): 0.62\n",
      "Epoch [5/20], Step[300/8726], d_loss: -0.3201, g_loss: 0.0251, Mean D(x): 0.30, Mean D(G(z)): -0.02\n",
      "Epoch [5/20], Step[600/8726], d_loss: -0.3966, g_loss: -0.0242, Mean D(x): 0.54, Mean D(G(z)): 0.15\n",
      "Epoch [5/20], Step[900/8726], d_loss: -0.2928, g_loss: 0.4828, Mean D(x): -0.33, Mean D(G(z)): -0.62\n",
      "Epoch [5/20], Step[1200/8726], d_loss: -0.3033, g_loss: -0.3513, Mean D(x): 0.28, Mean D(G(z)): -0.02\n",
      "Epoch [5/20], Step[1500/8726], d_loss: -0.2908, g_loss: 0.3433, Mean D(x): 0.09, Mean D(G(z)): -0.21\n",
      "Epoch [5/20], Step[1800/8726], d_loss: -0.2145, g_loss: 0.0446, Mean D(x): 0.25, Mean D(G(z)): 0.04\n",
      "Epoch [5/20], Step[2100/8726], d_loss: -0.2586, g_loss: -0.0212, Mean D(x): 0.28, Mean D(G(z)): 0.02\n",
      "Epoch [5/20], Step[2400/8726], d_loss: -0.2438, g_loss: 0.5397, Mean D(x): -0.11, Mean D(G(z)): -0.36\n",
      "Epoch [5/20], Step[2700/8726], d_loss: -0.3097, g_loss: -0.4505, Mean D(x): 0.55, Mean D(G(z)): 0.24\n",
      "Epoch [5/20], Step[3000/8726], d_loss: -0.4819, g_loss: 1.3317, Mean D(x): -0.17, Mean D(G(z)): -0.65\n",
      "Epoch [5/20], Step[3300/8726], d_loss: -0.2164, g_loss: 0.6059, Mean D(x): 0.50, Mean D(G(z)): 0.28\n",
      "Epoch [5/20], Step[3600/8726], d_loss: -0.3418, g_loss: -0.2882, Mean D(x): 0.41, Mean D(G(z)): 0.07\n",
      "Epoch [5/20], Step[3900/8726], d_loss: -0.3968, g_loss: 0.1465, Mean D(x): 0.17, Mean D(G(z)): -0.23\n",
      "Epoch [5/20], Step[4200/8726], d_loss: -0.3412, g_loss: 0.8905, Mean D(x): -0.82, Mean D(G(z)): -1.17\n",
      "Epoch [5/20], Step[4500/8726], d_loss: -0.2233, g_loss: 0.3131, Mean D(x): 0.41, Mean D(G(z)): 0.18\n",
      "Epoch [5/20], Step[4800/8726], d_loss: -0.2984, g_loss: -0.0808, Mean D(x): 0.89, Mean D(G(z)): 0.59\n",
      "Epoch [5/20], Step[5100/8726], d_loss: -0.2151, g_loss: -0.3050, Mean D(x): 0.81, Mean D(G(z)): 0.59\n",
      "Epoch [5/20], Step[5400/8726], d_loss: -0.1813, g_loss: -0.2590, Mean D(x): 0.16, Mean D(G(z)): -0.02\n",
      "Epoch [5/20], Step[5700/8726], d_loss: -0.3753, g_loss: 0.2928, Mean D(x): 0.16, Mean D(G(z)): -0.21\n",
      "Epoch [5/20], Step[6000/8726], d_loss: -0.1763, g_loss: -0.3787, Mean D(x): -0.02, Mean D(G(z)): -0.19\n",
      "Epoch [5/20], Step[6300/8726], d_loss: -0.3313, g_loss: -0.3453, Mean D(x): 0.87, Mean D(G(z)): 0.54\n",
      "Epoch [5/20], Step[6600/8726], d_loss: -0.2739, g_loss: -0.9577, Mean D(x): 1.37, Mean D(G(z)): 1.09\n",
      "Epoch [5/20], Step[6900/8726], d_loss: -0.0869, g_loss: 0.0407, Mean D(x): 0.28, Mean D(G(z)): 0.19\n",
      "Epoch [5/20], Step[7200/8726], d_loss: -0.3866, g_loss: -0.6035, Mean D(x): 0.45, Mean D(G(z)): 0.06\n",
      "Epoch [5/20], Step[7500/8726], d_loss: -0.3842, g_loss: -0.3093, Mean D(x): 0.18, Mean D(G(z)): -0.21\n",
      "Epoch [5/20], Step[7800/8726], d_loss: -0.2105, g_loss: -0.3476, Mean D(x): 0.49, Mean D(G(z)): 0.28\n",
      "Epoch [5/20], Step[8100/8726], d_loss: -0.1218, g_loss: 0.3996, Mean D(x): 0.32, Mean D(G(z)): 0.19\n",
      "Epoch [5/20], Step[8400/8726], d_loss: -0.2440, g_loss: -0.8210, Mean D(x): 0.77, Mean D(G(z)): 0.52\n",
      "Epoch [5/20], Step[8700/8726], d_loss: -0.1977, g_loss: -0.0866, Mean D(x): 0.06, Mean D(G(z)): -0.14\n",
      "Epoch [6/20], Step[300/8726], d_loss: -0.1605, g_loss: -0.3655, Mean D(x): 0.43, Mean D(G(z)): 0.27\n",
      "Epoch [6/20], Step[600/8726], d_loss: -0.4620, g_loss: 1.3932, Mean D(x): -0.10, Mean D(G(z)): -0.56\n",
      "Epoch [6/20], Step[900/8726], d_loss: -0.3523, g_loss: 0.8135, Mean D(x): -0.79, Mean D(G(z)): -1.14\n",
      "Epoch [6/20], Step[1200/8726], d_loss: -0.3006, g_loss: 0.3874, Mean D(x): 0.02, Mean D(G(z)): -0.28\n",
      "Epoch [6/20], Step[1500/8726], d_loss: -0.2970, g_loss: 0.9591, Mean D(x): 0.42, Mean D(G(z)): 0.12\n",
      "Epoch [6/20], Step[1800/8726], d_loss: -0.2874, g_loss: 0.0874, Mean D(x): 0.58, Mean D(G(z)): 0.29\n",
      "Epoch [6/20], Step[2100/8726], d_loss: -0.0254, g_loss: -0.3597, Mean D(x): -0.40, Mean D(G(z)): -0.42\n",
      "Epoch [6/20], Step[2400/8726], d_loss: -0.3898, g_loss: 0.9907, Mean D(x): -0.16, Mean D(G(z)): -0.55\n",
      "Epoch [6/20], Step[2700/8726], d_loss: -0.3410, g_loss: 0.1579, Mean D(x): 1.48, Mean D(G(z)): 1.14\n",
      "Epoch [6/20], Step[3000/8726], d_loss: -0.2711, g_loss: 0.4062, Mean D(x): -0.22, Mean D(G(z)): -0.49\n",
      "Epoch [6/20], Step[3300/8726], d_loss: -0.1873, g_loss: 0.6780, Mean D(x): -0.10, Mean D(G(z)): -0.29\n",
      "Epoch [6/20], Step[3600/8726], d_loss: -0.4413, g_loss: -0.8035, Mean D(x): 0.02, Mean D(G(z)): -0.43\n",
      "Epoch [6/20], Step[3900/8726], d_loss: -0.1060, g_loss: -0.2951, Mean D(x): 0.44, Mean D(G(z)): 0.34\n",
      "Epoch [6/20], Step[4200/8726], d_loss: -0.3699, g_loss: -0.7779, Mean D(x): 0.55, Mean D(G(z)): 0.18\n",
      "Epoch [6/20], Step[4500/8726], d_loss: -0.3630, g_loss: 0.3286, Mean D(x): 0.77, Mean D(G(z)): 0.41\n",
      "Epoch [6/20], Step[4800/8726], d_loss: -0.2348, g_loss: 0.0885, Mean D(x): 0.86, Mean D(G(z)): 0.63\n",
      "Epoch [6/20], Step[5100/8726], d_loss: -0.3056, g_loss: -0.2380, Mean D(x): 0.56, Mean D(G(z)): 0.26\n",
      "Epoch [6/20], Step[5400/8726], d_loss: -0.1402, g_loss: 0.2889, Mean D(x): -0.02, Mean D(G(z)): -0.16\n",
      "Epoch [6/20], Step[5700/8726], d_loss: -0.3048, g_loss: 0.7868, Mean D(x): -0.27, Mean D(G(z)): -0.57\n",
      "Epoch [6/20], Step[6000/8726], d_loss: -0.0279, g_loss: -0.2117, Mean D(x): 0.97, Mean D(G(z)): 0.94\n",
      "Epoch [6/20], Step[6300/8726], d_loss: -0.0596, g_loss: 0.7774, Mean D(x): -0.97, Mean D(G(z)): -1.03\n",
      "Epoch [6/20], Step[6600/8726], d_loss: -0.1476, g_loss: 0.6842, Mean D(x): 0.48, Mean D(G(z)): 0.33\n",
      "Epoch [6/20], Step[6900/8726], d_loss: -0.3812, g_loss: 0.3406, Mean D(x): -0.06, Mean D(G(z)): -0.44\n",
      "Epoch [6/20], Step[7200/8726], d_loss: -0.2543, g_loss: 0.6861, Mean D(x): -0.00, Mean D(G(z)): -0.26\n",
      "Epoch [6/20], Step[7500/8726], d_loss: -0.0914, g_loss: 0.0105, Mean D(x): 0.13, Mean D(G(z)): 0.04\n",
      "Epoch [6/20], Step[7800/8726], d_loss: -0.1386, g_loss: -0.7227, Mean D(x): -0.23, Mean D(G(z)): -0.37\n",
      "Epoch [6/20], Step[8100/8726], d_loss: -0.1021, g_loss: -0.0143, Mean D(x): 0.90, Mean D(G(z)): 0.80\n",
      "Epoch [6/20], Step[8400/8726], d_loss: -0.1792, g_loss: -0.4049, Mean D(x): 0.29, Mean D(G(z)): 0.11\n",
      "Epoch [6/20], Step[8700/8726], d_loss: -0.1602, g_loss: -1.7139, Mean D(x): 1.51, Mean D(G(z)): 1.35\n",
      "Epoch [7/20], Step[300/8726], d_loss: -0.2433, g_loss: -0.0952, Mean D(x): -0.33, Mean D(G(z)): -0.58\n",
      "Epoch [7/20], Step[600/8726], d_loss: -0.3716, g_loss: -0.4390, Mean D(x): 0.96, Mean D(G(z)): 0.58\n",
      "Epoch [7/20], Step[900/8726], d_loss: -0.4329, g_loss: 0.2082, Mean D(x): 0.43, Mean D(G(z)): -0.01\n",
      "Epoch [7/20], Step[1200/8726], d_loss: -0.1420, g_loss: -0.5660, Mean D(x): 1.52, Mean D(G(z)): 1.38\n",
      "Epoch [7/20], Step[1500/8726], d_loss: -0.2618, g_loss: 0.0556, Mean D(x): -0.40, Mean D(G(z)): -0.66\n",
      "Epoch [7/20], Step[1800/8726], d_loss: -0.2029, g_loss: -0.0740, Mean D(x): 0.04, Mean D(G(z)): -0.16\n",
      "Epoch [7/20], Step[2100/8726], d_loss: -0.2862, g_loss: 1.3390, Mean D(x): -0.12, Mean D(G(z)): -0.41\n",
      "Epoch [7/20], Step[2400/8726], d_loss: -0.3530, g_loss: 0.3950, Mean D(x): 0.25, Mean D(G(z)): -0.10\n",
      "Epoch [7/20], Step[2700/8726], d_loss: -0.0256, g_loss: 0.1468, Mean D(x): 1.00, Mean D(G(z)): 0.97\n",
      "Epoch [7/20], Step[3000/8726], d_loss: -0.1947, g_loss: 0.3274, Mean D(x): -0.25, Mean D(G(z)): -0.45\n",
      "Epoch [7/20], Step[3300/8726], d_loss: -0.1477, g_loss: -0.6735, Mean D(x): 1.52, Mean D(G(z)): 1.37\n",
      "Epoch [7/20], Step[3600/8726], d_loss: -0.2310, g_loss: 0.6699, Mean D(x): 0.13, Mean D(G(z)): -0.10\n",
      "Epoch [7/20], Step[3900/8726], d_loss: -0.1798, g_loss: 0.6456, Mean D(x): 0.25, Mean D(G(z)): 0.07\n",
      "Epoch [7/20], Step[4200/8726], d_loss: -0.2610, g_loss: -1.7730, Mean D(x): 1.43, Mean D(G(z)): 1.17\n",
      "Epoch [7/20], Step[4500/8726], d_loss: -0.1638, g_loss: -0.6102, Mean D(x): 0.19, Mean D(G(z)): 0.03\n",
      "Epoch [7/20], Step[4800/8726], d_loss: -0.3632, g_loss: -1.0713, Mean D(x): -0.11, Mean D(G(z)): -0.47\n",
      "Epoch [7/20], Step[5100/8726], d_loss: -0.1474, g_loss: 0.7534, Mean D(x): 0.26, Mean D(G(z)): 0.11\n",
      "Epoch [7/20], Step[5400/8726], d_loss: 0.0057, g_loss: 0.5904, Mean D(x): 0.37, Mean D(G(z)): 0.38\n",
      "Epoch [7/20], Step[5700/8726], d_loss: -0.0302, g_loss: 0.8524, Mean D(x): -0.98, Mean D(G(z)): -1.01\n",
      "Epoch [7/20], Step[6000/8726], d_loss: -0.3248, g_loss: -0.8266, Mean D(x): 0.76, Mean D(G(z)): 0.44\n",
      "Epoch [7/20], Step[6300/8726], d_loss: -0.3864, g_loss: -0.3724, Mean D(x): 0.06, Mean D(G(z)): -0.32\n",
      "Epoch [7/20], Step[6600/8726], d_loss: -0.1690, g_loss: -1.2313, Mean D(x): 0.03, Mean D(G(z)): -0.14\n",
      "Epoch [7/20], Step[6900/8726], d_loss: -0.3736, g_loss: -0.9572, Mean D(x): -0.13, Mean D(G(z)): -0.51\n",
      "Epoch [7/20], Step[7200/8726], d_loss: -0.1766, g_loss: -0.3420, Mean D(x): 0.60, Mean D(G(z)): 0.42\n",
      "Epoch [7/20], Step[7500/8726], d_loss: -0.2540, g_loss: 0.5445, Mean D(x): 0.01, Mean D(G(z)): -0.25\n",
      "Epoch [7/20], Step[7800/8726], d_loss: -0.2599, g_loss: 0.7567, Mean D(x): 0.31, Mean D(G(z)): 0.05\n",
      "Epoch [7/20], Step[8100/8726], d_loss: -0.2158, g_loss: -0.9258, Mean D(x): -0.31, Mean D(G(z)): -0.53\n",
      "Epoch [7/20], Step[8400/8726], d_loss: -0.2046, g_loss: -1.6616, Mean D(x): 0.51, Mean D(G(z)): 0.31\n",
      "Epoch [7/20], Step[8700/8726], d_loss: -0.2936, g_loss: -0.1500, Mean D(x): -0.06, Mean D(G(z)): -0.35\n",
      "Epoch [8/20], Step[300/8726], d_loss: 0.2663, g_loss: -0.6265, Mean D(x): 0.75, Mean D(G(z)): 1.02\n",
      "Epoch [8/20], Step[600/8726], d_loss: -0.3907, g_loss: 0.8221, Mean D(x): 0.12, Mean D(G(z)): -0.27\n",
      "Epoch [8/20], Step[900/8726], d_loss: -0.0701, g_loss: 0.6899, Mean D(x): 0.78, Mean D(G(z)): 0.71\n",
      "Epoch [8/20], Step[1200/8726], d_loss: 0.0897, g_loss: 0.3174, Mean D(x): -0.73, Mean D(G(z)): -0.64\n",
      "Epoch [8/20], Step[1500/8726], d_loss: -0.2569, g_loss: 0.6881, Mean D(x): -0.27, Mean D(G(z)): -0.52\n",
      "Epoch [8/20], Step[1800/8726], d_loss: -0.1387, g_loss: -0.8647, Mean D(x): 0.82, Mean D(G(z)): 0.68\n",
      "Epoch [8/20], Step[2100/8726], d_loss: -0.3102, g_loss: -0.4131, Mean D(x): 1.00, Mean D(G(z)): 0.69\n",
      "Epoch [8/20], Step[2400/8726], d_loss: -0.2035, g_loss: 0.8081, Mean D(x): 0.04, Mean D(G(z)): -0.16\n",
      "Epoch [8/20], Step[2700/8726], d_loss: -0.1755, g_loss: -0.2044, Mean D(x): 0.25, Mean D(G(z)): 0.08\n",
      "Epoch [8/20], Step[3000/8726], d_loss: -0.3219, g_loss: 0.1198, Mean D(x): -0.33, Mean D(G(z)): -0.65\n",
      "Epoch [8/20], Step[3300/8726], d_loss: -0.1470, g_loss: 0.7166, Mean D(x): -0.42, Mean D(G(z)): -0.56\n",
      "Epoch [8/20], Step[3600/8726], d_loss: -0.2128, g_loss: -0.0095, Mean D(x): -0.14, Mean D(G(z)): -0.35\n",
      "Epoch [8/20], Step[3900/8726], d_loss: -0.2872, g_loss: -0.5071, Mean D(x): -0.48, Mean D(G(z)): -0.76\n",
      "Epoch [8/20], Step[4200/8726], d_loss: -0.2019, g_loss: 1.0320, Mean D(x): 0.03, Mean D(G(z)): -0.17\n",
      "Epoch [8/20], Step[4500/8726], d_loss: -0.3039, g_loss: 0.7814, Mean D(x): -0.31, Mean D(G(z)): -0.61\n",
      "Epoch [8/20], Step[4800/8726], d_loss: -0.2656, g_loss: 0.0481, Mean D(x): -0.17, Mean D(G(z)): -0.43\n",
      "Epoch [8/20], Step[5100/8726], d_loss: -0.1641, g_loss: -0.5477, Mean D(x): 0.91, Mean D(G(z)): 0.74\n",
      "Epoch [8/20], Step[5400/8726], d_loss: -0.2397, g_loss: -1.0252, Mean D(x): 1.02, Mean D(G(z)): 0.78\n",
      "Epoch [8/20], Step[5700/8726], d_loss: -0.0389, g_loss: 0.3502, Mean D(x): -0.39, Mean D(G(z)): -0.43\n",
      "Epoch [8/20], Step[6000/8726], d_loss: -0.1236, g_loss: 0.8124, Mean D(x): -0.66, Mean D(G(z)): -0.78\n",
      "Epoch [8/20], Step[6300/8726], d_loss: 0.0118, g_loss: -0.4184, Mean D(x): 0.88, Mean D(G(z)): 0.90\n",
      "Epoch [8/20], Step[6600/8726], d_loss: -0.2351, g_loss: 0.4224, Mean D(x): -0.64, Mean D(G(z)): -0.88\n",
      "Epoch [8/20], Step[6900/8726], d_loss: -0.3710, g_loss: 0.9286, Mean D(x): -0.36, Mean D(G(z)): -0.73\n",
      "Epoch [8/20], Step[7200/8726], d_loss: -0.1533, g_loss: 0.5263, Mean D(x): 0.37, Mean D(G(z)): 0.21\n",
      "Epoch [8/20], Step[7500/8726], d_loss: -0.0993, g_loss: -0.0724, Mean D(x): -0.63, Mean D(G(z)): -0.73\n",
      "Epoch [8/20], Step[7800/8726], d_loss: 0.0176, g_loss: 0.5988, Mean D(x): -0.68, Mean D(G(z)): -0.67\n",
      "Epoch [8/20], Step[8100/8726], d_loss: -0.1458, g_loss: -0.8692, Mean D(x): 0.22, Mean D(G(z)): 0.08\n",
      "Epoch [8/20], Step[8400/8726], d_loss: -0.2283, g_loss: 0.3369, Mean D(x): -0.16, Mean D(G(z)): -0.39\n",
      "Epoch [8/20], Step[8700/8726], d_loss: -0.0392, g_loss: -0.9384, Mean D(x): 0.74, Mean D(G(z)): 0.70\n",
      "Epoch [9/20], Step[300/8726], d_loss: -0.0955, g_loss: 1.0312, Mean D(x): 0.08, Mean D(G(z)): -0.02\n",
      "Epoch [9/20], Step[600/8726], d_loss: -0.4911, g_loss: 0.0233, Mean D(x): -0.16, Mean D(G(z)): -0.65\n",
      "Epoch [9/20], Step[900/8726], d_loss: -0.1797, g_loss: -0.9672, Mean D(x): 0.79, Mean D(G(z)): 0.61\n",
      "Epoch [9/20], Step[1200/8726], d_loss: -0.0598, g_loss: -0.5332, Mean D(x): 0.78, Mean D(G(z)): 0.72\n",
      "Epoch [9/20], Step[1500/8726], d_loss: -0.0790, g_loss: 0.0984, Mean D(x): -0.67, Mean D(G(z)): -0.75\n",
      "Epoch [9/20], Step[1800/8726], d_loss: -0.1372, g_loss: 0.1801, Mean D(x): 0.21, Mean D(G(z)): 0.07\n",
      "Epoch [9/20], Step[2100/8726], d_loss: -0.2558, g_loss: -0.7678, Mean D(x): 0.23, Mean D(G(z)): -0.03\n",
      "Epoch [9/20], Step[2400/8726], d_loss: -0.1326, g_loss: -0.6399, Mean D(x): 0.21, Mean D(G(z)): 0.08\n",
      "Epoch [9/20], Step[2700/8726], d_loss: -0.2487, g_loss: 0.8988, Mean D(x): 0.05, Mean D(G(z)): -0.20\n",
      "Epoch [9/20], Step[3000/8726], d_loss: -0.0239, g_loss: 0.6840, Mean D(x): -0.49, Mean D(G(z)): -0.51\n",
      "Epoch [9/20], Step[3300/8726], d_loss: -0.1657, g_loss: -0.0393, Mean D(x): -0.17, Mean D(G(z)): -0.34\n",
      "Epoch [9/20], Step[3600/8726], d_loss: -0.1940, g_loss: 0.0942, Mean D(x): 0.34, Mean D(G(z)): 0.14\n",
      "Epoch [9/20], Step[3900/8726], d_loss: -0.2251, g_loss: 0.8848, Mean D(x): -0.26, Mean D(G(z)): -0.49\n",
      "Epoch [9/20], Step[4200/8726], d_loss: -0.2846, g_loss: 0.9819, Mean D(x): -0.29, Mean D(G(z)): -0.57\n",
      "Epoch [9/20], Step[4500/8726], d_loss: -0.3062, g_loss: 0.9298, Mean D(x): -0.67, Mean D(G(z)): -0.98\n",
      "Epoch [9/20], Step[4800/8726], d_loss: -0.1564, g_loss: 0.2001, Mean D(x): 0.09, Mean D(G(z)): -0.06\n",
      "Epoch [9/20], Step[5100/8726], d_loss: -0.1964, g_loss: 0.4822, Mean D(x): 0.25, Mean D(G(z)): 0.05\n",
      "Epoch [9/20], Step[5400/8726], d_loss: -0.0763, g_loss: 0.0363, Mean D(x): 0.04, Mean D(G(z)): -0.04\n",
      "Epoch [9/20], Step[5700/8726], d_loss: -0.1737, g_loss: 0.1359, Mean D(x): 0.60, Mean D(G(z)): 0.43\n",
      "Epoch [9/20], Step[6000/8726], d_loss: -0.1829, g_loss: 0.3680, Mean D(x): 0.46, Mean D(G(z)): 0.28\n",
      "Epoch [9/20], Step[6300/8726], d_loss: -0.2682, g_loss: 0.8811, Mean D(x): -0.05, Mean D(G(z)): -0.32\n",
      "Epoch [9/20], Step[6600/8726], d_loss: -0.3343, g_loss: -0.2846, Mean D(x): 0.21, Mean D(G(z)): -0.13\n",
      "Epoch [9/20], Step[6900/8726], d_loss: -0.1444, g_loss: -0.9847, Mean D(x): 1.51, Mean D(G(z)): 1.37\n",
      "Epoch [9/20], Step[7200/8726], d_loss: -0.2557, g_loss: 0.2832, Mean D(x): 0.08, Mean D(G(z)): -0.18\n",
      "Epoch [9/20], Step[7500/8726], d_loss: -0.2355, g_loss: 0.6234, Mean D(x): -0.63, Mean D(G(z)): -0.87\n",
      "Epoch [9/20], Step[7800/8726], d_loss: -0.1650, g_loss: 0.1741, Mean D(x): 0.06, Mean D(G(z)): -0.11\n",
      "Epoch [9/20], Step[8100/8726], d_loss: -0.0465, g_loss: -0.8841, Mean D(x): 1.01, Mean D(G(z)): 0.96\n",
      "Epoch [9/20], Step[8400/8726], d_loss: -0.1017, g_loss: 0.5850, Mean D(x): 0.20, Mean D(G(z)): 0.10\n",
      "Epoch [9/20], Step[8700/8726], d_loss: -0.0818, g_loss: -0.7963, Mean D(x): 0.14, Mean D(G(z)): 0.06\n",
      "Epoch [10/20], Step[300/8726], d_loss: -0.0370, g_loss: -0.4362, Mean D(x): -0.46, Mean D(G(z)): -0.50\n",
      "Epoch [10/20], Step[600/8726], d_loss: -0.1042, g_loss: 0.7643, Mean D(x): -0.38, Mean D(G(z)): -0.48\n",
      "Epoch [10/20], Step[900/8726], d_loss: -0.2665, g_loss: 0.6051, Mean D(x): -0.47, Mean D(G(z)): -0.74\n",
      "Epoch [10/20], Step[1200/8726], d_loss: -0.1728, g_loss: 0.0670, Mean D(x): 0.01, Mean D(G(z)): -0.16\n",
      "Epoch [10/20], Step[1500/8726], d_loss: -0.1545, g_loss: 1.0635, Mean D(x): 0.41, Mean D(G(z)): 0.26\n",
      "Epoch [10/20], Step[1800/8726], d_loss: -0.0772, g_loss: 1.0876, Mean D(x): -0.84, Mean D(G(z)): -0.92\n",
      "Epoch [10/20], Step[2100/8726], d_loss: -0.2141, g_loss: 1.4240, Mean D(x): -0.99, Mean D(G(z)): -1.20\n",
      "Epoch [10/20], Step[2400/8726], d_loss: -0.1818, g_loss: -0.7538, Mean D(x): 0.03, Mean D(G(z)): -0.16\n",
      "Epoch [10/20], Step[2700/8726], d_loss: -0.0247, g_loss: -0.7303, Mean D(x): 0.83, Mean D(G(z)): 0.80\n",
      "Epoch [10/20], Step[3000/8726], d_loss: -0.2718, g_loss: -0.0223, Mean D(x): 0.01, Mean D(G(z)): -0.27\n",
      "Epoch [10/20], Step[3300/8726], d_loss: 0.1194, g_loss: -0.8808, Mean D(x): 1.22, Mean D(G(z)): 1.34\n",
      "Epoch [10/20], Step[3600/8726], d_loss: -0.0318, g_loss: 0.7764, Mean D(x): -0.32, Mean D(G(z)): -0.35\n",
      "Epoch [10/20], Step[3900/8726], d_loss: -0.1343, g_loss: -0.2143, Mean D(x): 0.22, Mean D(G(z)): 0.08\n",
      "Epoch [10/20], Step[4200/8726], d_loss: -0.1176, g_loss: -2.2001, Mean D(x): 1.74, Mean D(G(z)): 1.63\n",
      "Epoch [10/20], Step[4500/8726], d_loss: -0.0205, g_loss: -0.5593, Mean D(x): 0.42, Mean D(G(z)): 0.40\n",
      "Epoch [10/20], Step[4800/8726], d_loss: -0.0181, g_loss: -0.5964, Mean D(x): 0.97, Mean D(G(z)): 0.96\n",
      "Epoch [10/20], Step[5100/8726], d_loss: 0.0929, g_loss: 0.3300, Mean D(x): -0.48, Mean D(G(z)): -0.38\n",
      "Epoch [10/20], Step[5400/8726], d_loss: -0.0611, g_loss: -0.1065, Mean D(x): 0.12, Mean D(G(z)): 0.06\n",
      "Epoch [10/20], Step[5700/8726], d_loss: -0.0648, g_loss: -0.1748, Mean D(x): -0.05, Mean D(G(z)): -0.11\n",
      "Epoch [10/20], Step[6000/8726], d_loss: -0.2164, g_loss: 0.8424, Mean D(x): -0.65, Mean D(G(z)): -0.86\n",
      "Epoch [10/20], Step[6300/8726], d_loss: -0.2041, g_loss: 0.9835, Mean D(x): -0.09, Mean D(G(z)): -0.29\n",
      "Epoch [10/20], Step[6600/8726], d_loss: -0.1102, g_loss: -0.7622, Mean D(x): -0.26, Mean D(G(z)): -0.37\n",
      "Epoch [10/20], Step[6900/8726], d_loss: -0.2202, g_loss: 0.7130, Mean D(x): -0.15, Mean D(G(z)): -0.37\n",
      "Epoch [10/20], Step[7200/8726], d_loss: -0.1217, g_loss: -0.5015, Mean D(x): 0.78, Mean D(G(z)): 0.66\n",
      "Epoch [10/20], Step[7500/8726], d_loss: -0.1722, g_loss: -0.0107, Mean D(x): -0.34, Mean D(G(z)): -0.51\n",
      "Epoch [10/20], Step[7800/8726], d_loss: -0.2849, g_loss: -1.1220, Mean D(x): -0.09, Mean D(G(z)): -0.38\n",
      "Epoch [10/20], Step[8100/8726], d_loss: -0.2405, g_loss: 0.2984, Mean D(x): -0.27, Mean D(G(z)): -0.51\n",
      "Epoch [10/20], Step[8400/8726], d_loss: -0.1143, g_loss: -0.2952, Mean D(x): 0.97, Mean D(G(z)): 0.85\n",
      "Epoch [10/20], Step[8700/8726], d_loss: -0.1193, g_loss: 0.4638, Mean D(x): -0.75, Mean D(G(z)): -0.87\n",
      "Epoch [11/20], Step[300/8726], d_loss: -0.1022, g_loss: -0.0683, Mean D(x): 0.62, Mean D(G(z)): 0.52\n",
      "Epoch [11/20], Step[600/8726], d_loss: -0.1221, g_loss: -0.9834, Mean D(x): -0.23, Mean D(G(z)): -0.35\n",
      "Epoch [11/20], Step[900/8726], d_loss: -0.0766, g_loss: 0.4049, Mean D(x): 0.13, Mean D(G(z)): 0.06\n",
      "Epoch [11/20], Step[1200/8726], d_loss: -0.1107, g_loss: 0.1261, Mean D(x): 0.18, Mean D(G(z)): 0.07\n",
      "Epoch [11/20], Step[1500/8726], d_loss: -0.1061, g_loss: 1.1410, Mean D(x): -0.94, Mean D(G(z)): -1.04\n",
      "Epoch [11/20], Step[1800/8726], d_loss: -0.2548, g_loss: -0.9742, Mean D(x): 1.24, Mean D(G(z)): 0.98\n",
      "Epoch [11/20], Step[2100/8726], d_loss: -0.2141, g_loss: -0.2318, Mean D(x): 0.65, Mean D(G(z)): 0.44\n",
      "Epoch [11/20], Step[2400/8726], d_loss: -0.0931, g_loss: 1.2584, Mean D(x): -1.16, Mean D(G(z)): -1.25\n",
      "Epoch [11/20], Step[2700/8726], d_loss: -0.2143, g_loss: 0.4453, Mean D(x): 0.41, Mean D(G(z)): 0.19\n",
      "Epoch [11/20], Step[3000/8726], d_loss: -0.1918, g_loss: 1.2917, Mean D(x): -0.54, Mean D(G(z)): -0.73\n",
      "Epoch [11/20], Step[3300/8726], d_loss: -0.1444, g_loss: -0.4551, Mean D(x): 0.47, Mean D(G(z)): 0.33\n",
      "Epoch [11/20], Step[3600/8726], d_loss: -0.1189, g_loss: 0.0662, Mean D(x): 0.47, Mean D(G(z)): 0.35\n",
      "Epoch [11/20], Step[3900/8726], d_loss: -0.0414, g_loss: -0.6169, Mean D(x): 0.59, Mean D(G(z)): 0.55\n",
      "Epoch [11/20], Step[4200/8726], d_loss: 0.0118, g_loss: -0.2933, Mean D(x): 0.67, Mean D(G(z)): 0.68\n",
      "Epoch [11/20], Step[4500/8726], d_loss: -0.1347, g_loss: 0.0145, Mean D(x): 0.36, Mean D(G(z)): 0.23\n",
      "Epoch [11/20], Step[4800/8726], d_loss: -0.0684, g_loss: -0.7389, Mean D(x): 0.04, Mean D(G(z)): -0.03\n",
      "Epoch [11/20], Step[5100/8726], d_loss: -0.0259, g_loss: -0.7018, Mean D(x): -0.01, Mean D(G(z)): -0.04\n",
      "Epoch [11/20], Step[5400/8726], d_loss: -0.0401, g_loss: -0.4826, Mean D(x): 0.60, Mean D(G(z)): 0.56\n",
      "Epoch [11/20], Step[5700/8726], d_loss: -0.1364, g_loss: 0.5276, Mean D(x): 0.31, Mean D(G(z)): 0.17\n",
      "Epoch [11/20], Step[6000/8726], d_loss: -0.2523, g_loss: 0.4124, Mean D(x): -0.49, Mean D(G(z)): -0.74\n",
      "Epoch [11/20], Step[6300/8726], d_loss: -0.0792, g_loss: 0.8353, Mean D(x): -0.86, Mean D(G(z)): -0.94\n",
      "Epoch [11/20], Step[6600/8726], d_loss: -0.0424, g_loss: 0.6199, Mean D(x): -0.58, Mean D(G(z)): -0.62\n",
      "Epoch [11/20], Step[6900/8726], d_loss: -0.1265, g_loss: -0.9656, Mean D(x): 0.34, Mean D(G(z)): 0.21\n",
      "Epoch [11/20], Step[7200/8726], d_loss: -0.0811, g_loss: -0.1964, Mean D(x): 0.10, Mean D(G(z)): 0.02\n",
      "Epoch [11/20], Step[7500/8726], d_loss: -0.0497, g_loss: -0.6768, Mean D(x): 0.09, Mean D(G(z)): 0.04\n",
      "Epoch [11/20], Step[7800/8726], d_loss: -0.2131, g_loss: -0.8778, Mean D(x): 0.52, Mean D(G(z)): 0.30\n",
      "Epoch [11/20], Step[8100/8726], d_loss: -0.2275, g_loss: 0.4478, Mean D(x): -0.50, Mean D(G(z)): -0.73\n",
      "Epoch [11/20], Step[8400/8726], d_loss: -0.1159, g_loss: 1.2613, Mean D(x): -0.98, Mean D(G(z)): -1.10\n",
      "Epoch [11/20], Step[8700/8726], d_loss: -0.1331, g_loss: -0.8809, Mean D(x): 0.71, Mean D(G(z)): 0.58\n",
      "Epoch [12/20], Step[300/8726], d_loss: -0.0548, g_loss: -0.0820, Mean D(x): 0.30, Mean D(G(z)): 0.25\n",
      "Epoch [12/20], Step[600/8726], d_loss: -0.0322, g_loss: -0.6866, Mean D(x): 0.82, Mean D(G(z)): 0.78\n",
      "Epoch [12/20], Step[900/8726], d_loss: -0.0661, g_loss: 0.1113, Mean D(x): -0.13, Mean D(G(z)): -0.20\n",
      "Epoch [12/20], Step[1200/8726], d_loss: -0.0814, g_loss: -0.7147, Mean D(x): -0.42, Mean D(G(z)): -0.50\n",
      "Epoch [12/20], Step[1500/8726], d_loss: -0.0820, g_loss: -0.5755, Mean D(x): -0.12, Mean D(G(z)): -0.20\n",
      "Epoch [12/20], Step[1800/8726], d_loss: -0.0464, g_loss: -0.3343, Mean D(x): 0.27, Mean D(G(z)): 0.23\n",
      "Epoch [12/20], Step[2100/8726], d_loss: -0.2246, g_loss: 1.6750, Mean D(x): -0.89, Mean D(G(z)): -1.11\n",
      "Epoch [12/20], Step[2400/8726], d_loss: -0.0819, g_loss: -0.5130, Mean D(x): 0.62, Mean D(G(z)): 0.54\n",
      "Epoch [12/20], Step[2700/8726], d_loss: -0.0527, g_loss: 0.6479, Mean D(x): 0.00, Mean D(G(z)): -0.05\n",
      "Epoch [12/20], Step[3000/8726], d_loss: -0.1433, g_loss: 0.3836, Mean D(x): -0.18, Mean D(G(z)): -0.33\n",
      "Epoch [12/20], Step[3300/8726], d_loss: -0.0880, g_loss: 1.1636, Mean D(x): -1.02, Mean D(G(z)): -1.11\n",
      "Epoch [12/20], Step[3600/8726], d_loss: -0.0305, g_loss: 0.7481, Mean D(x): -0.02, Mean D(G(z)): -0.05\n",
      "Epoch [12/20], Step[3900/8726], d_loss: -0.0888, g_loss: -1.0739, Mean D(x): 1.13, Mean D(G(z)): 1.04\n",
      "Epoch [12/20], Step[4200/8726], d_loss: -0.2929, g_loss: 0.2072, Mean D(x): 0.42, Mean D(G(z)): 0.13\n",
      "Epoch [12/20], Step[4500/8726], d_loss: -0.0629, g_loss: 0.8149, Mean D(x): -0.72, Mean D(G(z)): -0.78\n",
      "Epoch [12/20], Step[4800/8726], d_loss: 0.0676, g_loss: 1.0175, Mean D(x): -1.14, Mean D(G(z)): -1.07\n",
      "Epoch [12/20], Step[5100/8726], d_loss: -0.2680, g_loss: -0.1177, Mean D(x): 0.65, Mean D(G(z)): 0.38\n",
      "Epoch [12/20], Step[5400/8726], d_loss: -0.2079, g_loss: -0.9582, Mean D(x): 0.80, Mean D(G(z)): 0.60\n",
      "Epoch [12/20], Step[5700/8726], d_loss: -0.0181, g_loss: 0.4691, Mean D(x): -0.46, Mean D(G(z)): -0.48\n",
      "Epoch [12/20], Step[6000/8726], d_loss: 0.0175, g_loss: 0.2635, Mean D(x): -0.26, Mean D(G(z)): -0.24\n",
      "Epoch [12/20], Step[6300/8726], d_loss: -0.0220, g_loss: 0.7088, Mean D(x): -0.76, Mean D(G(z)): -0.78\n",
      "Epoch [12/20], Step[6600/8726], d_loss: -0.0161, g_loss: -0.3072, Mean D(x): 0.43, Mean D(G(z)): 0.42\n",
      "Epoch [12/20], Step[6900/8726], d_loss: -0.1251, g_loss: 1.2980, Mean D(x): -0.87, Mean D(G(z)): -1.00\n",
      "Epoch [12/20], Step[7200/8726], d_loss: -0.0840, g_loss: -0.1437, Mean D(x): 0.02, Mean D(G(z)): -0.06\n",
      "Epoch [12/20], Step[7500/8726], d_loss: -0.1990, g_loss: 3.0453, Mean D(x): -2.63, Mean D(G(z)): -2.83\n",
      "Epoch [12/20], Step[7800/8726], d_loss: -0.0450, g_loss: 2.4197, Mean D(x): -2.54, Mean D(G(z)): -2.59\n",
      "Epoch [12/20], Step[8100/8726], d_loss: -0.0083, g_loss: -0.0153, Mean D(x): -0.08, Mean D(G(z)): -0.09\n",
      "Epoch [12/20], Step[8400/8726], d_loss: -0.0266, g_loss: -0.6891, Mean D(x): 0.47, Mean D(G(z)): 0.45\n",
      "Epoch [12/20], Step[8700/8726], d_loss: 0.0341, g_loss: -1.9674, Mean D(x): 2.03, Mean D(G(z)): 2.06\n",
      "Epoch [13/20], Step[300/8726], d_loss: -0.2397, g_loss: 1.3115, Mean D(x): -0.61, Mean D(G(z)): -0.85\n",
      "Epoch [13/20], Step[600/8726], d_loss: -0.0278, g_loss: 0.1310, Mean D(x): -0.09, Mean D(G(z)): -0.12\n",
      "Epoch [13/20], Step[900/8726], d_loss: -0.0091, g_loss: -0.0981, Mean D(x): -0.02, Mean D(G(z)): -0.03\n",
      "Epoch [13/20], Step[1200/8726], d_loss: 0.1270, g_loss: 0.4657, Mean D(x): -0.34, Mean D(G(z)): -0.21\n",
      "Epoch [13/20], Step[1500/8726], d_loss: -0.2842, g_loss: 1.8435, Mean D(x): -0.92, Mean D(G(z)): -1.20\n",
      "Epoch [13/20], Step[1800/8726], d_loss: -0.2651, g_loss: 1.8420, Mean D(x): -0.19, Mean D(G(z)): -0.45\n",
      "Epoch [13/20], Step[2100/8726], d_loss: -0.0892, g_loss: -1.9623, Mean D(x): 1.84, Mean D(G(z)): 1.75\n",
      "Epoch [13/20], Step[2400/8726], d_loss: -0.0476, g_loss: 0.1669, Mean D(x): -0.13, Mean D(G(z)): -0.18\n",
      "Epoch [13/20], Step[2700/8726], d_loss: -0.0448, g_loss: 0.6230, Mean D(x): -0.43, Mean D(G(z)): -0.48\n",
      "Epoch [13/20], Step[3000/8726], d_loss: -0.2867, g_loss: -3.2821, Mean D(x): 2.09, Mean D(G(z)): 1.80\n",
      "Epoch [13/20], Step[3300/8726], d_loss: -0.0516, g_loss: 0.7488, Mean D(x): 0.29, Mean D(G(z)): 0.24\n",
      "Epoch [13/20], Step[3600/8726], d_loss: -0.2211, g_loss: -1.8011, Mean D(x): 1.47, Mean D(G(z)): 1.25\n",
      "Epoch [13/20], Step[3900/8726], d_loss: -0.0802, g_loss: -0.9939, Mean D(x): 1.29, Mean D(G(z)): 1.21\n",
      "Epoch [13/20], Step[4200/8726], d_loss: -0.0960, g_loss: -2.4379, Mean D(x): 2.71, Mean D(G(z)): 2.62\n",
      "Epoch [13/20], Step[4500/8726], d_loss: -0.2179, g_loss: 0.1876, Mean D(x): -0.08, Mean D(G(z)): -0.30\n",
      "Epoch [13/20], Step[4800/8726], d_loss: -0.1088, g_loss: 0.3508, Mean D(x): -0.69, Mean D(G(z)): -0.80\n",
      "Epoch [13/20], Step[5100/8726], d_loss: -0.1538, g_loss: 0.5263, Mean D(x): -0.05, Mean D(G(z)): -0.21\n",
      "Epoch [13/20], Step[5400/8726], d_loss: 0.0184, g_loss: 0.1901, Mean D(x): -1.33, Mean D(G(z)): -1.31\n",
      "Epoch [13/20], Step[5700/8726], d_loss: -0.1188, g_loss: 1.9691, Mean D(x): -1.52, Mean D(G(z)): -1.64\n",
      "Epoch [13/20], Step[6000/8726], d_loss: 0.0328, g_loss: -1.5592, Mean D(x): 1.81, Mean D(G(z)): 1.85\n",
      "Epoch [13/20], Step[6300/8726], d_loss: -0.1480, g_loss: -0.1472, Mean D(x): 0.31, Mean D(G(z)): 0.16\n",
      "Epoch [13/20], Step[6600/8726], d_loss: -0.1203, g_loss: -1.1229, Mean D(x): 1.49, Mean D(G(z)): 1.37\n",
      "Epoch [13/20], Step[6900/8726], d_loss: 0.1258, g_loss: -0.2348, Mean D(x): 1.14, Mean D(G(z)): 1.27\n",
      "Epoch [13/20], Step[7200/8726], d_loss: 0.2141, g_loss: 0.3175, Mean D(x): -1.42, Mean D(G(z)): -1.20\n",
      "Epoch [13/20], Step[7500/8726], d_loss: -0.0649, g_loss: 1.2850, Mean D(x): -1.21, Mean D(G(z)): -1.28\n",
      "Epoch [13/20], Step[7800/8726], d_loss: 0.0032, g_loss: 0.1286, Mean D(x): -0.45, Mean D(G(z)): -0.44\n",
      "Epoch [13/20], Step[8100/8726], d_loss: 0.0374, g_loss: 0.4720, Mean D(x): 0.14, Mean D(G(z)): 0.18\n",
      "Epoch [13/20], Step[8400/8726], d_loss: -0.2831, g_loss: -0.4265, Mean D(x): 0.59, Mean D(G(z)): 0.31\n",
      "Epoch [13/20], Step[8700/8726], d_loss: -0.2545, g_loss: -2.1989, Mean D(x): 1.98, Mean D(G(z)): 1.72\n",
      "Epoch [14/20], Step[300/8726], d_loss: -0.0898, g_loss: 0.1414, Mean D(x): -0.44, Mean D(G(z)): -0.53\n",
      "Epoch [14/20], Step[600/8726], d_loss: 0.1260, g_loss: -0.0859, Mean D(x): 0.49, Mean D(G(z)): 0.61\n",
      "Epoch [14/20], Step[900/8726], d_loss: -0.1347, g_loss: 2.3877, Mean D(x): -1.98, Mean D(G(z)): -2.12\n",
      "Epoch [14/20], Step[1200/8726], d_loss: 0.0709, g_loss: -0.2024, Mean D(x): -0.51, Mean D(G(z)): -0.44\n",
      "Epoch [14/20], Step[1500/8726], d_loss: -0.0500, g_loss: 0.1387, Mean D(x): -0.55, Mean D(G(z)): -0.60\n",
      "Epoch [14/20], Step[1800/8726], d_loss: -0.3234, g_loss: -2.9131, Mean D(x): 2.61, Mean D(G(z)): 2.28\n",
      "Epoch [14/20], Step[2100/8726], d_loss: -0.0265, g_loss: 0.8740, Mean D(x): -0.58, Mean D(G(z)): -0.61\n",
      "Epoch [14/20], Step[2400/8726], d_loss: -0.1000, g_loss: -2.3330, Mean D(x): 1.98, Mean D(G(z)): 1.88\n",
      "Epoch [14/20], Step[2700/8726], d_loss: -0.0520, g_loss: 0.3830, Mean D(x): -0.31, Mean D(G(z)): -0.36\n",
      "Epoch [14/20], Step[3000/8726], d_loss: -0.0565, g_loss: 0.0325, Mean D(x): 0.03, Mean D(G(z)): -0.02\n",
      "Epoch [14/20], Step[3300/8726], d_loss: 0.0545, g_loss: 0.1756, Mean D(x): -0.39, Mean D(G(z)): -0.34\n",
      "Epoch [14/20], Step[3600/8726], d_loss: 0.1081, g_loss: -1.0497, Mean D(x): 1.70, Mean D(G(z)): 1.81\n",
      "Epoch [14/20], Step[3900/8726], d_loss: 0.0154, g_loss: -0.2109, Mean D(x): 0.36, Mean D(G(z)): 0.38\n",
      "Epoch [14/20], Step[4200/8726], d_loss: 0.0106, g_loss: 0.4387, Mean D(x): -0.46, Mean D(G(z)): -0.45\n",
      "Epoch [14/20], Step[4500/8726], d_loss: -0.2908, g_loss: 3.4148, Mean D(x): -1.43, Mean D(G(z)): -1.72\n",
      "Epoch [14/20], Step[4800/8726], d_loss: -0.0636, g_loss: 0.2322, Mean D(x): 0.09, Mean D(G(z)): 0.03\n",
      "Epoch [14/20], Step[5100/8726], d_loss: -0.0267, g_loss: 1.8733, Mean D(x): -1.69, Mean D(G(z)): -1.71\n",
      "Epoch [14/20], Step[5400/8726], d_loss: 0.3530, g_loss: -1.0315, Mean D(x): 1.98, Mean D(G(z)): 2.33\n",
      "Epoch [14/20], Step[5700/8726], d_loss: -0.0376, g_loss: 0.3065, Mean D(x): -0.09, Mean D(G(z)): -0.13\n",
      "Epoch [14/20], Step[6000/8726], d_loss: 0.0368, g_loss: -0.1187, Mean D(x): -0.01, Mean D(G(z)): 0.03\n",
      "Epoch [14/20], Step[6300/8726], d_loss: -0.2672, g_loss: -2.1026, Mean D(x): 0.85, Mean D(G(z)): 0.58\n",
      "Epoch [14/20], Step[6600/8726], d_loss: 0.0111, g_loss: -0.2846, Mean D(x): 0.30, Mean D(G(z)): 0.31\n",
      "Epoch [14/20], Step[6900/8726], d_loss: -0.0861, g_loss: -0.0175, Mean D(x): 0.38, Mean D(G(z)): 0.29\n",
      "Epoch [14/20], Step[7200/8726], d_loss: -0.0878, g_loss: -1.2100, Mean D(x): 0.52, Mean D(G(z)): 0.44\n",
      "Epoch [14/20], Step[7500/8726], d_loss: -0.0135, g_loss: 0.1904, Mean D(x): -0.12, Mean D(G(z)): -0.13\n",
      "Epoch [14/20], Step[7800/8726], d_loss: -0.0085, g_loss: -0.1976, Mean D(x): 0.30, Mean D(G(z)): 0.29\n",
      "Epoch [14/20], Step[8100/8726], d_loss: -0.0221, g_loss: -0.0085, Mean D(x): -0.10, Mean D(G(z)): -0.12\n",
      "Epoch [14/20], Step[8400/8726], d_loss: 0.0227, g_loss: 1.3948, Mean D(x): -1.56, Mean D(G(z)): -1.54\n",
      "Epoch [14/20], Step[8700/8726], d_loss: -0.0641, g_loss: -0.3641, Mean D(x): 0.27, Mean D(G(z)): 0.21\n",
      "Epoch [15/20], Step[300/8726], d_loss: -0.1419, g_loss: -0.7685, Mean D(x): 0.69, Mean D(G(z)): 0.55\n",
      "Epoch [15/20], Step[600/8726], d_loss: -0.2858, g_loss: -1.2426, Mean D(x): 0.30, Mean D(G(z)): 0.02\n",
      "Epoch [15/20], Step[900/8726], d_loss: -0.2083, g_loss: -2.7978, Mean D(x): 1.20, Mean D(G(z)): 0.99\n",
      "Epoch [15/20], Step[1200/8726], d_loss: -0.2561, g_loss: -2.7848, Mean D(x): 2.34, Mean D(G(z)): 2.09\n",
      "Epoch [15/20], Step[1500/8726], d_loss: -0.2138, g_loss: -1.4832, Mean D(x): 0.80, Mean D(G(z)): 0.59\n",
      "Epoch [15/20], Step[1800/8726], d_loss: -0.2807, g_loss: 0.5912, Mean D(x): 0.41, Mean D(G(z)): 0.13\n",
      "Epoch [15/20], Step[2100/8726], d_loss: -0.2073, g_loss: 0.5988, Mean D(x): -0.65, Mean D(G(z)): -0.86\n",
      "Epoch [15/20], Step[2400/8726], d_loss: -0.1002, g_loss: 0.7353, Mean D(x): -0.44, Mean D(G(z)): -0.54\n",
      "Epoch [15/20], Step[2700/8726], d_loss: -0.1142, g_loss: -0.3064, Mean D(x): -0.02, Mean D(G(z)): -0.13\n",
      "Epoch [15/20], Step[3000/8726], d_loss: -0.0048, g_loss: -0.2009, Mean D(x): 1.13, Mean D(G(z)): 1.13\n",
      "Epoch [15/20], Step[3300/8726], d_loss: -0.2690, g_loss: -1.4949, Mean D(x): 0.55, Mean D(G(z)): 0.28\n",
      "Epoch [15/20], Step[3600/8726], d_loss: -0.1332, g_loss: 1.1775, Mean D(x): -0.27, Mean D(G(z)): -0.40\n",
      "Epoch [15/20], Step[3900/8726], d_loss: -0.5306, g_loss: 4.1615, Mean D(x): -2.21, Mean D(G(z)): -2.74\n",
      "Epoch [15/20], Step[4200/8726], d_loss: -0.0068, g_loss: -0.0143, Mean D(x): -0.54, Mean D(G(z)): -0.54\n",
      "Epoch [15/20], Step[4500/8726], d_loss: -0.1709, g_loss: -3.3670, Mean D(x): 2.98, Mean D(G(z)): 2.81\n",
      "Epoch [15/20], Step[4800/8726], d_loss: -0.1257, g_loss: 1.2177, Mean D(x): -1.29, Mean D(G(z)): -1.42\n",
      "Epoch [15/20], Step[5100/8726], d_loss: -0.0156, g_loss: -0.1076, Mean D(x): 0.07, Mean D(G(z)): 0.05\n",
      "Epoch [15/20], Step[5400/8726], d_loss: -0.0816, g_loss: -0.1490, Mean D(x): 0.28, Mean D(G(z)): 0.20\n",
      "Epoch [15/20], Step[5700/8726], d_loss: -0.1307, g_loss: 2.8718, Mean D(x): -2.49, Mean D(G(z)): -2.62\n",
      "Epoch [15/20], Step[6000/8726], d_loss: -0.0760, g_loss: -0.6221, Mean D(x): 0.37, Mean D(G(z)): 0.29\n",
      "Epoch [15/20], Step[6300/8726], d_loss: -0.2660, g_loss: -2.7333, Mean D(x): 1.07, Mean D(G(z)): 0.80\n",
      "Epoch [15/20], Step[6600/8726], d_loss: -0.0005, g_loss: -0.0989, Mean D(x): 0.15, Mean D(G(z)): 0.15\n",
      "Epoch [15/20], Step[6900/8726], d_loss: 0.1564, g_loss: -1.1522, Mean D(x): 2.10, Mean D(G(z)): 2.26\n",
      "Epoch [15/20], Step[7200/8726], d_loss: -0.3513, g_loss: -3.2235, Mean D(x): 2.46, Mean D(G(z)): 2.11\n",
      "Epoch [15/20], Step[7500/8726], d_loss: -0.0128, g_loss: -0.1442, Mean D(x): 0.02, Mean D(G(z)): 0.00\n",
      "Epoch [15/20], Step[7800/8726], d_loss: -0.0091, g_loss: -0.7669, Mean D(x): 0.84, Mean D(G(z)): 0.83\n",
      "Epoch [15/20], Step[8100/8726], d_loss: -0.0685, g_loss: -0.5949, Mean D(x): 0.59, Mean D(G(z)): 0.52\n",
      "Epoch [15/20], Step[8400/8726], d_loss: -0.3112, g_loss: -2.8011, Mean D(x): 1.14, Mean D(G(z)): 0.83\n",
      "Epoch [15/20], Step[8700/8726], d_loss: -0.1487, g_loss: 0.2936, Mean D(x): -0.25, Mean D(G(z)): -0.39\n",
      "Epoch [16/20], Step[300/8726], d_loss: 0.0145, g_loss: -0.1336, Mean D(x): 0.21, Mean D(G(z)): 0.23\n",
      "Epoch [16/20], Step[600/8726], d_loss: -0.0026, g_loss: -0.0583, Mean D(x): 0.07, Mean D(G(z)): 0.07\n",
      "Epoch [16/20], Step[900/8726], d_loss: -0.2111, g_loss: 1.4028, Mean D(x): -0.42, Mean D(G(z)): -0.63\n",
      "Epoch [16/20], Step[1200/8726], d_loss: 0.1539, g_loss: -0.2867, Mean D(x): 0.68, Mean D(G(z)): 0.84\n",
      "Epoch [16/20], Step[1500/8726], d_loss: -0.0220, g_loss: 0.0136, Mean D(x): 0.09, Mean D(G(z)): 0.07\n",
      "Epoch [16/20], Step[1800/8726], d_loss: -0.0716, g_loss: -0.8573, Mean D(x): 0.52, Mean D(G(z)): 0.45\n",
      "Epoch [16/20], Step[2100/8726], d_loss: -0.1893, g_loss: 0.9530, Mean D(x): -0.52, Mean D(G(z)): -0.71\n",
      "Epoch [16/20], Step[2400/8726], d_loss: -0.2415, g_loss: -2.1519, Mean D(x): 1.28, Mean D(G(z)): 1.04\n",
      "Epoch [16/20], Step[2700/8726], d_loss: -0.0528, g_loss: -0.3017, Mean D(x): 0.44, Mean D(G(z)): 0.39\n",
      "Epoch [16/20], Step[3000/8726], d_loss: -0.0007, g_loss: -1.0431, Mean D(x): 1.50, Mean D(G(z)): 1.50\n",
      "Epoch [16/20], Step[3300/8726], d_loss: -0.0613, g_loss: -0.0625, Mean D(x): -0.25, Mean D(G(z)): -0.31\n",
      "Epoch [16/20], Step[3600/8726], d_loss: -0.0309, g_loss: 0.6777, Mean D(x): -1.04, Mean D(G(z)): -1.07\n",
      "Epoch [16/20], Step[3900/8726], d_loss: -0.1945, g_loss: 0.2458, Mean D(x): -0.28, Mean D(G(z)): -0.47\n",
      "Epoch [16/20], Step[4200/8726], d_loss: -0.0843, g_loss: 1.6366, Mean D(x): -1.40, Mean D(G(z)): -1.48\n",
      "Epoch [16/20], Step[4500/8726], d_loss: -0.0697, g_loss: 0.5260, Mean D(x): 0.21, Mean D(G(z)): 0.14\n",
      "Epoch [16/20], Step[4800/8726], d_loss: -0.1281, g_loss: 2.0849, Mean D(x): -1.85, Mean D(G(z)): -1.98\n",
      "Epoch [16/20], Step[5100/8726], d_loss: -0.0363, g_loss: -0.8663, Mean D(x): 0.78, Mean D(G(z)): 0.74\n",
      "Epoch [16/20], Step[5400/8726], d_loss: -0.0165, g_loss: 0.1601, Mean D(x): -0.26, Mean D(G(z)): -0.28\n",
      "Epoch [16/20], Step[5700/8726], d_loss: -0.1181, g_loss: -0.6554, Mean D(x): 0.50, Mean D(G(z)): 0.38\n",
      "Epoch [16/20], Step[6000/8726], d_loss: -0.0650, g_loss: -0.4440, Mean D(x): 0.19, Mean D(G(z)): 0.13\n",
      "Epoch [16/20], Step[6300/8726], d_loss: 0.0177, g_loss: 0.2069, Mean D(x): -0.05, Mean D(G(z)): -0.04\n",
      "Epoch [16/20], Step[6600/8726], d_loss: -0.0895, g_loss: -0.0773, Mean D(x): 0.36, Mean D(G(z)): 0.27\n",
      "Epoch [16/20], Step[6900/8726], d_loss: -0.0742, g_loss: 0.1098, Mean D(x): 0.20, Mean D(G(z)): 0.12\n",
      "Epoch [16/20], Step[7200/8726], d_loss: 0.1300, g_loss: -0.9909, Mean D(x): 1.42, Mean D(G(z)): 1.55\n",
      "Epoch [16/20], Step[7500/8726], d_loss: 0.0850, g_loss: -0.6358, Mean D(x): 0.75, Mean D(G(z)): 0.84\n",
      "Epoch [16/20], Step[7800/8726], d_loss: 0.0057, g_loss: 0.2184, Mean D(x): -0.24, Mean D(G(z)): -0.23\n",
      "Epoch [16/20], Step[8100/8726], d_loss: 0.2135, g_loss: 0.5381, Mean D(x): -1.11, Mean D(G(z)): -0.90\n",
      "Epoch [16/20], Step[8400/8726], d_loss: -0.0922, g_loss: -0.6794, Mean D(x): 0.25, Mean D(G(z)): 0.16\n",
      "Epoch [16/20], Step[8700/8726], d_loss: -0.3377, g_loss: -2.9159, Mean D(x): 1.71, Mean D(G(z)): 1.37\n",
      "Epoch [17/20], Step[300/8726], d_loss: -0.0057, g_loss: 0.0098, Mean D(x): -0.01, Mean D(G(z)): -0.01\n",
      "Epoch [17/20], Step[600/8726], d_loss: -0.1614, g_loss: -1.3122, Mean D(x): 0.85, Mean D(G(z)): 0.69\n",
      "Epoch [17/20], Step[900/8726], d_loss: -0.0106, g_loss: 0.4013, Mean D(x): -0.17, Mean D(G(z)): -0.18\n",
      "Epoch [17/20], Step[1200/8726], d_loss: -0.0927, g_loss: -1.1430, Mean D(x): 0.72, Mean D(G(z)): 0.63\n",
      "Epoch [17/20], Step[1500/8726], d_loss: -0.0888, g_loss: -0.2984, Mean D(x): 0.29, Mean D(G(z)): 0.20\n",
      "Epoch [17/20], Step[1800/8726], d_loss: -0.0137, g_loss: 0.6568, Mean D(x): -0.63, Mean D(G(z)): -0.64\n",
      "Epoch [17/20], Step[2100/8726], d_loss: 0.0016, g_loss: 4.1910, Mean D(x): -3.81, Mean D(G(z)): -3.81\n",
      "Epoch [17/20], Step[2400/8726], d_loss: 0.0075, g_loss: -0.0550, Mean D(x): 0.03, Mean D(G(z)): 0.04\n",
      "Epoch [17/20], Step[2700/8726], d_loss: -0.0108, g_loss: -0.0472, Mean D(x): 0.04, Mean D(G(z)): 0.03\n",
      "Epoch [17/20], Step[3000/8726], d_loss: 0.0947, g_loss: 0.1360, Mean D(x): -0.54, Mean D(G(z)): -0.45\n",
      "Epoch [17/20], Step[3300/8726], d_loss: 0.0120, g_loss: 0.4010, Mean D(x): -0.38, Mean D(G(z)): -0.37\n",
      "Epoch [17/20], Step[3600/8726], d_loss: 0.1482, g_loss: 0.2819, Mean D(x): -0.96, Mean D(G(z)): -0.81\n",
      "Epoch [17/20], Step[3900/8726], d_loss: -0.0622, g_loss: -1.3131, Mean D(x): 1.36, Mean D(G(z)): 1.30\n",
      "Epoch [17/20], Step[4200/8726], d_loss: -0.0749, g_loss: 0.9002, Mean D(x): -0.90, Mean D(G(z)): -0.98\n",
      "Epoch [17/20], Step[4500/8726], d_loss: -0.3020, g_loss: -2.0801, Mean D(x): 1.26, Mean D(G(z)): 0.96\n",
      "Epoch [17/20], Step[4800/8726], d_loss: -0.1609, g_loss: 0.2405, Mean D(x): -0.35, Mean D(G(z)): -0.51\n",
      "Epoch [17/20], Step[5100/8726], d_loss: -0.0192, g_loss: -0.0072, Mean D(x): 0.09, Mean D(G(z)): 0.07\n",
      "Epoch [17/20], Step[5400/8726], d_loss: 0.0360, g_loss: -0.5217, Mean D(x): 0.75, Mean D(G(z)): 0.79\n",
      "Epoch [17/20], Step[5700/8726], d_loss: -0.0219, g_loss: 0.0572, Mean D(x): -0.05, Mean D(G(z)): -0.07\n",
      "Epoch [17/20], Step[6000/8726], d_loss: 0.0352, g_loss: -0.4193, Mean D(x): 0.43, Mean D(G(z)): 0.47\n",
      "Epoch [17/20], Step[6300/8726], d_loss: -0.1586, g_loss: -1.1193, Mean D(x): 0.65, Mean D(G(z)): 0.49\n",
      "Epoch [17/20], Step[6600/8726], d_loss: 0.0136, g_loss: 1.0054, Mean D(x): -1.04, Mean D(G(z)): -1.03\n",
      "Epoch [17/20], Step[6900/8726], d_loss: -0.0152, g_loss: 0.2821, Mean D(x): -0.36, Mean D(G(z)): -0.38\n",
      "Epoch [17/20], Step[7200/8726], d_loss: -0.0191, g_loss: -0.1610, Mean D(x): 0.02, Mean D(G(z)): -0.00\n",
      "Epoch [17/20], Step[7500/8726], d_loss: -0.1520, g_loss: 0.1800, Mean D(x): 0.16, Mean D(G(z)): 0.01\n",
      "Epoch [17/20], Step[7800/8726], d_loss: -0.0460, g_loss: -0.1228, Mean D(x): 0.34, Mean D(G(z)): 0.29\n",
      "Epoch [17/20], Step[8100/8726], d_loss: 0.0500, g_loss: -1.7426, Mean D(x): 1.97, Mean D(G(z)): 2.02\n",
      "Epoch [17/20], Step[8400/8726], d_loss: -0.0916, g_loss: -2.2449, Mean D(x): 2.05, Mean D(G(z)): 1.96\n",
      "Epoch [17/20], Step[8700/8726], d_loss: -0.0683, g_loss: -0.5487, Mean D(x): 0.68, Mean D(G(z)): 0.61\n",
      "Epoch [18/20], Step[300/8726], d_loss: -0.2099, g_loss: 1.0964, Mean D(x): -0.47, Mean D(G(z)): -0.68\n",
      "Epoch [18/20], Step[600/8726], d_loss: -0.1320, g_loss: 1.4370, Mean D(x): -1.12, Mean D(G(z)): -1.25\n",
      "Epoch [18/20], Step[900/8726], d_loss: -0.0156, g_loss: -0.4446, Mean D(x): 0.17, Mean D(G(z)): 0.16\n",
      "Epoch [18/20], Step[1200/8726], d_loss: 0.0520, g_loss: 0.0034, Mean D(x): 0.17, Mean D(G(z)): 0.23\n",
      "Epoch [18/20], Step[1500/8726], d_loss: -0.0954, g_loss: -0.5912, Mean D(x): 0.47, Mean D(G(z)): 0.38\n",
      "Epoch [18/20], Step[1800/8726], d_loss: 0.0248, g_loss: 0.3840, Mean D(x): -0.65, Mean D(G(z)): -0.62\n",
      "Epoch [18/20], Step[2100/8726], d_loss: -0.1061, g_loss: -0.2925, Mean D(x): 0.38, Mean D(G(z)): 0.28\n",
      "Epoch [18/20], Step[2400/8726], d_loss: 0.0062, g_loss: 0.0681, Mean D(x): 0.07, Mean D(G(z)): 0.07\n",
      "Epoch [18/20], Step[2700/8726], d_loss: 0.0030, g_loss: -0.3626, Mean D(x): 0.32, Mean D(G(z)): 0.32\n",
      "Epoch [18/20], Step[3000/8726], d_loss: 0.0348, g_loss: -0.3735, Mean D(x): 1.18, Mean D(G(z)): 1.21\n",
      "Epoch [18/20], Step[3300/8726], d_loss: -0.0024, g_loss: 0.1632, Mean D(x): -0.15, Mean D(G(z)): -0.16\n",
      "Epoch [18/20], Step[3600/8726], d_loss: -0.2005, g_loss: -0.7692, Mean D(x): 0.33, Mean D(G(z)): 0.12\n",
      "Epoch [18/20], Step[3900/8726], d_loss: -0.0847, g_loss: 1.0383, Mean D(x): -0.82, Mean D(G(z)): -0.90\n",
      "Epoch [18/20], Step[4200/8726], d_loss: -0.1319, g_loss: -0.8965, Mean D(x): 0.75, Mean D(G(z)): 0.62\n",
      "Epoch [18/20], Step[4500/8726], d_loss: -0.0171, g_loss: 0.2439, Mean D(x): -0.21, Mean D(G(z)): -0.23\n",
      "Epoch [18/20], Step[4800/8726], d_loss: 0.0575, g_loss: -0.5560, Mean D(x): 0.57, Mean D(G(z)): 0.63\n",
      "Epoch [18/20], Step[5100/8726], d_loss: -0.0124, g_loss: -0.2296, Mean D(x): 0.20, Mean D(G(z)): 0.19\n",
      "Epoch [18/20], Step[5400/8726], d_loss: 0.1340, g_loss: 1.7927, Mean D(x): -2.16, Mean D(G(z)): -2.03\n",
      "Epoch [18/20], Step[5700/8726], d_loss: -0.0049, g_loss: -0.9587, Mean D(x): 1.19, Mean D(G(z)): 1.19\n",
      "Epoch [18/20], Step[6000/8726], d_loss: -0.0101, g_loss: 0.0000, Mean D(x): 0.07, Mean D(G(z)): 0.06\n",
      "Epoch [18/20], Step[6300/8726], d_loss: -0.0021, g_loss: -0.5123, Mean D(x): 0.51, Mean D(G(z)): 0.51\n",
      "Epoch [18/20], Step[6600/8726], d_loss: -0.1416, g_loss: -1.3518, Mean D(x): 1.07, Mean D(G(z)): 0.93\n",
      "Epoch [18/20], Step[6900/8726], d_loss: 0.0642, g_loss: -0.3057, Mean D(x): 0.54, Mean D(G(z)): 0.60\n",
      "Epoch [18/20], Step[7200/8726], d_loss: 0.0686, g_loss: 0.0401, Mean D(x): -0.28, Mean D(G(z)): -0.21\n",
      "Epoch [18/20], Step[7500/8726], d_loss: -0.1597, g_loss: -1.6469, Mean D(x): 0.60, Mean D(G(z)): 0.44\n",
      "Epoch [18/20], Step[7800/8726], d_loss: -0.2625, g_loss: 0.7738, Mean D(x): -0.43, Mean D(G(z)): -0.69\n",
      "Epoch [18/20], Step[8100/8726], d_loss: -0.4512, g_loss: -3.3277, Mean D(x): 1.97, Mean D(G(z)): 1.52\n",
      "Epoch [18/20], Step[8400/8726], d_loss: 0.0056, g_loss: -1.0888, Mean D(x): 1.22, Mean D(G(z)): 1.23\n",
      "Epoch [18/20], Step[8700/8726], d_loss: -0.1621, g_loss: -0.9656, Mean D(x): 0.47, Mean D(G(z)): 0.30\n",
      "Epoch [19/20], Step[300/8726], d_loss: -0.0197, g_loss: -0.1982, Mean D(x): 0.05, Mean D(G(z)): 0.04\n",
      "Epoch [19/20], Step[600/8726], d_loss: -0.0351, g_loss: 0.2515, Mean D(x): -0.16, Mean D(G(z)): -0.20\n",
      "Epoch [19/20], Step[900/8726], d_loss: 0.0306, g_loss: 0.0607, Mean D(x): -0.15, Mean D(G(z)): -0.12\n",
      "Epoch [19/20], Step[1200/8726], d_loss: -0.0032, g_loss: 0.1654, Mean D(x): -0.21, Mean D(G(z)): -0.21\n",
      "Epoch [19/20], Step[1500/8726], d_loss: -0.0024, g_loss: -0.5557, Mean D(x): 0.55, Mean D(G(z)): 0.54\n",
      "Epoch [19/20], Step[1800/8726], d_loss: -0.0508, g_loss: -0.2092, Mean D(x): 0.32, Mean D(G(z)): 0.27\n",
      "Epoch [19/20], Step[2100/8726], d_loss: -0.0054, g_loss: 0.3329, Mean D(x): -0.26, Mean D(G(z)): -0.27\n",
      "Epoch [19/20], Step[2400/8726], d_loss: 0.0142, g_loss: -0.3191, Mean D(x): 0.28, Mean D(G(z)): 0.29\n",
      "Epoch [19/20], Step[2700/8726], d_loss: 0.2542, g_loss: -0.0675, Mean D(x): -1.15, Mean D(G(z)): -0.90\n",
      "Epoch [19/20], Step[3000/8726], d_loss: -0.0090, g_loss: -0.4024, Mean D(x): 0.39, Mean D(G(z)): 0.38\n",
      "Epoch [19/20], Step[3300/8726], d_loss: -0.0064, g_loss: -0.0416, Mean D(x): 0.06, Mean D(G(z)): 0.05\n",
      "Epoch [19/20], Step[3600/8726], d_loss: -0.0916, g_loss: 2.5877, Mean D(x): -1.80, Mean D(G(z)): -1.89\n",
      "Epoch [19/20], Step[3900/8726], d_loss: -0.0478, g_loss: 0.0724, Mean D(x): 0.07, Mean D(G(z)): 0.02\n",
      "Epoch [19/20], Step[4200/8726], d_loss: -0.0693, g_loss: -0.0394, Mean D(x): -0.09, Mean D(G(z)): -0.16\n",
      "Epoch [19/20], Step[4500/8726], d_loss: -0.0716, g_loss: -0.4190, Mean D(x): 0.47, Mean D(G(z)): 0.40\n",
      "Epoch [19/20], Step[4800/8726], d_loss: 0.1933, g_loss: -1.3998, Mean D(x): 1.77, Mean D(G(z)): 1.96\n",
      "Epoch [19/20], Step[5100/8726], d_loss: -0.0164, g_loss: 0.1043, Mean D(x): -0.00, Mean D(G(z)): -0.02\n",
      "Epoch [19/20], Step[5400/8726], d_loss: -0.1323, g_loss: 0.0229, Mean D(x): 0.20, Mean D(G(z)): 0.06\n",
      "Epoch [19/20], Step[5700/8726], d_loss: -0.0251, g_loss: -0.0587, Mean D(x): 0.11, Mean D(G(z)): 0.08\n",
      "Epoch [19/20], Step[6000/8726], d_loss: -0.1375, g_loss: 0.0128, Mean D(x): 0.00, Mean D(G(z)): -0.13\n",
      "Epoch [19/20], Step[6300/8726], d_loss: -0.0456, g_loss: 0.1054, Mean D(x): -0.11, Mean D(G(z)): -0.16\n",
      "Epoch [19/20], Step[6600/8726], d_loss: -0.0342, g_loss: -0.3203, Mean D(x): 0.32, Mean D(G(z)): 0.29\n",
      "Epoch [19/20], Step[6900/8726], d_loss: -0.0903, g_loss: -0.7574, Mean D(x): 0.81, Mean D(G(z)): 0.72\n",
      "Epoch [19/20], Step[7200/8726], d_loss: -0.0149, g_loss: 0.0664, Mean D(x): -0.00, Mean D(G(z)): -0.02\n",
      "Epoch [19/20], Step[7500/8726], d_loss: -0.0707, g_loss: -0.5526, Mean D(x): 0.52, Mean D(G(z)): 0.45\n",
      "Epoch [19/20], Step[7800/8726], d_loss: -0.0441, g_loss: -0.1435, Mean D(x): 0.16, Mean D(G(z)): 0.12\n",
      "Epoch [19/20], Step[8100/8726], d_loss: -0.4029, g_loss: 3.3889, Mean D(x): -1.64, Mean D(G(z)): -2.05\n",
      "Epoch [19/20], Step[8400/8726], d_loss: -0.0108, g_loss: -0.1125, Mean D(x): 0.13, Mean D(G(z)): 0.12\n",
      "Epoch [19/20], Step[8700/8726], d_loss: 0.0154, g_loss: -0.1293, Mean D(x): 0.16, Mean D(G(z)): 0.18\n"
     ]
    }
   ],
   "source": [
    "# allow for manual keyboard interrupt\n",
    "try: \n",
    "    # loop through epochs\n",
    "    for epoch in range(N_EPOCHS):\n",
    "        \n",
    "        # Keep track of what critic step we're on\n",
    "        crit_steps = 0\n",
    "        \n",
    "        # Keep track of the per-epoch losses\n",
    "        epoch_g_loss = 0\n",
    "        epoch_c_loss = 0\n",
    "        \n",
    "        # loop through batches (no need for class labels right now)\n",
    "        for batch_number, (images, _) in enumerate(data_loader): \n",
    "            \n",
    "            # this specific batch size (last one may not be equal to BATCH_SIZE)\n",
    "            batch_size = images.shape[0] \n",
    "            \n",
    "            # Reshape training dataset images from (batch_size, 25, 25) to (batch_size, 25*25) for \n",
    "            # processing through fully-connected net \n",
    "            images = to_var(images.view(batch_size, -1))\n",
    "\n",
    "            # 1) TRAIN CRITIC\n",
    "            # If we haven't done enough steps, let's train the critic\n",
    "            if crit_steps < N_CRITIC_STEPS:\n",
    "                critic.zero_grad()\n",
    "                generator.zero_grad()\n",
    "        \n",
    "                # clamp parameters to a cube\n",
    "                for p in critic.parameters():\n",
    "                    p.data.clamp_(-CLAMP, CLAMP)\n",
    "\n",
    "                # Accum predictions with real images (we want the critic to output a high value here)\n",
    "                pred_real = torch.mean(critic(images))\n",
    "            \n",
    "                # Draw random 64-dimensional noise vectors as inputs to the generator network\n",
    "                z = to_var(torch.randn(batch_size, 64))\n",
    "                \n",
    "                # Transform the noise through the generator network to get synthetic images\n",
    "                fake_images = generator(z)\n",
    "                \n",
    "                # Accum predictions for fake images (we want the critic to output a low value here)\n",
    "                pred_fake = torch.mean(critic(fake_images)) \n",
    "                \n",
    "                # If we minimize this, we maximize pred_real - pred_fake\n",
    "                critic_loss = pred_fake - pred_real\n",
    "                critic_loss.backward()\n",
    "                critic_optimizer.step()\n",
    "                \n",
    "                # We increment our counter now that we've seen a critic update\n",
    "                # If we still haven't done sufficient critic updates, we'll end up here again\n",
    "                crit_steps += 1\n",
    "                \n",
    "            # 2) TRAIN GENERATOR\n",
    "            # Here we have done N_CRITIC_STEPS critic updates, so we do the generator now\n",
    "            else:\n",
    "                critic.zero_grad()\n",
    "                generator.zero_grad()\n",
    "\n",
    "                # Draw random 64-dimensional noise vectors as inputs to the generator network\n",
    "                z = to_var(torch.randn(batch_size, 64))\n",
    "                \n",
    "                # Transform the noise through the generator network to get synthetic images\n",
    "                fake_images = generator(z)\n",
    "                \n",
    "                # Accum grads with fake images (generator wants the critic to \n",
    "                # output a high value here, \"tricking\" it)\n",
    "                outputs = critic(fake_images)\n",
    "                \n",
    "                # We minimize this so we maximize the quantity we actually care about\n",
    "                generator_loss = -torch.mean(outputs)\n",
    "\n",
    "                # Backprop + Optimize the generator\n",
    "                generator_loss.backward()\n",
    "                generator_optimizer.step()\n",
    "                \n",
    "                # Reset the counter - the next batch will go to the critic!\n",
    "                crit_steps = 0\n",
    "\n",
    "                if (batch_number + 1) % 300 == 0:\n",
    "                    print('Epoch [%d/%d], Step[%d/%d], d_loss: %.4f, '\n",
    "                          'g_loss: %.4f, Mean D(x): %.2f, Mean D(G(z)): %.2f' \n",
    "                          %(epoch,\n",
    "                            N_EPOCHS,\n",
    "                            batch_number + 1,\n",
    "                            n_batches,\n",
    "                            critic_loss.data[0],\n",
    "                            generator_loss.data[0],\n",
    "                            pred_real.data.mean(),\n",
    "                            pred_fake.data.mean())\n",
    "                    )\n",
    "                    \n",
    "                # Keep track of the per-epoch losses\n",
    "                epoch_g_loss += generator_loss.data[0]\n",
    "                epoch_c_loss += critic_loss.data[0]\n",
    "                 \n",
    "        g_loss.append(epoch_g_loss)\n",
    "        c_loss.append(epoch_c_loss)\n",
    "        \n",
    "        # Save the trained parameters \n",
    "        torch.save(generator.state_dict(), './weights/wgan_generator-%0.3d.pkl' %(epoch + 1))\n",
    "        torch.save(critic.state_dict(), './weights/wgan_discriminator-%0.3d.pkl' %(epoch + 1))\n",
    "        \n",
    "except KeyboardInterrupt:\n",
    "    print 'Training ended early.'"
   ]
  },
  {
   "cell_type": "markdown",
   "metadata": {
    "deletable": true,
    "editable": true
   },
   "source": [
    "Now we can take a look at how we did."
   ]
  },
  {
   "cell_type": "code",
   "execution_count": 325,
   "metadata": {
    "collapsed": false
   },
   "outputs": [
    {
     "data": {
      "text/plain": [
       "(0, 20)"
      ]
     },
     "execution_count": 325,
     "metadata": {},
     "output_type": "execute_result"
    },
    {
     "data": {
      "image/png": "[encoded data removed]",
      "text/plain": [
       "<matplotlib.figure.Figure at 0x11dcbe2d0>"
      ]
     },
     "metadata": {},
     "output_type": "display_data"
    }
   ],
   "source": [
    "# Plot the history of the (scaled) Wasserstein distance\n",
    "_ = plt.plot([-l/n_batches for l in c_loss])\n",
    "plt.xlabel('Epoch')\n",
    "plt.ylabel(\"Negative Critic's Loss\")\n",
    "plt.xlim(0, 20)"
   ]
  },
  {
   "cell_type": "code",
   "execution_count": 324,
   "metadata": {
    "collapsed": false,
    "scrolled": false
   },
   "outputs": [
    {
     "name": "stdout",
     "output_type": "stream",
     "text": [
      "Epoch 001\n"
     ]
    },
    {
     "data": {
      "image/png": "[encoded data removed]",
      "text/plain": [
       "<matplotlib.figure.Figure at 0x11bf0ff50>"
      ]
     },
     "metadata": {},
     "output_type": "display_data"
    },
    {
     "name": "stdout",
     "output_type": "stream",
     "text": [
      "Epoch 002\n"
     ]
    },
    {
     "data": {
      "image/png": "[encoded data removed]",
      "text/plain": [
       "<matplotlib.figure.Figure at 0x11dcbe950>"
      ]
     },
     "metadata": {},
     "output_type": "display_data"
    },
    {
     "name": "stdout",
     "output_type": "stream",
     "text": [
      "Epoch 003\n"
     ]
    },
    {
     "data": {
      "image/png": "[encoded data removed]",
      "text/plain": [
       "<matplotlib.figure.Figure at 0x118b5b690>"
      ]
     },
     "metadata": {},
     "output_type": "display_data"
    },
    {
     "name": "stdout",
     "output_type": "stream",
     "text": [
      "Epoch 004\n"
     ]
    },
    {
     "data": {
      "image/png": "[encoded data removed]",
      "text/plain": [
       "<matplotlib.figure.Figure at 0x11c1e9650>"
      ]
     },
     "metadata": {},
     "output_type": "display_data"
    },
    {
     "name": "stdout",
     "output_type": "stream",
     "text": [
      "Epoch 005\n"
     ]
    },
    {
     "data": {
      "image/png": "[encoded data removed]",
      "text/plain": [
       "<matplotlib.figure.Figure at 0x12079b810>"
      ]
     },
     "metadata": {},
     "output_type": "display_data"
    },
    {
     "name": "stdout",
     "output_type": "stream",
     "text": [
      "Epoch 006\n"
     ]
    },
    {
     "data": {
      "image/png": "[encoded data removed]",
      "text/plain": [
       "<matplotlib.figure.Figure at 0x11e8a78d0>"
      ]
     },
     "metadata": {},
     "output_type": "display_data"
    },
    {
     "name": "stdout",
     "output_type": "stream",
     "text": [
      "Epoch 007\n"
     ]
    },
    {
     "data": {
      "image/png": "[encoded data removed]",
      "text/plain": [
       "<matplotlib.figure.Figure at 0x11ea23f50>"
      ]
     },
     "metadata": {},
     "output_type": "display_data"
    },
    {
     "name": "stdout",
     "output_type": "stream",
     "text": [
      "Epoch 008\n"
     ]
    },
    {
     "data": {
      "image/png": "[encoded data removed]",
      "text/plain": [
       "<matplotlib.figure.Figure at 0x11b7dc1d0>"
      ]
     },
     "metadata": {},
     "output_type": "display_data"
    },
    {
     "name": "stdout",
     "output_type": "stream",
     "text": [
      "Epoch 009\n"
     ]
    },
    {
     "data": {
      "image/png": "[encoded data removed]",
      "text/plain": [
       "<matplotlib.figure.Figure at 0x11e25cad0>"
      ]
     },
     "metadata": {},
     "output_type": "display_data"
    },
    {
     "name": "stdout",
     "output_type": "stream",
     "text": [
      "Epoch 010\n"
     ]
    },
    {
     "data": {
      "image/png": "[encoded data removed]",
      "text/plain": [
       "<matplotlib.figure.Figure at 0x11bfc6ed0>"
      ]
     },
     "metadata": {},
     "output_type": "display_data"
    },
    {
     "name": "stdout",
     "output_type": "stream",
     "text": [
      "Epoch 011\n"
     ]
    },
    {
     "data": {
      "image/png": "[encoded data removed]",
      "text/plain": [
       "<matplotlib.figure.Figure at 0x11fde0a10>"
      ]
     },
     "metadata": {},
     "output_type": "display_data"
    },
    {
     "name": "stdout",
     "output_type": "stream",
     "text": [
      "Epoch 012\n"
     ]
    },
    {
     "data": {
      "image/png": "[encoded data removed]",
      "text/plain": [
       "<matplotlib.figure.Figure at 0x11b340c50>"
      ]
     },
     "metadata": {},
     "output_type": "display_data"
    },
    {
     "name": "stdout",
     "output_type": "stream",
     "text": [
      "Epoch 013\n"
     ]
    },
    {
     "data": {
      "image/png": "[encoded data removed]",
      "text/plain": [
       "<matplotlib.figure.Figure at 0x11dc6fe90>"
      ]
     },
     "metadata": {},
     "output_type": "display_data"
    },
    {
     "name": "stdout",
     "output_type": "stream",
     "text": [
      "Epoch 014\n"
     ]
    },
    {
     "data": {
      "image/png": "[encoded data removed]",
      "text/plain": [
       "<matplotlib.figure.Figure at 0x11c112c10>"
      ]
     },
     "metadata": {},
     "output_type": "display_data"
    },
    {
     "name": "stdout",
     "output_type": "stream",
     "text": [
      "Epoch 015\n"
     ]
    },
    {
     "data": {
      "image/png": "[encoded data removed]",
      "text/plain": [
       "<matplotlib.figure.Figure at 0x11bce4790>"
      ]
     },
     "metadata": {},
     "output_type": "display_data"
    },
    {
     "name": "stdout",
     "output_type": "stream",
     "text": [
      "Epoch 016\n"
     ]
    },
    {
     "data": {
      "image/png": "[encoded data removed]",
      "text/plain": [
       "<matplotlib.figure.Figure at 0x11c7b7ed0>"
      ]
     },
     "metadata": {},
     "output_type": "display_data"
    },
    {
     "name": "stdout",
     "output_type": "stream",
     "text": [
      "Epoch 017\n"
     ]
    },
    {
     "data": {
      "image/png": "[encoded data removed]",
      "text/plain": [
       "<matplotlib.figure.Figure at 0x11fd53810>"
      ]
     },
     "metadata": {},
     "output_type": "display_data"
    },
    {
     "name": "stdout",
     "output_type": "stream",
     "text": [
      "Epoch 018\n"
     ]
    },
    {
     "data": {
      "image/png": "[encoded data removed]",
      "text/plain": [
       "<matplotlib.figure.Figure at 0x11f8f8190>"
      ]
     },
     "metadata": {},
     "output_type": "display_data"
    },
    {
     "name": "stdout",
     "output_type": "stream",
     "text": [
      "Epoch 019\n"
     ]
    },
    {
     "data": {
      "image/png": "[encoded data removed]",
      "text/plain": [
       "<matplotlib.figure.Figure at 0x11a64bc10>"
      ]
     },
     "metadata": {},
     "output_type": "display_data"
    },
    {
     "name": "stdout",
     "output_type": "stream",
     "text": [
      "Epoch 020\n"
     ]
    },
    {
     "data": {
      "image/png": "[encoded data removed]",
      "text/plain": [
       "<matplotlib.figure.Figure at 0x11a543fd0>"
      ]
     },
     "metadata": {},
     "output_type": "display_data"
    }
   ],
   "source": [
    "# Visual inspection \n",
    "for _w in glob.glob('./weights/wgan_generator-*'):\n",
    "    print 'Epoch ' + _w.split('-')[-1].split('.')[0]\n",
    "    \n",
    "    # load weights into G\n",
    "    generator.load_state_dict(torch.load(_w))\n",
    "    \n",
    "    # produce a batch of fake images\n",
    "    batch_size = 100\n",
    "    z = to_var(torch.randn(batch_size, 64))\n",
    "    fake_images = generator(z).data.numpy().reshape(-1, 25, 25)\n",
    "    \n",
    "    # plot a few of them\n",
    "    plot_random_jetimages(fake_images, njets=10)\n",
    "    plt.show()"
   ]
  },
  {
   "cell_type": "markdown",
   "metadata": {},
   "source": [
    "Let's investigate the performance further at a given epoch."
   ]
  },
  {
   "cell_type": "code",
   "execution_count": 326,
   "metadata": {
    "collapsed": true
   },
   "outputs": [],
   "source": [
    "# load in a different epoch if you want\n",
    "generator.load_state_dict(torch.load('weights/wgan_generator-020.pkl'))"
   ]
  },
  {
   "cell_type": "code",
   "execution_count": 327,
   "metadata": {
    "collapsed": true,
    "deletable": true,
    "editable": true
   },
   "outputs": [],
   "source": [
    "batch_size = 100\n",
    "z = to_var(torch.randn(batch_size, 64)) # sample noise\n",
    "fake_images = generator(z).data # pass it thru the generator to produce images\n",
    "\n",
    "# move to cpu if running on gpu\n",
    "if torch.cuda.is_available():\n",
    "    fake_images = fake_images.cpu()\n",
    "    \n",
    "# reshape images from [batch_size, 625] to [batch_size, 25, 25]\n",
    "fake_images = fake_images.numpy().reshape(-1, 25, 25)"
   ]
  },
  {
   "cell_type": "code",
   "execution_count": 336,
   "metadata": {
    "collapsed": false,
    "deletable": true,
    "editable": true
   },
   "outputs": [
    {
     "data": {
      "image/png": "[encoded data removed]",
      "text/plain": [
       "<matplotlib.figure.Figure at 0x118562f10>"
      ]
     },
     "metadata": {},
     "output_type": "display_data"
    }
   ],
   "source": [
    "plot_random_jetimages(fake_images)"
   ]
  },
  {
   "cell_type": "code",
   "execution_count": 337,
   "metadata": {
    "collapsed": false,
    "deletable": true,
    "editable": true
   },
   "outputs": [
    {
     "data": {
      "image/png": "[encoded data removed]",
      "text/plain": [
       "<matplotlib.figure.Figure at 0x118562a10>"
      ]
     },
     "metadata": {},
     "output_type": "display_data"
    }
   ],
   "source": [
    "# compare to training dataset\n",
    "plot_random_jetimages(data_loader.dataset.images)"
   ]
  },
  {
   "cell_type": "markdown",
   "metadata": {},
   "source": [
    "Let's look at a few image properties."
   ]
  },
  {
   "cell_type": "code",
   "execution_count": 331,
   "metadata": {
    "collapsed": false,
    "deletable": true,
    "editable": true
   },
   "outputs": [
    {
     "data": {
      "text/plain": [
       "<matplotlib.text.Text at 0x11aafb7d0>"
      ]
     },
     "execution_count": 331,
     "metadata": {},
     "output_type": "execute_result"
    },
    {
     "data": {
      "image/png": "[encoded data removed]",
      "text/plain": [
       "<matplotlib.figure.Figure at 0x11e30af90>"
      ]
     },
     "metadata": {},
     "output_type": "display_data"
    }
   ],
   "source": [
    "# plot the distances for the real and GAN-generated dataset\n",
    "bins = np.linspace(0, 55000, 15)\n",
    "_ = plt.hist(distances(data_loader.dataset.images[:batch_size]),\n",
    "             bins=bins, histtype='stepfilled', label='real', color='green', alpha=0.1)\n",
    "_ = plt.hist(distances(fake_images), bins=bins, histtype='step', label='WGAN', color='red')\n",
    "plt.legend()\n",
    "plt.xlabel('Pairwise Euclidean distance')\n",
    "plt.ylabel('Number of events')"
   ]
  },
  {
   "cell_type": "code",
   "execution_count": 332,
   "metadata": {
    "collapsed": false,
    "deletable": true,
    "editable": true
   },
   "outputs": [
    {
     "data": {
      "text/plain": [
       "<matplotlib.text.Text at 0x11b9a9710>"
      ]
     },
     "execution_count": 332,
     "metadata": {},
     "output_type": "execute_result"
    },
    {
     "data": {
      "image/png": "[encoded data removed]",
      "text/plain": [
       "<matplotlib.figure.Figure at 0x119f5c0d0>"
      ]
     },
     "metadata": {},
     "output_type": "display_data"
    }
   ],
   "source": [
    "bins = np.linspace(0, 200, 15)\n",
    "_ = plt.hist(discrete_mass(data_loader.dataset.images[:batch_size]),\n",
    "             histtype='stepfilled', bins=bins, label='WGAN', color='green', alpha=0.1)\n",
    "_ = plt.hist(discrete_mass(fake_images), histtype='step', bins=bins, label='real', color='red')\n",
    "plt.legend()\n",
    "plt.xlabel('Jet mass')\n",
    "plt.ylabel('Number of events')"
   ]
  },
  {
   "cell_type": "code",
   "execution_count": 333,
   "metadata": {
    "collapsed": false,
    "deletable": true,
    "editable": true
   },
   "outputs": [
    {
     "data": {
      "text/plain": [
       "<matplotlib.text.Text at 0x11ea1b550>"
      ]
     },
     "execution_count": 333,
     "metadata": {},
     "output_type": "execute_result"
    },
    {
     "data": {
      "image/png": "[encoded data removed]",
      "text/plain": [
       "<matplotlib.figure.Figure at 0x11e9be690>"
      ]
     },
     "metadata": {},
     "output_type": "display_data"
    }
   ],
   "source": [
    "bins = np.linspace(0, 1000, 15)\n",
    "_ = plt.hist(discrete_pt(data_loader.dataset.images[:batch_size]),\n",
    "             histtype='stepfilled', bins=bins, label='real', color='green', alpha=0.1)\n",
    "_ = plt.hist(discrete_pt(fake_images), histtype='step', bins=bins, label='WGAN', color='red')\n",
    "plt.legend()\n",
    "plt.xlabel('Jet pT')\n",
    "plt.ylabel('Number of events')"
   ]
  },
  {
   "cell_type": "code",
   "execution_count": 334,
   "metadata": {
    "collapsed": false,
    "deletable": true,
    "editable": true
   },
   "outputs": [
    {
     "data": {
      "text/plain": [
       "<matplotlib.legend.Legend at 0x11bcb2bd0>"
      ]
     },
     "execution_count": 334,
     "metadata": {},
     "output_type": "execute_result"
    },
    {
     "data": {
      "image/png": "[encoded data removed]",
      "text/plain": [
       "<matplotlib.figure.Figure at 0x11bbc0bd0>"
      ]
     },
     "metadata": {},
     "output_type": "display_data"
    }
   ],
   "source": [
    "bins=np.linspace(0, 300, 50)\n",
    "_ = plt.hist(data_loader.dataset.images[:batch_size].ravel(),\n",
    "             bins=bins, histtype='stepfilled', color='green', alpha=0.1, label='real')\n",
    "_ = plt.hist(fake_images.ravel(), bins=bins, histtype='step', color='red', label='WGAN')\n",
    "\n",
    "plt.xlabel('Pixel Intensity')\n",
    "plt.ylabel('Number of Pixels')\n",
    "plt.yscale('log')\n",
    "plt.legend()"
   ]
  },
  {
   "cell_type": "code",
   "execution_count": 335,
   "metadata": {
    "collapsed": false,
    "deletable": true,
    "editable": true
   },
   "outputs": [
    {
     "data": {
      "image/png": "[encoded data removed]",
      "text/plain": [
       "<matplotlib.figure.Figure at 0x11ada4150>"
      ]
     },
     "metadata": {},
     "output_type": "display_data"
    }
   ],
   "source": [
    "bins=np.logspace(-21, 3, 50)\n",
    "_ = plt.hist(data_loader.dataset.images[:batch_size].ravel(),\n",
    "             bins=bins, histtype='stepfilled', color='green', alpha=0.1, label='real')\n",
    "_ = plt.hist(fake_images.ravel(), bins=bins, histtype='step', color='red', label='WGAN')\n",
    "\n",
    "plt.xlabel('Pixel Intensity')\n",
    "plt.ylabel('Number of Pixels')\n",
    "plt.yscale('log')\n",
    "plt.xscale('log')"
   ]
  },
  {
   "cell_type": "markdown",
   "metadata": {},
   "source": [
    "### Suggestions"
   ]
  },
  {
   "cell_type": "markdown",
   "metadata": {},
   "source": [
    "Try Locally-Connected layers. While training our LAGAN model (https://arxiv.org/abs/1701.05927), we found them to perform best on jet-images, providing us with a useful compromise between convolutional and fully connected layers."
   ]
  },
  {
   "cell_type": "markdown",
   "metadata": {},
   "source": [
    "Not merged into PyTorch's master yet, but here's the code from the PR (I haven't tested it yet):\n",
    "```python\n",
    "class Conv2dLocal(Module):\n",
    "\n",
    "    def __init__(self, in_height, in_width, in_channels, out_channels,\n",
    "                 kernel_size, stride=1, padding=0, bias=True, dilation=1):\n",
    "        # kernel_size = _pair(kernel_size)\n",
    "        # stride = _pair(stride)\n",
    "        # padding = _pair(padding)\n",
    "        # dilation = _pair(dilation)\n",
    "        # super(Conv2dLocal, self).__init__(\n",
    "        #     in_channels, out_channels, kernel_size, stride, padding, dilation,\n",
    "        #     False, _single(0), 1, bias)\n",
    "        super(Conv2dLocal, self).__init__()\n",
    "\n",
    "        self.in_channels = in_channels\n",
    "        self.out_channels = out_channels\n",
    "        self.kernel_size = _pair(kernel_size)\n",
    "        self.stride = _pair(stride)\n",
    "        self.padding = _pair(padding)\n",
    "        self.dilation = _pair(dilation)\n",
    "\n",
    "        self.in_height = in_height\n",
    "        self.in_width = in_width\n",
    "        self.out_height = int(math.floor(\n",
    "            (in_height + 2 * self.padding[0] - self.dilation[0] * (self.kernel_size[0] - 1) - 1) / self.stride[0] + 1))\n",
    "        self.out_width = int(math.floor(\n",
    "            (in_width + 2 * self.padding[1] - self.dilation[1] * (self.kernel_size[1] - 1) - 1) / self.stride[1] + 1))\n",
    "        self.weight = Parameter(torch.Tensor(\n",
    "            self.out_height, self.out_width,\n",
    "            out_channels, in_channels, *self.kernel_size))\n",
    "        if bias:\n",
    "            self.bias = Parameter(torch.Tensor(\n",
    "                out_channels, self.out_height, self.out_width))\n",
    "        else:\n",
    "            self.register_parameter('bias', None)\n",
    "\n",
    "        self.reset_parameters()\n",
    "\n",
    "    def reset_parameters(self):\n",
    "        n = self.in_channels\n",
    "        for k in self.kernel_size:\n",
    "            n *= k\n",
    "        stdv = 1. / math.sqrt(n)\n",
    "        self.weight.data.uniform_(-stdv, stdv)\n",
    "        if self.bias is not None:\n",
    "            self.bias.data.uniform_(-stdv, stdv)\n",
    "\n",
    "    def forward(self, input):\n",
    "        return F.conv2d_local(input, self.weight, self.bias, stride=self.stride, padding=self.padding, dilation=self.dilation)\n",
    "```"
   ]
  },
  {
   "cell_type": "markdown",
   "metadata": {},
   "source": [
    "Our architecture for LAGAN looked like this.\n",
    "<img src=\"lagan.png\">\n",
    "If you feel like re-implementing it in PyTorch, send us a PR!"
   ]
  },
  {
   "cell_type": "markdown",
   "metadata": {},
   "source": [
    "2) Use Gradient Penalty (WGAN-GP) instead of weight clipping, as suggested in \"Improved Training of Wasserstein GANs\".\n",
    "This snippet is adapted from https://github.com/caogang/wgan-gp"
   ]
  },
  {
   "cell_type": "code",
   "execution_count": 338,
   "metadata": {
    "collapsed": true
   },
   "outputs": [],
   "source": [
    "LAMBDA = 10 # Gradient penalty lambda hyperparameter\n",
    "\n",
    "def calc_gradient_penalty(D, real_data, fake_data, batch_size):\n",
    "    \n",
    "    alpha = torch.rand(batch_size, 1)\n",
    "    alpha = alpha.expand(real_data.size())\n",
    "    alpha = alpha.cuda() if torch.cuda.is_available() else alpha # for gpu\n",
    "\n",
    "    # find new data points by interpolating between real and fake samples\n",
    "    interpolates = alpha * real_data + ((1 - alpha) * fake_data)\n",
    "    if torch.cuda.is_available():\n",
    "        interpolates = interpolates.cuda()  \n",
    "    interpolates = autograd.Variable(interpolates, requires_grad=True)\n",
    "\n",
    "    predictions = D(interpolates)\n",
    "\n",
    "    gradients = autograd.grad(\n",
    "        outputs=predictions,\n",
    "        inputs=interpolates,\n",
    "        grad_outputs=torch.ones(predictions.size()).cuda() if torch.cuda.is_available()\n",
    "                else torch.ones(predictions.size()),\n",
    "        create_graph=True,\n",
    "        retain_graph=True,\n",
    "        only_inputs=True)[0]\n",
    "\n",
    "    gradient_penalty = ((gradients.norm(2, dim=1) - 1) ** 2).mean() * LAMBDA\n",
    "    return gradient_penalty"
   ]
  },
  {
   "cell_type": "markdown",
   "metadata": {},
   "source": [
    "Caluclate the GP while training your discriminator and add it to the D's loss:\n",
    "```python\n",
    "gradient_penalty = calc_gradient_penalty(critic, images.data, fake_images.data)\n",
    "critic_loss = pred_fake - pred_real + gradient_penalty\n",
    "```"
   ]
  },
  {
   "cell_type": "markdown",
   "metadata": {},
   "source": [
    "### Tricks"
   ]
  },
  {
   "cell_type": "code",
   "execution_count": 210,
   "metadata": {
    "collapsed": true
   },
   "outputs": [],
   "source": [
    "def add_instance_noise(images, std=0.1):\n",
    "    '''\n",
    "    add normal noise to images\n",
    "    '''\n",
    "    noise = Variable(std * torch.randn(images.shape))\n",
    "    return images + noise"
   ]
  },
  {
   "cell_type": "code",
   "execution_count": null,
   "metadata": {
    "collapsed": true
   },
   "outputs": [],
   "source": [
    "def label_flip(x, p=0.05):\n",
    "    '''\n",
    "    bit flip with some probability\n",
    "    Args:\n",
    "    ----\n",
    "        x = torch.FloatTensor\n",
    "        p = float, probability of flip\n",
    "    Returns:\n",
    "    --------\n",
    "        x_new = torch.FloatTensor\n",
    "    '''\n",
    "    x_new = x.clone()\n",
    "    selection = torch.rand(x_new.shape) < prob\n",
    "    x_new[selection] = (x_new[selection].type(torch.ByteTensor)^1).type(torch.FloatTensor)\n",
    "    return x_new"
   ]
  },
  {
   "cell_type": "code",
   "execution_count": null,
   "metadata": {
    "collapsed": true
   },
   "outputs": [],
   "source": [
    "def label_smoothe(x, p=0.05, smoothing_param=0.3):\n",
    "    '''\n",
    "    label smoothing with some probability\n",
    "    Args:\n",
    "    ----\n",
    "        x = torch.FloatTensor\n",
    "        p = float, probability of an entry being selected for smoothing\n",
    "        smoothing_param = float, max amount of variation\n",
    "    Returns:\n",
    "    --------\n",
    "        x_new = torch.FloatTensor\n",
    "    '''\n",
    "    x_new = x.clone()\n",
    "    selection = torch.rand(x_new.shape) < prob\n",
    "    smoothing = torch.rand(selection.sum()) * smoothing_param\n",
    "    x_new[selection] = torch.abs(x_new[selection] - smoothing)\n",
    "    return x_new"
   ]
  },
  {
   "cell_type": "code",
   "execution_count": null,
   "metadata": {
    "collapsed": true
   },
   "outputs": [],
   "source": [
    "# from t-ae (https://gist.github.com/t-ae/732f78671643de97bbe2c46519972491)\n",
    "class MinibatchDiscrimination(nn.Module):\n",
    "    def __init__(self, in_features, out_features, kernel_dims, mean=False):\n",
    "        super().__init__()\n",
    "        self.in_features = in_features\n",
    "        self.out_features = out_features\n",
    "        self.kernel_dims = kernel_dims\n",
    "        self.mean = mean\n",
    "        # trainable tensor T\n",
    "        self.T = nn.Parameter(torch.Tensor(in_features, out_features, kernel_dims))\n",
    "        init.normal(self.T, 0, 1)\n",
    "\n",
    "    def forward(self, x):\n",
    "        # x is NxA\n",
    "        # T is AxBxC\n",
    "        matrices = x.mm(self.T.view(self.in_features, -1)) # x * T\n",
    "        matrices = matrices.view(-1, self.out_features, self.kernel_dims)\n",
    "\n",
    "        M = matrices.unsqueeze(0)  # 1xNxBxC\n",
    "        M_T = M.permute(1, 0, 2, 3)  # Nx1xBxC\n",
    "        norm = torch.abs(M - M_T).sum(3)  # NxNxB\n",
    "        expnorm = torch.exp(-norm)\n",
    "        o_b = (expnorm.sum(0) - 1)   # NxB, subtract self distance\n",
    "        if self.mean:\n",
    "            o_b /= x.size(0) - 1\n",
    "\n",
    "        x = torch.cat([x, o_b], 1)\n",
    "        return x"
   ]
  },
  {
   "cell_type": "code",
   "execution_count": null,
   "metadata": {
    "collapsed": true
   },
   "outputs": [],
   "source": [
    "def feature_matching(hidden, batch_weights):\n",
    "    '''\n",
    "    Augment your hidden features with batch_level statistics.\n",
    "    These can be used to help the discriminator classify real vs fake.\n",
    "    Alternatively, you can use these features to add a term to the loss of the form:\n",
    "    ||f(x_real) - f(x_fake)||^2\n",
    "    \n",
    "    If your events are weighted, make sure to use batch_weights to compute the correct mean and std.\n",
    "    '''\n",
    "    batch_mean = batch_weights.mm(hidden).expand(batch_size, hidden.shape[-1])\n",
    "    batch_second_moment = batch_weights.mm(torch.pow(hidden, 2)).expand(batch_size, hidden.shape[-1])\n",
    "    batch_std = batch_second_moment - torch.pow(batch_mean, 2)\n",
    "    \n",
    "    # concatenate all features\n",
    "    all_features = torch.cat([batch_mean, batch_std, hidden], 1)\n",
    "    return all_features"
   ]
  },
  {
   "cell_type": "markdown",
   "metadata": {
    "deletable": true,
    "editable": true
   },
   "source": [
    "### Conclusions\n",
    "\n",
    "We have seen that WGANs add some stability, but out of the box models cannot take us all the way. Other tricks in the literature have helped stabilize normal GANs as well. It is likely that you'll have to adopt some of thos tricks or come up with your own to make these models work on your specific application."
   ]
  },
  {
   "cell_type": "markdown",
   "metadata": {},
   "source": [
    "### Class Conditioning"
   ]
  },
  {
   "cell_type": "markdown",
   "metadata": {},
   "source": [
    "There have been several proposed ways of effectively using labels to condition generation (and sometimes improve the training altogether). \n",
    "<img src=\"https://raw.githubusercontent.com/gitlimlab/ACGAN-PyTorch/master/figs/architecture.png\">"
   ]
  },
  {
   "cell_type": "markdown",
   "metadata": {},
   "source": [
    "Our DataLoader yields both images and labels for each batch. In this tutorial, we did not use class labels, but if you decide to use them for conditioning, simply relace \n",
    "```python\n",
    "for batch_number, (images, _) in enumerate(data_loader):\n",
    "```\n",
    "with\n",
    "\n",
    "```python\n",
    "for batch_number, (images, labels) in enumerate(data_loader):\n",
    "```\n",
    "\n",
    "Then, make sure to modify either your Generator (C-GAN, InfoGAN, AC-GAN) to take in a class label/embedding in addition to the input noise, or your Discriminator (Semi-Supervised GAN, InfoGAN, AC-GAN) to make sure the output is consistent with their formulation.\n",
    "\n",
    "For example, in AC-GAN: randomly sample labels to request to your Generator (or get the labels from the dataloader in the case of the real training dataset), then make sure the Discriminator can correctly classify the images according to their label (here W vs QCD). This would require adding a cross-entropy term to your losses that both G and D try to minimize."
   ]
  },
  {
   "cell_type": "markdown",
   "metadata": {
    "deletable": true,
    "editable": true
   },
   "source": [
    "### Other Resources and Examples"
   ]
  },
  {
   "cell_type": "markdown",
   "metadata": {},
   "source": [
    "* PyTorch DCGAN (Deep Convolutional GAN): https://github.com/pytorch/examples/tree/master/dcgan\n",
    "* PyTorch VAE (Variational Auto-Encoder): https://github.com/pytorch/examples/tree/master/vae\n",
    "* \"How to Train a GAN? Tips and tricks to make GANs work\": https://github.com/soumith/ganhacks"
   ]
  },
  {
   "cell_type": "code",
   "execution_count": null,
   "metadata": {
    "collapsed": true
   },
   "outputs": [],
   "source": []
  }
 ],
 "metadata": {
  "kernelspec": {
   "display_name": "Python 2",
   "language": "python",
   "name": "python2"
  },
  "language_info": {
   "codemirror_mode": {
    "name": "ipython",
    "version": 2
   },
   "file_extension": ".py",
   "mimetype": "text/x-python",
   "name": "python",
   "nbconvert_exporter": "python",
   "pygments_lexer": "ipython2",
   "version": "2.7.10"
  },
  "latex_envs": {
   "bibliofile": "biblio.bib",
   "cite_by": "apalike",
   "current_citInitial": 1,
   "eqLabelWithNumbers": true,
   "eqNumInitial": 0
  }
 },
 "nbformat": 4,
 "nbformat_minor": 2
}
